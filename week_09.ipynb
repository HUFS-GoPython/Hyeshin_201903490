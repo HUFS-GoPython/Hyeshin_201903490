{
 "cells": [
  {
   "cell_type": "markdown",
   "id": "0075c221",
   "metadata": {},
   "source": [
    "## Dictionary\n",
    "\n",
    "- 영어 사전\n",
    "    - 단어: 뜻\n",
    "    - 키: 값\n",
    "    - 순서가 없음 => 인덱싱 불가능\n",
    "    - 키로 값을 찾음\n",
    "        - 키는 중복되지 않는 고유한 값\n",
    "    - 가변: 수정, 삭제, 추가 가능\n",
    "    - 타입: dict\n",
    "    - 형변환: dict()\n",
    "    - 중괄호 사용{}, 콤마로 구분함\n",
    "    - 값에 다양한 자료구조 올 수 있음"
   ]
  },
  {
   "cell_type": "code",
   "execution_count": 5,
   "id": "66bc4174",
   "metadata": {},
   "outputs": [],
   "source": [
    "# dic type\n",
    "\n",
    "empty = dict()\n",
    "empty = {}\n",
    "a = {1, 2, 3}\n",
    "\n",
    "# set type\n",
    "\n",
    "empty = set()\n",
    "a = {1:'apple', 2:'banana', 3:'kiwi'}"
   ]
  },
  {
   "cell_type": "code",
   "execution_count": 7,
   "id": "81e26368",
   "metadata": {},
   "outputs": [],
   "source": [
    "# dic type 선언 방법\n",
    "b = {'':'', '':'', '':''}\n",
    "b = dict(apple='a', banana='b', kiwi='c')"
   ]
  },
  {
   "cell_type": "markdown",
   "id": "4c532519",
   "metadata": {},
   "source": [
    "<br>"
   ]
  },
  {
   "cell_type": "markdown",
   "id": "17bebc90",
   "metadata": {},
   "source": [
    "### 출석부로 딕셔너리 만들기\n",
    "- 이름, 학번, 학과\n",
    "- james 202201 경제학과\n",
    "- laura 202203 스페인어과\n",
    "- louis 202202 컴공과"
   ]
  },
  {
   "cell_type": "code",
   "execution_count": 4,
   "id": "f8b58cb0",
   "metadata": {},
   "outputs": [],
   "source": [
    "attendance = {'james':'202201 경제학과', 'laura':'202203 스페인어과', 'louis':'202202 컴공과'}"
   ]
  },
  {
   "cell_type": "code",
   "execution_count": 8,
   "id": "407e676d",
   "metadata": {},
   "outputs": [],
   "source": [
    "# 이름은 중복될 수 있으므로 key는 학번으로 해야 함!\n",
    "\n",
    "attendace = {202201:['james', '경제학과'], 202203:['laura', '스페인어'], 202202:['louis', '컴공과']}"
   ]
  },
  {
   "cell_type": "markdown",
   "id": "3f0693a5",
   "metadata": {},
   "source": [
    "<br>"
   ]
  },
  {
   "cell_type": "markdown",
   "id": "1d6db3fc",
   "metadata": {},
   "source": [
    "<br>"
   ]
  },
  {
   "cell_type": "markdown",
   "id": "3387980f",
   "metadata": {},
   "source": [
    "## 형 변환\n",
    "- pair가 있을 때 형 변환 가능"
   ]
  },
  {
   "cell_type": "code",
   "execution_count": 9,
   "id": "8fc742b7",
   "metadata": {},
   "outputs": [
    {
     "data": {
      "text/plain": [
       "{1: 2, 2: 3, 3: 4}"
      ]
     },
     "execution_count": 9,
     "metadata": {},
     "output_type": "execute_result"
    }
   ],
   "source": [
    "ex1 = [[1,2], [2,3], [3,4]]\n",
    "dict(ex1)"
   ]
  },
  {
   "cell_type": "code",
   "execution_count": 10,
   "id": "3a1a89be",
   "metadata": {},
   "outputs": [
    {
     "data": {
      "text/plain": [
       "{1: 4, 2: 3}"
      ]
     },
     "execution_count": 10,
     "metadata": {},
     "output_type": "execute_result"
    }
   ],
   "source": [
    "# key 값이 중복되면 출력 안함\n",
    "\n",
    "ex1 = [[1,2], [2,3], [1,4]]\n",
    "dict(ex1)"
   ]
  },
  {
   "cell_type": "code",
   "execution_count": 11,
   "id": "b16052c0",
   "metadata": {},
   "outputs": [
    {
     "data": {
      "text/plain": [
       "{'a': 'b', 'b': 'c', 'c': 'd'}"
      ]
     },
     "execution_count": 11,
     "metadata": {},
     "output_type": "execute_result"
    }
   ],
   "source": [
    "ex3 = ['ab', 'bc', 'cd']\n",
    "dict(ex3)"
   ]
  },
  {
   "cell_type": "markdown",
   "id": "37c6bc09",
   "metadata": {},
   "source": [
    "<br>"
   ]
  },
  {
   "cell_type": "markdown",
   "id": "b4f5e2d6",
   "metadata": {},
   "source": [
    "<br>"
   ]
  },
  {
   "cell_type": "markdown",
   "id": "21ec4b1d",
   "metadata": {},
   "source": [
    "## 항목 조회&변경"
   ]
  },
  {
   "cell_type": "code",
   "execution_count": 13,
   "id": "800eacc9",
   "metadata": {},
   "outputs": [],
   "source": [
    "pythons = {\n",
    "    'Chapman': 'Graham',\n",
    "    'Cleese': 'John',\n",
    "    'Idle': 'Eric',\n",
    "    'Jones': 'Terry',\n",
    "    'Palin': 'Michael'\n",
    "}"
   ]
  },
  {
   "cell_type": "code",
   "execution_count": 14,
   "id": "ad21f30d",
   "metadata": {},
   "outputs": [
    {
     "data": {
      "text/plain": [
       "'Eric'"
      ]
     },
     "execution_count": 14,
     "metadata": {},
     "output_type": "execute_result"
    }
   ],
   "source": [
    "pythons['Idle']"
   ]
  },
  {
   "cell_type": "code",
   "execution_count": 17,
   "id": "c1ad54b4",
   "metadata": {},
   "outputs": [
    {
     "data": {
      "text/plain": [
       "{'Chapman': 'Graham',\n",
       " 'Cleese': 'John',\n",
       " 'Idle': 'James',\n",
       " 'Jones': 'Terry',\n",
       " 'Palin': 'Michael',\n",
       " 'Hwa': 'Chloe'}"
      ]
     },
     "execution_count": 17,
     "metadata": {},
     "output_type": "execute_result"
    }
   ],
   "source": [
    "# 변경\n",
    "\n",
    "pythons['Idle'] = 'James'\n",
    "pythons"
   ]
  },
  {
   "cell_type": "code",
   "execution_count": 18,
   "id": "1c4be7cc",
   "metadata": {},
   "outputs": [
    {
     "data": {
      "text/plain": [
       "{'Chapman': 'Graham',\n",
       " 'Cleese': 'John',\n",
       " 'Idle': 'James',\n",
       " 'Jones': 'Terry',\n",
       " 'Palin': 'Michael',\n",
       " 'Hwa': 'Chloe'}"
      ]
     },
     "execution_count": 18,
     "metadata": {},
     "output_type": "execute_result"
    }
   ],
   "source": [
    "# 추가\n",
    "pythons['Hwa'] = 'Chloe'\n",
    "pythons"
   ]
  },
  {
   "cell_type": "code",
   "execution_count": 19,
   "id": "1a5b372c",
   "metadata": {},
   "outputs": [
    {
     "data": {
      "text/plain": [
       "True"
      ]
     },
     "execution_count": 19,
     "metadata": {},
     "output_type": "execute_result"
    }
   ],
   "source": [
    "# 예외 없이 하려면\n",
    "\n",
    "'Hwa' in pythons # 확인"
   ]
  },
  {
   "cell_type": "code",
   "execution_count": 20,
   "id": "e8c7ead1",
   "metadata": {},
   "outputs": [
    {
     "data": {
      "text/plain": [
       "0"
      ]
     },
     "execution_count": 20,
     "metadata": {},
     "output_type": "execute_result"
    }
   ],
   "source": [
    "# get() 사용\n",
    "pythons.get('Lee', 0) # 없는 거는 None, 혹은 지정값으로 반환"
   ]
  },
  {
   "cell_type": "markdown",
   "id": "f2a033db",
   "metadata": {},
   "source": [
    "<br>"
   ]
  },
  {
   "cell_type": "markdown",
   "id": "9993bd5d",
   "metadata": {},
   "source": [
    "<br>"
   ]
  },
  {
   "cell_type": "markdown",
   "id": "cb7937e8",
   "metadata": {},
   "source": [
    "\n",
    "## 전체조회\n",
    "- keys()\n",
    "- values()\n",
    "- items()"
   ]
  },
  {
   "cell_type": "code",
   "execution_count": 25,
   "id": "231c25b3",
   "metadata": {},
   "outputs": [
    {
     "data": {
      "text/plain": [
       "dict_keys(['Chapman', 'Cleese', 'Idle', 'Jones', 'Palin', 'Hwa'])"
      ]
     },
     "execution_count": 25,
     "metadata": {},
     "output_type": "execute_result"
    }
   ],
   "source": [
    "pythons.keys() # 출력형태가 list같아 보이지만 list는 아님, list로 쓰고 싶으면 형변환 필요"
   ]
  },
  {
   "cell_type": "code",
   "execution_count": 26,
   "id": "0685c006",
   "metadata": {},
   "outputs": [
    {
     "data": {
      "text/plain": [
       "dict_values(['Graham', 'John', 'James', 'Terry', 'Michael', 'Chloe'])"
      ]
     },
     "execution_count": 26,
     "metadata": {},
     "output_type": "execute_result"
    }
   ],
   "source": [
    "pythons.values()"
   ]
  },
  {
   "cell_type": "code",
   "execution_count": 27,
   "id": "1135359d",
   "metadata": {},
   "outputs": [
    {
     "data": {
      "text/plain": [
       "dict_items([('Chapman', 'Graham'), ('Cleese', 'John'), ('Idle', 'James'), ('Jones', 'Terry'), ('Palin', 'Michael'), ('Hwa', 'Chloe')])"
      ]
     },
     "execution_count": 27,
     "metadata": {},
     "output_type": "execute_result"
    }
   ],
   "source": [
    "pythons.items()"
   ]
  },
  {
   "cell_type": "code",
   "execution_count": 28,
   "id": "c3d7ba96",
   "metadata": {},
   "outputs": [
    {
     "name": "stdout",
     "output_type": "stream",
     "text": [
      "Chapman = Graham\n",
      "Cleese = John\n",
      "Idle = James\n",
      "Jones = Terry\n",
      "Palin = Michael\n",
      "Hwa = Chloe\n"
     ]
    }
   ],
   "source": [
    "for k, v in pythons.items():\n",
    "    print(f'{k} = {v}')"
   ]
  },
  {
   "cell_type": "code",
   "execution_count": 29,
   "id": "c3436f2f",
   "metadata": {},
   "outputs": [
    {
     "data": {
      "text/plain": [
       "[{'Chapman', 'Graham'},\n",
       " {'Cleese', 'John'},\n",
       " {'Idle', 'James'},\n",
       " {'Jones', 'Terry'},\n",
       " {'Michael', 'Palin'},\n",
       " {'Chloe', 'Hwa'}]"
      ]
     },
     "execution_count": 29,
     "metadata": {},
     "output_type": "execute_result"
    }
   ],
   "source": [
    "[{k,v} for k, v in pythons.items()]"
   ]
  },
  {
   "cell_type": "code",
   "execution_count": 31,
   "id": "702657bc",
   "metadata": {},
   "outputs": [
    {
     "data": {
      "text/plain": [
       "['Graham', 'John', 'James', 'Terry', 'Michael', 'Chloe']"
      ]
     },
     "execution_count": 31,
     "metadata": {},
     "output_type": "execute_result"
    }
   ],
   "source": [
    "[k[1] for k in pythons.items()] # 튜플로 되어 있어서 인덱스 접근이 가능"
   ]
  },
  {
   "cell_type": "code",
   "execution_count": 33,
   "id": "e53c9177",
   "metadata": {},
   "outputs": [
    {
     "data": {
      "text/plain": [
       "['Chapman', 'Cleese', 'Idle', 'Jones', 'Palin', 'Hwa']"
      ]
     },
     "execution_count": 33,
     "metadata": {},
     "output_type": "execute_result"
    }
   ],
   "source": [
    "[k for k in pythons] # 아무 것도 없이 돌면 key값만 나옴"
   ]
  },
  {
   "cell_type": "markdown",
   "id": "a6ffb670",
   "metadata": {},
   "source": [
    "<br>"
   ]
  },
  {
   "cell_type": "markdown",
   "id": "48f348c4",
   "metadata": {},
   "source": [
    "<br>"
   ]
  },
  {
   "cell_type": "markdown",
   "id": "43436ff6",
   "metadata": {},
   "source": [
    "## ex_1  \n",
    "- animal: num_leg 딕셔너리를 만드시오."
   ]
  },
  {
   "cell_type": "code",
   "execution_count": 2,
   "id": "da777d76",
   "metadata": {},
   "outputs": [],
   "source": [
    "animal = 'cat snake monkey ant spider'.split()\n",
    "legs = 4, 0, 2, 4, 8"
   ]
  },
  {
   "cell_type": "markdown",
   "id": "4f05191b",
   "metadata": {},
   "source": [
    "#### range 활용법"
   ]
  },
  {
   "cell_type": "code",
   "execution_count": 3,
   "id": "099d9f87",
   "metadata": {},
   "outputs": [
    {
     "data": {
      "text/plain": [
       "{'cat': 4, 'snake': 0, 'monkey': 2, 'ant': 4, 'spider': 8}"
      ]
     },
     "execution_count": 3,
     "metadata": {},
     "output_type": "execute_result"
    }
   ],
   "source": [
    "legs = [4, 0, 2, 4, 8]\n",
    "result = dict()\n",
    "\n",
    "\n",
    "for num in range(len(animal)):\n",
    "    result[animal[num]] = legs[num]\n",
    "            \n",
    "\n",
    "result"
   ]
  },
  {
   "cell_type": "markdown",
   "id": "fb66eeb9",
   "metadata": {},
   "source": [
    "#### zip() 활용법"
   ]
  },
  {
   "cell_type": "code",
   "execution_count": 4,
   "id": "5bb42886",
   "metadata": {},
   "outputs": [
    {
     "data": {
      "text/plain": [
       "{'cat': 4, 'snake': 0, 'monkey': 2, 'ant': 4, 'spider': 8}"
      ]
     },
     "execution_count": 4,
     "metadata": {},
     "output_type": "execute_result"
    }
   ],
   "source": [
    "result = dict()\n",
    "for animal, legs in zip(animal, legs):\n",
    "    result[animal] = legs\n",
    "result"
   ]
  },
  {
   "cell_type": "markdown",
   "id": "b917833f",
   "metadata": {},
   "source": [
    "<br>"
   ]
  },
  {
   "cell_type": "markdown",
   "id": "cd19a106",
   "metadata": {},
   "source": [
    "<br>"
   ]
  },
  {
   "cell_type": "markdown",
   "id": "3f6755df",
   "metadata": {},
   "source": [
    "## ex_2\n",
    "- pythons에서 성:이름, 성 첫글자만, 이름은 글자개수로 이뤄진 튜플 (성, 이름) 리스트로 변환하기"
   ]
  },
  {
   "cell_type": "code",
   "execution_count": 9,
   "id": "9d484539",
   "metadata": {},
   "outputs": [
    {
     "data": {
      "text/plain": [
       "[('C', 6), ('C', 4), ('I', 4), ('J', 5), ('P', 7)]"
      ]
     },
     "execution_count": 9,
     "metadata": {},
     "output_type": "execute_result"
    }
   ],
   "source": [
    "pythons = {\n",
    "    'Chapman': 'Graham',\n",
    "    'Cleese': 'John',\n",
    "    'Idle': 'Eric',\n",
    "    'Jones': 'Terry',\n",
    "    'Palin': 'Michael'\n",
    "}\n",
    "\n",
    "\n",
    "# [(), ()] 이러한 형태는 items()를 쓰라는 것임\n",
    "\n",
    "[(key[0], len(value)) for key, value in pythons.items()]"
   ]
  },
  {
   "cell_type": "code",
   "execution_count": 13,
   "id": "064ac2fb",
   "metadata": {},
   "outputs": [
    {
     "data": {
      "text/plain": [
       "[('C', 6), ('C', 4), ('I', 4), ('J', 5), ('P', 7)]"
      ]
     },
     "execution_count": 13,
     "metadata": {},
     "output_type": "execute_result"
    }
   ],
   "source": [
    "# 이렇게도 가능\n",
    "\n",
    "[(k[0][0], len(k[1])) for k in pythons.items()]"
   ]
  },
  {
   "cell_type": "code",
   "execution_count": 14,
   "id": "63f0e3bd",
   "metadata": {},
   "outputs": [
    {
     "data": {
      "text/plain": [
       "[('C', 6), ('C', 4), ('I', 4), ('J', 5), ('P', 7)]"
      ]
     },
     "execution_count": 14,
     "metadata": {},
     "output_type": "execute_result"
    }
   ],
   "source": [
    "# 리스트 활용법\n",
    "\n",
    "result = []\n",
    "for k, v in pythons.items():\n",
    "    result.append((k[0], len(v)))\n",
    "result"
   ]
  },
  {
   "cell_type": "markdown",
   "id": "bdc256fd",
   "metadata": {},
   "source": [
    "<br>"
   ]
  },
  {
   "cell_type": "markdown",
   "id": "8f62b744",
   "metadata": {},
   "source": [
    "<br>"
   ]
  },
  {
   "cell_type": "markdown",
   "id": "b651e61e",
   "metadata": {},
   "source": [
    "## 값 수정\n",
    "- 삭제, 복제, 비교"
   ]
  },
  {
   "cell_type": "code",
   "execution_count": 79,
   "id": "24865809",
   "metadata": {},
   "outputs": [
    {
     "data": {
      "text/plain": [
       "{'Chapman': 'Graham',\n",
       " 'Cleese': 'John',\n",
       " 'Idle': 'Eric',\n",
       " 'Jones': 'Terry',\n",
       " 'Palin': 'Michael'}"
      ]
     },
     "execution_count": 79,
     "metadata": {},
     "output_type": "execute_result"
    }
   ],
   "source": [
    "pythons"
   ]
  },
  {
   "cell_type": "code",
   "execution_count": 80,
   "id": "7931de8d",
   "metadata": {},
   "outputs": [
    {
     "data": {
      "text/plain": [
       "{'Marx': 'Groucho', 'Howard': 'Moe'}"
      ]
     },
     "execution_count": 80,
     "metadata": {},
     "output_type": "execute_result"
    }
   ],
   "source": [
    "others = {\n",
    "    'Marx': 'Groucho',\n",
    "    'Howard': 'Moe'\n",
    "    \n",
    "}\n",
    "\n",
    "others"
   ]
  },
  {
   "cell_type": "code",
   "execution_count": 81,
   "id": "8336ce0e",
   "metadata": {},
   "outputs": [],
   "source": [
    "# update를 통해 값 추가 가능\n",
    "\n",
    "pythons.update(others)"
   ]
  },
  {
   "cell_type": "code",
   "execution_count": 82,
   "id": "8cc1f10a",
   "metadata": {},
   "outputs": [
    {
     "data": {
      "text/plain": [
       "{'Chapman': 'Graham',\n",
       " 'Cleese': 'John',\n",
       " 'Idle': 'Eric',\n",
       " 'Jones': 'Terry',\n",
       " 'Palin': 'Michael',\n",
       " 'Marx': 'Groucho',\n",
       " 'Howard': 'Moe'}"
      ]
     },
     "execution_count": 82,
     "metadata": {},
     "output_type": "execute_result"
    }
   ],
   "source": [
    "pythons"
   ]
  },
  {
   "cell_type": "code",
   "execution_count": 83,
   "id": "fd228524",
   "metadata": {},
   "outputs": [
    {
     "data": {
      "text/plain": [
       "{'Marx': 'Groucho',\n",
       " 'Howard': 'Moe',\n",
       " 'Chapman': 'Graham',\n",
       " 'Cleese': 'John',\n",
       " 'Idle': 'Eric',\n",
       " 'Jones': 'Terry',\n",
       " 'Palin': 'Michael'}"
      ]
     },
     "execution_count": 83,
     "metadata": {},
     "output_type": "execute_result"
    }
   ],
   "source": [
    "# 파이썬3에서 가능한 것\n",
    "{**others, **pythons}"
   ]
  },
  {
   "cell_type": "markdown",
   "id": "8ea6ce89",
   "metadata": {},
   "source": [
    "<br>"
   ]
  },
  {
   "cell_type": "markdown",
   "id": "761420e1",
   "metadata": {},
   "source": [
    "### 삭제"
   ]
  },
  {
   "cell_type": "code",
   "execution_count": 84,
   "id": "bab756c6",
   "metadata": {
    "scrolled": true
   },
   "outputs": [],
   "source": [
    "del pythons['Marx']"
   ]
  },
  {
   "cell_type": "code",
   "execution_count": 85,
   "id": "3d67fff8",
   "metadata": {},
   "outputs": [],
   "source": [
    "# 전체 삭제\n",
    "\n",
    "pythons.clear()\n",
    "pythons = {}"
   ]
  },
  {
   "cell_type": "markdown",
   "id": "67b59f30",
   "metadata": {},
   "source": [
    "<br>"
   ]
  },
  {
   "cell_type": "markdown",
   "id": "bdcd8035",
   "metadata": {},
   "source": [
    "### 값 찾기"
   ]
  },
  {
   "cell_type": "code",
   "execution_count": 89,
   "id": "576654c0",
   "metadata": {},
   "outputs": [
    {
     "data": {
      "text/plain": [
       "'Moe'"
      ]
     },
     "execution_count": 89,
     "metadata": {},
     "output_type": "execute_result"
    }
   ],
   "source": [
    "pythons = {\n",
    " 'Chapman': 'Graham',\n",
    " 'Cleese': 'John',\n",
    " 'Idle': 'Eric',\n",
    " 'Jones': 'Terry',\n",
    " 'Palin': 'Michael',\n",
    " 'Marx': 'Groucho',\n",
    " 'Howard': 'Moe'\n",
    "}\n",
    "\n",
    "\n",
    "pythons.pop('Howard')"
   ]
  },
  {
   "cell_type": "code",
   "execution_count": 90,
   "id": "4fbaaef8",
   "metadata": {},
   "outputs": [
    {
     "data": {
      "text/plain": [
       "0"
      ]
     },
     "execution_count": 90,
     "metadata": {},
     "output_type": "execute_result"
    }
   ],
   "source": [
    "pythons.pop('hi', 0)  # 값 없으면 에러남, 출력 값 지정 가능"
   ]
  },
  {
   "cell_type": "markdown",
   "id": "b09b32c2",
   "metadata": {},
   "source": [
    "<br>"
   ]
  },
  {
   "cell_type": "markdown",
   "id": "87d20d99",
   "metadata": {},
   "source": [
    "### 복제\n",
    "- 할당: b = a\n",
    "- 얕은 복사: c = a.copy()\n",
    "- 깊은 복사"
   ]
  },
  {
   "cell_type": "code",
   "execution_count": 91,
   "id": "d2656cba",
   "metadata": {},
   "outputs": [
    {
     "data": {
      "text/plain": [
       "({1: 45, 2: 2, 3: 3}, {1: 45, 2: 2, 3: 3})"
      ]
     },
     "execution_count": 91,
     "metadata": {},
     "output_type": "execute_result"
    }
   ],
   "source": [
    "a = {1:1, 2:2, 3:3}\n",
    "b = a\n",
    "a[1] = 45\n",
    "a, b"
   ]
  },
  {
   "cell_type": "code",
   "execution_count": 92,
   "id": "14e754ac",
   "metadata": {},
   "outputs": [
    {
     "data": {
      "text/plain": [
       "({1: 45, 2: 22, 3: 3}, {1: 45, 2: 2, 3: 3})"
      ]
     },
     "execution_count": 92,
     "metadata": {},
     "output_type": "execute_result"
    }
   ],
   "source": [
    "c = a.copy()\n",
    "a[2] = 22\n",
    "a, c"
   ]
  },
  {
   "cell_type": "code",
   "execution_count": 96,
   "id": "d93bcdea",
   "metadata": {},
   "outputs": [
    {
     "data": {
      "text/plain": [
       "({1: [100, 2, 4], 2: [3, 4, 5]}, {1: [100, 2, 4], 2: [3, 4, 5]})"
      ]
     },
     "execution_count": 96,
     "metadata": {},
     "output_type": "execute_result"
    }
   ],
   "source": [
    "a = {1:[1, 2, 4], 2:[3, 4, 5]}\n",
    "d = a.copy()\n",
    "a[1][0] = 100\n",
    "a,d"
   ]
  },
  {
   "cell_type": "code",
   "execution_count": 95,
   "id": "9c669867",
   "metadata": {},
   "outputs": [
    {
     "data": {
      "text/plain": [
       "({1: [100, 77, 4], 2: [3, 4, 5]}, {1: [100, 2, 4], 2: [3, 4, 5]})"
      ]
     },
     "execution_count": 95,
     "metadata": {},
     "output_type": "execute_result"
    }
   ],
   "source": [
    "import copy\n",
    "e = copy.deepcopy(a)\n",
    "a[1][1] = 77\n",
    "a, e"
   ]
  },
  {
   "cell_type": "markdown",
   "id": "f6b8b4dd",
   "metadata": {},
   "source": [
    "<br>"
   ]
  },
  {
   "cell_type": "markdown",
   "id": "8d414646",
   "metadata": {},
   "source": [
    "<br>"
   ]
  },
  {
   "cell_type": "markdown",
   "id": "e0bac56c",
   "metadata": {},
   "source": [
    "<br>"
   ]
  },
  {
   "cell_type": "markdown",
   "id": "c6a98b8d",
   "metadata": {},
   "source": [
    "## ex_3"
   ]
  },
  {
   "cell_type": "code",
   "execution_count": 16,
   "id": "c30acc54",
   "metadata": {},
   "outputs": [],
   "source": [
    "solar_kor = '태양 수성 금성 지구 화성 목성 토성 천왕성 해왕성'.split()\n",
    "solar_eng = 'sun mercury venus earth mers jupliter saturn uranus neptune'.split()"
   ]
  },
  {
   "cell_type": "code",
   "execution_count": 17,
   "id": "5114362c",
   "metadata": {
    "scrolled": true
   },
   "outputs": [
    {
     "data": {
      "text/plain": [
       "[('금성', 'venus'),\n",
       " ('명왕성', 'pluto'),\n",
       " ('목성', 'jupliter'),\n",
       " ('수성', 'mercury'),\n",
       " ('천왕성', 'uranus'),\n",
       " ('토성', 'saturn'),\n",
       " ('해왕성', 'neptune'),\n",
       " ('화성', 'mers')]"
      ]
     },
     "execution_count": 17,
     "metadata": {},
     "output_type": "execute_result"
    }
   ],
   "source": [
    "result = dict()\n",
    "\n",
    "for num in range(len(solar_kor)):\n",
    "    if solar_kor[num].endswith('성'):\n",
    "        result[solar_kor[num]] = solar_eng[num]\n",
    "\n",
    "result['명왕성'] = 'pluto'\n",
    "\n",
    "sorted(result.items())"
   ]
  },
  {
   "cell_type": "code",
   "execution_count": 20,
   "id": "c1f8cbb8",
   "metadata": {},
   "outputs": [
    {
     "data": {
      "text/plain": [
       "{'태양': 'sun',\n",
       " '수성': 'mercury',\n",
       " '금성': 'venus',\n",
       " '지구': 'earth',\n",
       " '화성': 'mers',\n",
       " '목성': 'jupliter',\n",
       " '토성': 'saturn',\n",
       " '천왕성': 'uranus',\n",
       " '해왕성': 'neptune'}"
      ]
     },
     "execution_count": 20,
     "metadata": {},
     "output_type": "execute_result"
    }
   ],
   "source": [
    "# 이렇게 하면 한방에 딕셔너리 전체목록 만들 수 있음\n",
    "dict_EX = dict([[x,y] for x,y in zip(solar_kor, solar_eng)])\n",
    "dict_EX"
   ]
  },
  {
   "cell_type": "markdown",
   "id": "cd020600",
   "metadata": {},
   "source": [
    "<br>"
   ]
  },
  {
   "cell_type": "markdown",
   "id": "1d6f8b6a",
   "metadata": {},
   "source": [
    "<br>"
   ]
  },
  {
   "cell_type": "markdown",
   "id": "22eb93ab",
   "metadata": {},
   "source": [
    "## 컴프리헨션"
   ]
  },
  {
   "cell_type": "code",
   "execution_count": 116,
   "id": "a3a47aad",
   "metadata": {},
   "outputs": [
    {
     "data": {
      "text/plain": [
       "{'a': 1, 'p': 2, 'l': 1, 'e': 1}"
      ]
     },
     "execution_count": 116,
     "metadata": {},
     "output_type": "execute_result"
    }
   ],
   "source": [
    "letter = 'apple'\n",
    "{ch: letter.count(ch) for ch in letter}"
   ]
  },
  {
   "cell_type": "code",
   "execution_count": 119,
   "id": "c26a8c04",
   "metadata": {},
   "outputs": [
    {
     "data": {
      "text/plain": [
       "{'a': 2, 'e': 1, 'i': 1, 'o': 4}"
      ]
     },
     "execution_count": 119,
     "metadata": {},
     "output_type": "execute_result"
    }
   ],
   "source": [
    "# 단어의 모음 세기\n",
    "\n",
    "vowels = 'aeiou'\n",
    "word = 'onomatopoeia'\n",
    "\n",
    "# word 순회 결과 산출\n",
    "# vowels 순회 결과 산출\n",
    "\n",
    "{v: word.count(v) for v in vowels if v in word}"
   ]
  },
  {
   "cell_type": "code",
   "execution_count": 121,
   "id": "fbd06e74",
   "metadata": {},
   "outputs": [
    {
     "data": {
      "text/plain": [
       "{'a': 2, 'i': 1, 'o': 4, 'e': 1}"
      ]
     },
     "execution_count": 121,
     "metadata": {},
     "output_type": "execute_result"
    }
   ],
   "source": [
    "{w: word.count(w) for w in set(word) if w in vowels}"
   ]
  },
  {
   "cell_type": "markdown",
   "id": "abbe9d58",
   "metadata": {},
   "source": [
    "<br>"
   ]
  },
  {
   "cell_type": "markdown",
   "id": "57f8f866",
   "metadata": {},
   "source": [
    "<br>"
   ]
  },
  {
   "cell_type": "markdown",
   "id": "797b59d4",
   "metadata": {},
   "source": [
    "## 정렬"
   ]
  },
  {
   "cell_type": "code",
   "execution_count": 129,
   "id": "deb810ce",
   "metadata": {},
   "outputs": [
    {
     "data": {
      "text/plain": [
       "[('금성', 'venus'),\n",
       " ('명왕성', 'pluto'),\n",
       " ('목성', 'jupliter'),\n",
       " ('수성', 'mercury'),\n",
       " ('천왕성', 'uranus'),\n",
       " ('토성', 'saturn'),\n",
       " ('해왕성', 'neptune'),\n",
       " ('화성', 'mers')]"
      ]
     },
     "execution_count": 129,
     "metadata": {},
     "output_type": "execute_result"
    }
   ],
   "source": [
    "sorted(result.items())"
   ]
  },
  {
   "cell_type": "code",
   "execution_count": 130,
   "id": "64123202",
   "metadata": {
    "scrolled": true
   },
   "outputs": [
    {
     "data": {
      "text/plain": [
       "[('목성', 'jupliter'),\n",
       " ('수성', 'mercury'),\n",
       " ('화성', 'mers'),\n",
       " ('해왕성', 'neptune'),\n",
       " ('명왕성', 'pluto'),\n",
       " ('토성', 'saturn'),\n",
       " ('천왕성', 'uranus'),\n",
       " ('금성', 'venus')]"
      ]
     },
     "execution_count": 130,
     "metadata": {},
     "output_type": "execute_result"
    }
   ],
   "source": [
    "sorted(result.items(), key=fx)  # x[1]을 기준으로 정렬 영어기준 정렬"
   ]
  },
  {
   "cell_type": "markdown",
   "id": "eeff5d29",
   "metadata": {},
   "source": [
    "<br>"
   ]
  },
  {
   "cell_type": "markdown",
   "id": "27273d6e",
   "metadata": {},
   "source": [
    "<br>"
   ]
  },
  {
   "cell_type": "markdown",
   "id": "ef33119c",
   "metadata": {},
   "source": [
    "### 람다식 활용"
   ]
  },
  {
   "cell_type": "code",
   "execution_count": 131,
   "id": "17aa992b",
   "metadata": {},
   "outputs": [],
   "source": [
    "def fx(x):\n",
    "    return x[1]"
   ]
  },
  {
   "cell_type": "code",
   "execution_count": 134,
   "id": "225fce53",
   "metadata": {},
   "outputs": [
    {
     "data": {
      "text/plain": [
       "[('목성', 'jupliter'),\n",
       " ('수성', 'mercury'),\n",
       " ('화성', 'mers'),\n",
       " ('해왕성', 'neptune'),\n",
       " ('명왕성', 'pluto'),\n",
       " ('토성', 'saturn'),\n",
       " ('천왕성', 'uranus'),\n",
       " ('금성', 'venus')]"
      ]
     },
     "execution_count": 134,
     "metadata": {},
     "output_type": "execute_result"
    }
   ],
   "source": [
    "sorted(result.items(), key=lambda x:x[1])"
   ]
  },
  {
   "cell_type": "markdown",
   "id": "c3a96890",
   "metadata": {},
   "source": [
    "<br>\n"
   ]
  },
  {
   "cell_type": "markdown",
   "id": "ad8e20b5",
   "metadata": {},
   "source": [
    "<br>"
   ]
  },
  {
   "cell_type": "markdown",
   "id": "af5d10a3",
   "metadata": {},
   "source": [
    "## set\n",
    "- 중복이 없음\n",
    "- 집합 => 교집합, 합집합, 차집합\n",
    "- 순서도 중복도 없는 bag. 인덱싱도 없음"
   ]
  },
  {
   "cell_type": "code",
   "execution_count": 135,
   "id": "898a9e1a",
   "metadata": {},
   "outputs": [
    {
     "data": {
      "text/plain": [
       "set()"
      ]
     },
     "execution_count": 135,
     "metadata": {},
     "output_type": "execute_result"
    }
   ],
   "source": [
    "empty = set()\n",
    "empty"
   ]
  },
  {
   "cell_type": "code",
   "execution_count": 136,
   "id": "2cb28b1f",
   "metadata": {},
   "outputs": [
    {
     "data": {
      "text/plain": [
       "{1, 2, 3}"
      ]
     },
     "execution_count": 136,
     "metadata": {},
     "output_type": "execute_result"
    }
   ],
   "source": [
    "a= {1,2,3}\n",
    "a"
   ]
  },
  {
   "cell_type": "code",
   "execution_count": 137,
   "id": "77775740",
   "metadata": {},
   "outputs": [
    {
     "ename": "TypeError",
     "evalue": "set expected at most 1 argument, got 3",
     "output_type": "error",
     "traceback": [
      "\u001b[1;31m---------------------------------------------------------------------------\u001b[0m",
      "\u001b[1;31mTypeError\u001b[0m                                 Traceback (most recent call last)",
      "\u001b[1;32m~\\AppData\\Local\\Temp/ipykernel_21416/3988739049.py\u001b[0m in \u001b[0;36m<module>\u001b[1;34m\u001b[0m\n\u001b[1;32m----> 1\u001b[1;33m \u001b[0ma\u001b[0m \u001b[1;33m=\u001b[0m \u001b[0mset\u001b[0m\u001b[1;33m(\u001b[0m\u001b[1;36m1\u001b[0m\u001b[1;33m,\u001b[0m\u001b[1;36m2\u001b[0m\u001b[1;33m,\u001b[0m\u001b[1;36m3\u001b[0m\u001b[1;33m)\u001b[0m \u001b[1;31m# 이렇게는 안됨\u001b[0m\u001b[1;33m\u001b[0m\u001b[1;33m\u001b[0m\u001b[0m\n\u001b[0m",
      "\u001b[1;31mTypeError\u001b[0m: set expected at most 1 argument, got 3"
     ]
    }
   ],
   "source": [
    "a = set(1,2,3) # 이렇게는 안됨"
   ]
  },
  {
   "cell_type": "code",
   "execution_count": 139,
   "id": "f4e01046",
   "metadata": {},
   "outputs": [],
   "source": [
    "a = set({1,2,3}) # 이렇게 해야함"
   ]
  },
  {
   "cell_type": "markdown",
   "id": "9a2e611c",
   "metadata": {},
   "source": [
    "### 추가"
   ]
  },
  {
   "cell_type": "code",
   "execution_count": 141,
   "id": "117fd861",
   "metadata": {},
   "outputs": [
    {
     "data": {
      "text/plain": [
       "{1, 2, 3, 4}"
      ]
     },
     "execution_count": 141,
     "metadata": {},
     "output_type": "execute_result"
    }
   ],
   "source": [
    "a.add(4)\n",
    "a"
   ]
  },
  {
   "cell_type": "markdown",
   "id": "1c376bab",
   "metadata": {},
   "source": [
    "### 삭제"
   ]
  },
  {
   "cell_type": "code",
   "execution_count": 142,
   "id": "e6aa3dd4",
   "metadata": {},
   "outputs": [
    {
     "data": {
      "text/plain": [
       "{1, 2, 3}"
      ]
     },
     "execution_count": 142,
     "metadata": {},
     "output_type": "execute_result"
    }
   ],
   "source": [
    "a.remove(4)\n",
    "a"
   ]
  },
  {
   "cell_type": "markdown",
   "id": "1fed22fc",
   "metadata": {},
   "source": [
    "<br>"
   ]
  },
  {
   "cell_type": "markdown",
   "id": "bd9bd22c",
   "metadata": {},
   "source": [
    "<br>"
   ]
  },
  {
   "cell_type": "markdown",
   "id": "453c048e",
   "metadata": {},
   "source": [
    "## ex_04"
   ]
  },
  {
   "cell_type": "code",
   "execution_count": 153,
   "id": "cd67f206",
   "metadata": {},
   "outputs": [],
   "source": [
    "drinks = {\n",
    "    'martini': {'vodka', 'vermouth'},\n",
    "    'black russian': {'vodka', 'kahlua'},\n",
    "    'white russian': {'cream', 'kahlua', 'vodka'},\n",
    "    'manhattan': {'rye', 'vermouth', 'bitters'},\n",
    "    'screwdriver': {'orange juice', 'vodka'}\n",
    "}\n",
    "\n",
    "# vodca가 포함된 술 출력하기\n",
    "# vodca는 없지만, cream, vermouth 없는 술 출력하기"
   ]
  },
  {
   "cell_type": "code",
   "execution_count": 164,
   "id": "53ffe4e7",
   "metadata": {},
   "outputs": [
    {
     "name": "stdout",
     "output_type": "stream",
     "text": [
      "보드카가 포함된 술: martini\n",
      "보드카가 포함된 술: black russian\n",
      "보드카는 있지만 cream, vermouth는 없는 술: black russian\n",
      "보드카가 포함된 술: white russian\n",
      "보드카가 포함된 술: screwdriver\n",
      "보드카는 있지만 cream, vermouth는 없는 술: screwdriver\n"
     ]
    }
   ],
   "source": [
    "for name, components in drinks.items():\n",
    "    if 'vodka' in components:\n",
    "        print(f'보드카가 포함된 술: {name}')\n",
    "    if ('vodka' in components) and not ('cream' in components or 'vermouth' in components):\n",
    "        print(f'보드카는 있지만 cream, vermouth는 없는 술: {name}')\n",
    "    "
   ]
  },
  {
   "cell_type": "code",
   "execution_count": 166,
   "id": "03e50ff8",
   "metadata": {},
   "outputs": [
    {
     "name": "stdout",
     "output_type": "stream",
     "text": [
      "black russian\n",
      "screwdriver\n"
     ]
    }
   ],
   "source": [
    "# set 활용해서 바꾸기\n",
    "\n",
    "for k, v in drinks.items():\n",
    "    if 'vodka' in v and not ('cream' in v or 'vermouth' in v):\n",
    "           print(k)"
   ]
  },
  {
   "cell_type": "code",
   "execution_count": 169,
   "id": "e5e2c324",
   "metadata": {},
   "outputs": [
    {
     "name": "stdout",
     "output_type": "stream",
     "text": [
      "black russian\n",
      "screwdriver\n"
     ]
    }
   ],
   "source": [
    "# 답안\n",
    "\n",
    "for k, v in drinks.items():\n",
    "    d = {'cream', 'vermouth'}\n",
    "    if 'vodka' in v and not v & d:\n",
    "        print(k)"
   ]
  },
  {
   "cell_type": "markdown",
   "id": "425b2093",
   "metadata": {},
   "source": [
    "<br>"
   ]
  },
  {
   "cell_type": "markdown",
   "id": "2db930e7",
   "metadata": {},
   "source": [
    "<br>"
   ]
  },
  {
   "cell_type": "markdown",
   "id": "90f9d916",
   "metadata": {},
   "source": [
    "### 교집합 합집합 차집합"
   ]
  },
  {
   "cell_type": "code",
   "execution_count": 157,
   "id": "560f48cb",
   "metadata": {},
   "outputs": [
    {
     "data": {
      "text/plain": [
       "{2, 3}"
      ]
     },
     "execution_count": 157,
     "metadata": {},
     "output_type": "execute_result"
    }
   ],
   "source": [
    "a = {1, 2, 3}\n",
    "b = {2, 3, 4}\n",
    "\n",
    "a & b # 교집합 .intersection()"
   ]
  },
  {
   "cell_type": "code",
   "execution_count": 158,
   "id": "55b1d10a",
   "metadata": {},
   "outputs": [
    {
     "data": {
      "text/plain": [
       "{1, 2, 3, 4}"
      ]
     },
     "execution_count": 158,
     "metadata": {},
     "output_type": "execute_result"
    }
   ],
   "source": [
    "a | b # 합집합 .union()"
   ]
  },
  {
   "cell_type": "code",
   "execution_count": 159,
   "id": "67da9904",
   "metadata": {},
   "outputs": [
    {
     "data": {
      "text/plain": [
       "{1}"
      ]
     },
     "execution_count": 159,
     "metadata": {},
     "output_type": "execute_result"
    }
   ],
   "source": [
    "a - b # 차집합 .difference()"
   ]
  },
  {
   "cell_type": "markdown",
   "id": "5776977e",
   "metadata": {},
   "source": [
    "<br>"
   ]
  },
  {
   "cell_type": "markdown",
   "id": "85688617",
   "metadata": {},
   "source": [
    "<br>"
   ]
  },
  {
   "cell_type": "markdown",
   "id": "25a60f61",
   "metadata": {},
   "source": [
    "### set comprehension"
   ]
  },
  {
   "cell_type": "code",
   "execution_count": 170,
   "id": "3b766046",
   "metadata": {},
   "outputs": [
    {
     "data": {
      "text/plain": [
       "{0, 1, 2, 3, 4}"
      ]
     },
     "execution_count": 170,
     "metadata": {},
     "output_type": "execute_result"
    }
   ],
   "source": [
    "{s for s in range(5)}"
   ]
  },
  {
   "cell_type": "markdown",
   "id": "6f2aaf93",
   "metadata": {},
   "source": [
    "### frozenset"
   ]
  },
  {
   "cell_type": "code",
   "execution_count": 171,
   "id": "f939c3a2",
   "metadata": {},
   "outputs": [
    {
     "data": {
      "text/plain": [
       "frozenset({1, 2})"
      ]
     },
     "execution_count": 171,
     "metadata": {},
     "output_type": "execute_result"
    }
   ],
   "source": [
    "set([1,2])\n",
    "frozenset([1,2])"
   ]
  }
 ],
 "metadata": {
  "kernelspec": {
   "display_name": "Python 3 (ipykernel)",
   "language": "python",
   "name": "python3"
  },
  "language_info": {
   "codemirror_mode": {
    "name": "ipython",
    "version": 3
   },
   "file_extension": ".py",
   "mimetype": "text/x-python",
   "name": "python",
   "nbconvert_exporter": "python",
   "pygments_lexer": "ipython3",
   "version": "3.9.7"
  }
 },
 "nbformat": 4,
 "nbformat_minor": 5
}
