{
 "cells": [
  {
   "cell_type": "markdown",
   "id": "6c67b74d",
   "metadata": {},
   "source": [
    "# week_01"
   ]
  },
  {
   "cell_type": "markdown",
   "id": "5189b4d7",
   "metadata": {},
   "source": [
    "## 주피터 노트북 사용법 \n",
    "\n",
    "### Markdown\n",
    "- 제목, 설명 덧붙이기 등 텍스트 사용 시 markdown 활용\n",
    "- #의 개수에 따라 글씨의 크기가 달라짐 ***#의 개수가 작을수록 글씨 크기는 큼\n",
    "- '+','-'으로 점 표시 가능\n",
    "\n",
    "### 단축키\n",
    "- run = Shift + Enter\n",
    "- delete = dd\n",
    "- Markdown셀로 변환 = m\n",
    "- Code셀로 변환 = y\n",
    "---"
   ]
  },
  {
   "cell_type": "markdown",
   "id": "8c08cd13",
   "metadata": {},
   "source": [
    "## Ch01. 파이(Py) 맛보기\n",
    "\n",
    "### 파이썬\n",
    "- 간결하고 쉬운 언어\n",
    "- 다양한 외부 라이브러리 활용 가능\n",
    "---"
   ]
  },
  {
   "cell_type": "markdown",
   "id": "9a801e80",
   "metadata": {},
   "source": [
    "## Ch02. 데이터: 타입, 값, 변수, 이름\n",
    "\n",
    "### 기본개념\n",
    "- 자료형(type) : 데이터의 유형, 형태\n",
    "- 값(value) : 할당 시 '='을 기준으로 오른쪽에 위치. ex) 1,2,3(숫자), 'hello'(문자열), 'True'(논리값)\n",
    "- 변수(variable) : 특정 값을 저장하는 공간\n",
    "\n",
    "### 자료형\n",
    "- 불리언, 정수, 실수(부동소수점), 문자열 등의 타입이 있음"
   ]
  },
  {
   "cell_type": "code",
   "execution_count": 8,
   "id": "8d5e4d0e",
   "metadata": {},
   "outputs": [
    {
     "name": "stdout",
     "output_type": "stream",
     "text": [
      "<class 'bool'>\n",
      "<class 'int'>\n",
      "<class 'float'>\n",
      "<class 'str'>\n"
     ]
    }
   ],
   "source": [
    "# 자료형 예시\n",
    "\n",
    "print(type(True)) # bool, 불리언\n",
    "print(type(21)) # int, 정수\n",
    "print(type(24.5)) # float, 부동소수점/실수\n",
    "print(type('안녕')) # str, 문자열"
   ]
  },
  {
   "cell_type": "markdown",
   "id": "29ded0ec",
   "metadata": {},
   "source": [
    "### 변수에 값 할당\n",
    "- 대입연산자 '='을 활용하여 변수에 값 할당\n",
    "- 오른쪽에 있는 값을 왼쪽 변수에 할당하는 것\n",
    "- 오른쪽은 리터럴 값이거나 이미 값이 지정된 변수 또는 조합 등\n",
    "- 같은 변수에 다른 값 넣을 수 있음"
   ]
  },
  {
   "cell_type": "code",
   "execution_count": 10,
   "id": "27240e22",
   "metadata": {},
   "outputs": [
    {
     "name": "stdout",
     "output_type": "stream",
     "text": [
      "2\n",
      "True\n"
     ]
    }
   ],
   "source": [
    "# 할당 예시\n",
    "\n",
    "a = 2 # a라는 변수에 2라는 값 할당\n",
    "print(a) # 초기화 되었는지 확인\n",
    "print(a == 2) # a = 2와 a == 2는 뜻하는 바가 다르다"
   ]
  },
  {
   "cell_type": "markdown",
   "id": "bfc930f9",
   "metadata": {},
   "source": [
    "### 변수 이름\n",
    "- 소문자, 대문자, 숫자, 언더바만 사용가능\n",
    "- 대소 문자를 구분함\n",
    "- 시작 시에는 숫자 사용 불가. 문자나 언더바로 시작해야 함\n",
    "- 파이썬 <b>예약어</b>는 변수명으로 사용 불가"
   ]
  },
  {
   "cell_type": "code",
   "execution_count": 13,
   "id": "dbbadf9a",
   "metadata": {},
   "outputs": [
    {
     "name": "stdout",
     "output_type": "stream",
     "text": [
      "\n",
      "Here is a list of the Python keywords.  Enter any keyword to get more help.\n",
      "\n",
      "False               break               for                 not\n",
      "None                class               from                or\n",
      "True                continue            global              pass\n",
      "__peg_parser__      def                 if                  raise\n",
      "and                 del                 import              return\n",
      "as                  elif                in                  try\n",
      "assert              else                is                  while\n",
      "async               except              lambda              with\n",
      "await               finally             nonlocal            yield\n",
      "\n"
     ]
    }
   ],
   "source": [
    "# 파이썬 예약어 목록\n",
    "\n",
    "help(\"keywords\")"
   ]
  },
  {
   "cell_type": "markdown",
   "id": "659cbe40",
   "metadata": {},
   "source": [
    "- 특별하게 취급하는 변수명 <br>\n",
    "    1) 대문자로 시작하는 변수명 &nbsp; 2) 전체가 대문자인 변수명 &nbsp; 3) 언더바로 시작하는 변수명"
   ]
  },
  {
   "cell_type": "code",
   "execution_count": null,
   "id": "92b25a40",
   "metadata": {},
   "outputs": [],
   "source": []
  }
 ],
 "metadata": {
  "kernelspec": {
   "display_name": "Python 3 (ipykernel)",
   "language": "python",
   "name": "python3"
  },
  "language_info": {
   "codemirror_mode": {
    "name": "ipython",
    "version": 3
   },
   "file_extension": ".py",
   "mimetype": "text/x-python",
   "name": "python",
   "nbconvert_exporter": "python",
   "pygments_lexer": "ipython3",
   "version": "3.9.7"
  }
 },
 "nbformat": 4,
 "nbformat_minor": 5
}
