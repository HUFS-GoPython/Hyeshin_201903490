{
 "cells": [
  {
   "cell_type": "markdown",
   "id": "113ead47",
   "metadata": {},
   "source": [
    "# week_03"
   ]
  },
  {
   "cell_type": "markdown",
   "id": "5de8b6bd",
   "metadata": {},
   "source": [
    "<br>"
   ]
  },
  {
   "cell_type": "markdown",
   "id": "0b6778fa",
   "metadata": {},
   "source": [
    "## Ch.04 조건문"
   ]
  },
  {
   "cell_type": "markdown",
   "id": "14601be8",
   "metadata": {},
   "source": [
    "### 중첩 조건문 \n",
    "- if 블록 안에 또 if 블록이 만들어지는 경우\n",
    "    - 예 : if ....\n",
    "            if....\n",
    "              if....\n",
    "    - 구분은 들여쓰기로 함\n",
    "    - 조건이 여러 개일 경우 사용\n",
    "    - 지양함, 더 좋은 방법을 찾아보는 걸 권장"
   ]
  },
  {
   "cell_type": "code",
   "execution_count": 3,
   "id": "9ead7b2b",
   "metadata": {},
   "outputs": [
    {
     "name": "stdout",
     "output_type": "stream",
     "text": [
      "block b\n"
     ]
    }
   ],
   "source": [
    "x = 0\n",
    "y = 4\n",
    "\n",
    "if x == y:\n",
    "    print(\"block a\")\n",
    "else:\n",
    "    if x < y:\n",
    "        print('block b')\n",
    "    else:\n",
    "        pritn('block c')"
   ]
  },
  {
   "cell_type": "code",
   "execution_count": 9,
   "id": "7244f48f",
   "metadata": {},
   "outputs": [
    {
     "ename": "IndentationError",
     "evalue": "expected an indented block (Temp/ipykernel_17692/1621458865.py, line 5)",
     "output_type": "error",
     "traceback": [
      "\u001b[1;36m  File \u001b[1;32m\"C:\\Users\\lgpc\\AppData\\Local\\Temp/ipykernel_17692/1621458865.py\"\u001b[1;36m, line \u001b[1;32m5\u001b[0m\n\u001b[1;33m    elif x < y:\u001b[0m\n\u001b[1;37m    ^\u001b[0m\n\u001b[1;31mIndentationError\u001b[0m\u001b[1;31m:\u001b[0m expected an indented block\n"
     ]
    }
   ],
   "source": [
    "#이렇게 간단히 하라\n",
    "\n",
    "if x == y:\n",
    "    #a\n",
    "elif x < y:\n",
    "    #b\n",
    "else:\n",
    "    #c"
   ]
  },
  {
   "cell_type": "markdown",
   "id": "3eb4fd94",
   "metadata": {},
   "source": [
    "<br>"
   ]
  },
  {
   "cell_type": "markdown",
   "id": "f1755a68",
   "metadata": {},
   "source": [
    "### 논리연산자\n",
    "- 비교연산 조건을 여러 번 사용하는 경우 활용\n",
    "- and, or, not\n",
    "    - A and B: A,B 모두 참일 때 True\n",
    "    - A or B: 둘 중 하나만 참이면 True\n",
    "    - not A: A가 참이면 False, 거짓이면 True"
   ]
  },
  {
   "cell_type": "markdown",
   "id": "48c1d58a",
   "metadata": {},
   "source": [
    "- True/False 표현 시 주의"
   ]
  },
  {
   "cell_type": "code",
   "execution_count": 12,
   "id": "dde61273",
   "metadata": {},
   "outputs": [
    {
     "name": "stdout",
     "output_type": "stream",
     "text": [
      "\n",
      "\n"
     ]
    }
   ],
   "source": [
    "a = 1\n",
    "if a == True:         #이렇게 표현하는 거 아님\n",
    "    print()\n",
    "\n",
    "if a:             #이렇게 표현할 것\n",
    "    print()"
   ]
  },
  {
   "cell_type": "markdown",
   "id": "6086aa0d",
   "metadata": {},
   "source": [
    "<br>"
   ]
  },
  {
   "cell_type": "markdown",
   "id": "b8c1d58b",
   "metadata": {},
   "source": [
    "### In\n",
    "\n",
    "- membership operator\n",
    "- 요소가 안에 포함되어 있는지 확인할 때 사용 \n",
    "- 비슷한 조건문이 여럿일 때 사용\n",
    "- A in B = A가 B에 포함되어 있는가"
   ]
  },
  {
   "cell_type": "code",
   "execution_count": 19,
   "id": "2999bf28",
   "metadata": {},
   "outputs": [
    {
     "name": "stdout",
     "output_type": "stream",
     "text": [
      "자음\n"
     ]
    }
   ],
   "source": [
    "# 모음인지 아닌지 판별하기\n",
    "\n",
    "letter = 'k'\n",
    "\n",
    "#if letter == 'a' or if letter == 'i' 이런 식으로 긴 조건식 안써도 됨\n",
    "\n",
    "if letter in ['a','e','i','o','u']:\n",
    "    print('모음')\n",
    "else:\n",
    "    print('자음')"
   ]
  },
  {
   "cell_type": "code",
   "execution_count": 9,
   "id": "c4d8fc30",
   "metadata": {},
   "outputs": [
    {
     "name": "stdout",
     "output_type": "stream",
     "text": [
      "모음\n",
      "yes 모음\n"
     ]
    }
   ],
   "source": [
    "# 단어에 모음이 있는지 확인\n",
    "\n",
    "word = 'apple'\n",
    "if word[0] in ['a','e','i','o','u']:\n",
    "    print('모음')\n",
    "elif word[1] in ['a','e','i','o','u']:\n",
    "    print('모음')\n",
    "elif word[2] in ['a','e','i','o','u']:\n",
    "    print('모음')\n",
    "elif word[3] in ['a','e','i','o','u']:\n",
    "    print('모음')\n",
    "elif word[4] in ['a','e','i','o','u']:\n",
    "    print('모음')\n",
    "\n",
    "    \n",
    "# 이 방식이 더 효율적\n",
    "\n",
    "if 'a' or 'e' or 'i' or 'o' or 'u' in word:\n",
    "    print('yes 모음')"
   ]
  },
  {
   "cell_type": "markdown",
   "id": "c33cf523",
   "metadata": {},
   "source": [
    "<br>"
   ]
  },
  {
   "cell_type": "markdown",
   "id": "91010e5d",
   "metadata": {},
   "source": [
    "<br>"
   ]
  },
  {
   "cell_type": "markdown",
   "id": "96b9326a",
   "metadata": {},
   "source": [
    "### 코끼리 연산자\n",
    "- walrus operator\n",
    "- :=\n",
    "- 할당 + 테스트 동시에 할 수 있는 연산자"
   ]
  },
  {
   "cell_type": "code",
   "execution_count": 12,
   "id": "c3fef783",
   "metadata": {},
   "outputs": [],
   "source": [
    "tweet_limit = 200\n",
    "tweet_sting = 'blah' * 50\n",
    "#tweet_sting"
   ]
  },
  {
   "cell_type": "code",
   "execution_count": 13,
   "id": "8ffbbb91",
   "metadata": {},
   "outputs": [
    {
     "name": "stdout",
     "output_type": "stream",
     "text": [
      "no\n"
     ]
    }
   ],
   "source": [
    "# 코끼리 연산자 사용하지 않을 시\n",
    "\n",
    "diff = tweet_limit - len(tweet_sting)\n",
    "if diff > 0 :\n",
    "    print('ok')\n",
    "else:\n",
    "    print('no')"
   ]
  },
  {
   "cell_type": "code",
   "execution_count": 14,
   "id": "905782e0",
   "metadata": {},
   "outputs": [
    {
     "name": "stdout",
     "output_type": "stream",
     "text": [
      "no\n"
     ]
    }
   ],
   "source": [
    "# 코끼리 연산자를 통해 함축가능\n",
    "\n",
    "if diff := tweet_limit - len(tweet_sting) > 0:\n",
    "        print('ok')\n",
    "else: print('no')"
   ]
  },
  {
   "cell_type": "markdown",
   "id": "41d5a7ad",
   "metadata": {},
   "source": [
    "<br>"
   ]
  },
  {
   "cell_type": "markdown",
   "id": "97d01966",
   "metadata": {},
   "source": [
    "<br>"
   ]
  },
  {
   "cell_type": "markdown",
   "id": "839173c7",
   "metadata": {},
   "source": [
    "## Quiz.1\n",
    "\n",
    "- 윤년 구하기\n",
    "    - 연도 입력받기\n",
    "    - 4로 나눠지면 윤년\n",
    "    - 100으로 나눠지면 안됨\n",
    "    - 400으로 나눠지면 윤년\n",
    "- 출력: '{}년은 윤년입니다.'/'{}년은 윤년이 아닙니다.'\n",
    "\n",
    "\n",
    "- 서력 기원 연수가 4로 나누어 떨어지는 해는 윤년으로 한다. ...\n",
    "- 서력 기원 연수가 4, 100으로 나누어 떨어지는 해는 평년으로 한다. ...\n",
    "- 서력 기원 연수가 4, 100, 400으로 나누어 떨어지는 해는 윤년으로 둔다."
   ]
  },
  {
   "cell_type": "code",
   "execution_count": 3,
   "id": "8985bee3",
   "metadata": {},
   "outputs": [
    {
     "name": "stdout",
     "output_type": "stream",
     "text": [
      "연도를 입력해주세요: 2800\n",
      "2800년은 윤년입니다.\n"
     ]
    }
   ],
   "source": [
    "num = int(input('연도를 입력해주세요: '))\n",
    "\n",
    "if num % 4 == 0 and num % 100 != 0:\n",
    "    print(f'{num}년은 윤년입니다.')\n",
    "    \n",
    "elif num % 400 == 0:\n",
    "    print(f'{num}년은 윤년입니다.')\n",
    "\n",
    "else:\n",
    "    print(f'{num}년은 윤년이 아닙니다.')"
   ]
  },
  {
   "cell_type": "code",
   "execution_count": 15,
   "id": "a186c8ae",
   "metadata": {},
   "outputs": [
    {
     "name": "stdout",
     "output_type": "stream",
     "text": [
      "연도를 입력해주세요: 2400\n",
      "2400년은 윤년입니다.\n"
     ]
    }
   ],
   "source": [
    "# 더 간단히 표현 가능\n",
    "\n",
    "num = int(input('연도를 입력해주세요: '))\n",
    "\n",
    "if (num % 4 == 0 and num % 100 != 0) or (num % 400 == 0):\n",
    "    print(f'{num}년은 윤년입니다.')\n",
    "\n",
    "else:\n",
    "    print(f'{num}년은 윤년이 아닙니다.')"
   ]
  },
  {
   "cell_type": "markdown",
   "id": "481175d0",
   "metadata": {},
   "source": [
    "<br>"
   ]
  },
  {
   "cell_type": "markdown",
   "id": "47a538fe",
   "metadata": {},
   "source": [
    "<br>"
   ]
  },
  {
   "cell_type": "markdown",
   "id": "5390d27e",
   "metadata": {},
   "source": [
    "## Ch05. 문자열"
   ]
  },
  {
   "cell_type": "markdown",
   "id": "9ca90398",
   "metadata": {},
   "source": [
    "### 문자열\n",
    "\n",
    "- 시스템에서 가장 작은 단위\n",
    "- 하나의 캐릭터가 차지하는 byte가 가장 작음\n",
    "- 불변적인 서격을 가짐, immutable\n",
    "    - 예: jack -> jeck 으로 바꿀 수 없음\n",
    "- '' 혹은 \"\"으로 선언\n",
    "    - 예: '25.5'\n",
    "    - ''',\"\"\"은 주석임\n",
    "- 형 변환은 str()\n",
    "<br><br><br><br>\n",
    "\n",
    "### 이스케이프 문자\n",
    "- escape character \n",
    "- 특수한 형태의 문자열. 눈에 보이는 대로 인식되지 않는 문자\n",
    "- \\ + ch\n",
    "- 예: \\n, \\t, \\b, \\', \\\"\n",
    "- 다른 스트링을 만드는 게 아니라 출력이 다르게 되는 것일 뿐임"
   ]
  },
  {
   "cell_type": "code",
   "execution_count": 16,
   "id": "07d4cdc8",
   "metadata": {},
   "outputs": [
    {
     "name": "stdout",
     "output_type": "stream",
     "text": [
      "hello\n",
      "world\n",
      "hello\\nworld\n",
      "hello\\nworld\n"
     ]
    }
   ],
   "source": [
    "# \\n 을 활용하면 한 줄이 띄워짐\n",
    "\n",
    "sent = 'hello\\nworld'\n",
    "print(sent)\n",
    "\n",
    "# \\n을 출력하고 싶으면?\n",
    "\n",
    "sent = 'hello\\\\nworld'      # \\을 한 번 더 써준다\n",
    "print(sent)\n",
    "\n",
    "# r을 써서 \\n을 출력하는 방법도 있음\n",
    "\n",
    "sent = r'hello\\nworld'\n",
    "print(sent)"
   ]
  },
  {
   "cell_type": "code",
   "execution_count": 17,
   "id": "4fe56b55",
   "metadata": {},
   "outputs": [
    {
     "data": {
      "text/plain": [
       "'hello\\nworld'"
      ]
     },
     "execution_count": 17,
     "metadata": {},
     "output_type": "execute_result"
    }
   ],
   "source": [
    "sent = 'hello\\nworld'\n",
    "sent #이건 보이는 그대로 출력됨"
   ]
  },
  {
   "cell_type": "code",
   "execution_count": 18,
   "id": "9afce884",
   "metadata": {},
   "outputs": [
    {
     "name": "stdout",
     "output_type": "stream",
     "text": [
      "hello\n",
      "world\n"
     ]
    }
   ],
   "source": [
    "sent = 'hello\\nworld'\n",
    "print(sent) #이건 이스케이프 문자로서 출력"
   ]
  },
  {
   "cell_type": "markdown",
   "id": "9c80fb09",
   "metadata": {},
   "source": [
    "<br>"
   ]
  },
  {
   "cell_type": "markdown",
   "id": "fe4e8da4",
   "metadata": {},
   "source": [
    "<br>"
   ]
  },
  {
   "cell_type": "markdown",
   "id": "fa3c97ab",
   "metadata": {},
   "source": [
    "### 연산자 활용\n",
    "\n",
    "- concatenatation\n",
    "    - \"+\" => 공백 없이 결합하는 방법\n",
    "- 곱하기\n",
    "    - 'a' * 5 => 복제"
   ]
  },
  {
   "cell_type": "code",
   "execution_count": 19,
   "id": "5d133091",
   "metadata": {},
   "outputs": [
    {
     "data": {
      "text/plain": [
       "'hihi'"
      ]
     },
     "execution_count": 19,
     "metadata": {},
     "output_type": "execute_result"
    }
   ],
   "source": [
    "# concatenation, 공백 없는 결합\n",
    "\n",
    "name = 'hi'\n",
    "name + name"
   ]
  },
  {
   "cell_type": "code",
   "execution_count": 20,
   "id": "0af99317",
   "metadata": {},
   "outputs": [
    {
     "data": {
      "text/plain": [
       "'hihihihi'"
      ]
     },
     "execution_count": 20,
     "metadata": {},
     "output_type": "execute_result"
    }
   ],
   "source": [
    "# 곱하기, 복제\n",
    "\n",
    "name * 4"
   ]
  },
  {
   "cell_type": "markdown",
   "id": "53c31b11",
   "metadata": {},
   "source": [
    "<br>"
   ]
  },
  {
   "cell_type": "markdown",
   "id": "57a55ef7",
   "metadata": {},
   "source": [
    "<br>"
   ]
  },
  {
   "cell_type": "markdown",
   "id": "d1531f7f",
   "metadata": {},
   "source": [
    "### 문자열의 특성\n",
    "\n",
    "- 불변적인 성격"
   ]
  },
  {
   "cell_type": "code",
   "execution_count": 23,
   "id": "66c09e45",
   "metadata": {},
   "outputs": [
    {
     "ename": "TypeError",
     "evalue": "'str' object does not support item assignment",
     "output_type": "error",
     "traceback": [
      "\u001b[1;31m---------------------------------------------------------------------------\u001b[0m",
      "\u001b[1;31mTypeError\u001b[0m                                 Traceback (most recent call last)",
      "\u001b[1;32m~\\AppData\\Local\\Temp/ipykernel_14208/4258004148.py\u001b[0m in \u001b[0;36m<module>\u001b[1;34m\u001b[0m\n\u001b[0;32m      1\u001b[0m \u001b[1;31m# 불변적, immutable이므로 바꾸려 할 시 오류 발생\u001b[0m\u001b[1;33m\u001b[0m\u001b[1;33m\u001b[0m\u001b[0m\n\u001b[0;32m      2\u001b[0m \u001b[1;33m\u001b[0m\u001b[0m\n\u001b[1;32m----> 3\u001b[1;33m \u001b[0mname\u001b[0m\u001b[1;33m[\u001b[0m\u001b[1;36m1\u001b[0m\u001b[1;33m]\u001b[0m \u001b[1;33m=\u001b[0m \u001b[1;34m'a'\u001b[0m\u001b[1;33m\u001b[0m\u001b[1;33m\u001b[0m\u001b[0m\n\u001b[0m",
      "\u001b[1;31mTypeError\u001b[0m: 'str' object does not support item assignment"
     ]
    }
   ],
   "source": [
    "# 불변적, immutable이므로 바꾸려 할 시 오류 발생\n",
    "\n",
    "name[1] = 'a'"
   ]
  },
  {
   "cell_type": "markdown",
   "id": "53ca185f",
   "metadata": {},
   "source": [
    "<br>"
   ]
  },
  {
   "cell_type": "markdown",
   "id": "ca3e1836",
   "metadata": {},
   "source": [
    "<br>"
   ]
  },
  {
   "cell_type": "markdown",
   "id": "d07d4cfb",
   "metadata": {},
   "source": [
    "### 슬라이싱, 추출\n",
    "- 문자열의 일부분을 떼어내는 작업\n",
    "- 오프셋은 [시작:끝:스텝]으로 이루어짐\n",
    "- 대괄호 사용, 그 안에 오프셋을 지정\n",
    "    - 오프셋은 0부터 시작됨\n",
    "    - 음수도 가능함, 음수는 -1부터 시작\n",
    "    - 시작은 포함, 끝은 포함되지 않음"
   ]
  },
  {
   "cell_type": "code",
   "execution_count": 26,
   "id": "4f264815",
   "metadata": {},
   "outputs": [
    {
     "data": {
      "text/plain": [
       "'k'"
      ]
     },
     "execution_count": 26,
     "metadata": {},
     "output_type": "execute_result"
    }
   ],
   "source": [
    "# 슬라이싱 예시\n",
    "\n",
    "name = 'jack'\n",
    "name[0]\n",
    "name[-1]"
   ]
  },
  {
   "cell_type": "code",
   "execution_count": 28,
   "id": "4d2e6434",
   "metadata": {},
   "outputs": [
    {
     "data": {
      "text/plain": [
       "'l'"
      ]
     },
     "execution_count": 28,
     "metadata": {},
     "output_type": "execute_result"
    }
   ],
   "source": [
    "#시작은 포함, 끝은 포함하지 않음\n",
    "\n",
    "sent[3:4]"
   ]
  },
  {
   "cell_type": "code",
   "execution_count": 32,
   "id": "3f0a1575",
   "metadata": {},
   "outputs": [
    {
     "data": {
      "text/plain": [
       "'hello\\nworld'"
      ]
     },
     "execution_count": 32,
     "metadata": {},
     "output_type": "execute_result"
    }
   ],
   "source": [
    "sent"
   ]
  },
  {
   "cell_type": "code",
   "execution_count": 29,
   "id": "b6a6aae8",
   "metadata": {},
   "outputs": [
    {
     "data": {
      "text/plain": [
       "'hello\\n'"
      ]
     },
     "execution_count": 29,
     "metadata": {},
     "output_type": "execute_result"
    }
   ],
   "source": [
    "# 처음부터 5까지 출력\n",
    "\n",
    "sent[0:6] \n",
    "sent[:6] #이렇게 하면 됨"
   ]
  },
  {
   "cell_type": "code",
   "execution_count": 30,
   "id": "ec60b7a5",
   "metadata": {},
   "outputs": [
    {
     "data": {
      "text/plain": [
       "'hlowrd'"
      ]
     },
     "execution_count": 30,
     "metadata": {},
     "output_type": "execute_result"
    }
   ],
   "source": [
    "#처음부터 끝까지 2스텝씩 \n",
    "\n",
    "sent[::2]"
   ]
  },
  {
   "cell_type": "code",
   "execution_count": 42,
   "id": "e9db48e2",
   "metadata": {},
   "outputs": [
    {
     "data": {
      "text/plain": [
       "'dlrow\\nolleh'"
      ]
     },
     "execution_count": 42,
     "metadata": {},
     "output_type": "execute_result"
    }
   ],
   "source": [
    "#모든 글자를 거꾸로 출력\n",
    "\n",
    "sent[::-1]"
   ]
  },
  {
   "cell_type": "markdown",
   "id": "a388677e",
   "metadata": {},
   "source": [
    "### 리스트 슬라이싱 가능"
   ]
  },
  {
   "cell_type": "code",
   "execution_count": 43,
   "id": "83d9133f",
   "metadata": {},
   "outputs": [
    {
     "data": {
      "text/plain": [
       "'benz'"
      ]
     },
     "execution_count": 43,
     "metadata": {},
     "output_type": "execute_result"
    }
   ],
   "source": [
    "cars = ['benz', 'kia']\n",
    "cars[0]"
   ]
  },
  {
   "cell_type": "markdown",
   "id": "0ab80c40",
   "metadata": {},
   "source": [
    "<br>"
   ]
  },
  {
   "cell_type": "markdown",
   "id": "15fef26e",
   "metadata": {},
   "source": [
    "<br>"
   ]
  },
  {
   "cell_type": "markdown",
   "id": "8a175787",
   "metadata": {},
   "source": [
    "### 리스트, 집합\n",
    "\n",
    "#### 리스트\n",
    "- 대괄호에 자료들 넣어 놓음\n",
    "- 순서 존재\n",
    "- 중복 허용\n",
    "- list()로 형변환\n",
    "\n",
    "#### 집합\n",
    "- 브라켓 사용 {}\n",
    "- 순서 없음\n",
    "- 중복 불허\n",
    "- set()으로 형변환\n",
    "- 수학의 집합 개념"
   ]
  },
  {
   "cell_type": "code",
   "execution_count": 38,
   "id": "a5ea510b",
   "metadata": {},
   "outputs": [
    {
     "data": {
      "text/plain": [
       "['benz', 'kia', 'benz']"
      ]
     },
     "execution_count": 38,
     "metadata": {},
     "output_type": "execute_result"
    }
   ],
   "source": [
    "# 리스트 예시\n",
    "\n",
    "cars = ['benz', 'kia', 'benz']\n",
    "cars"
   ]
  },
  {
   "cell_type": "code",
   "execution_count": 39,
   "id": "bb19ad82",
   "metadata": {},
   "outputs": [
    {
     "data": {
      "text/plain": [
       "{'benz', 'kia'}"
      ]
     },
     "execution_count": 39,
     "metadata": {},
     "output_type": "execute_result"
    }
   ],
   "source": [
    "# 집합 예시\n",
    "\n",
    "set(cars) #중복 사라짐"
   ]
  },
  {
   "cell_type": "code",
   "execution_count": 40,
   "id": "7e266cd4",
   "metadata": {},
   "outputs": [
    {
     "data": {
      "text/plain": [
       "['kia', 'benz', 'benz']"
      ]
     },
     "execution_count": 40,
     "metadata": {},
     "output_type": "execute_result"
    }
   ],
   "source": [
    "# 정렬\n",
    "\n",
    "sorted(cars, reverse=True)"
   ]
  },
  {
   "cell_type": "code",
   "execution_count": 15,
   "id": "4b3d239e",
   "metadata": {},
   "outputs": [
    {
     "data": {
      "text/plain": [
       "['.',\n",
       " '1851',\n",
       " 'Dick',\n",
       " 'ETYMOLOGY',\n",
       " 'Herman',\n",
       " 'Melville',\n",
       " 'Moby',\n",
       " '[',\n",
       " ']',\n",
       " 'by']"
      ]
     },
     "execution_count": 15,
     "metadata": {},
     "output_type": "execute_result"
    }
   ],
   "source": [
    "# 정렬 시에는 문장 부호, 숫자, 대문자, 소문자 순으로 출력됨\n",
    "\n",
    "sorted(set(moby[:10])) "
   ]
  },
  {
   "cell_type": "markdown",
   "id": "ee5ea8fa",
   "metadata": {},
   "source": [
    "<br>"
   ]
  },
  {
   "cell_type": "markdown",
   "id": "3eadcdaa",
   "metadata": {},
   "source": [
    "<br>"
   ]
  },
  {
   "cell_type": "markdown",
   "id": "8bb3e16d",
   "metadata": {},
   "source": [
    "## NLTK\n",
    "\n",
    "- natural language toolkit\n",
    "- 자연어 분석을 위해 교육용으로 배포된 패키지\n",
    "- 텍스트 정제돼있음\n",
    "- 내장함수, 기능들이 추가됨\n",
    "    - 토크나이즈, 파싱, 태깅 등등"
   ]
  },
  {
   "cell_type": "markdown",
   "id": "f7991abf",
   "metadata": {},
   "source": [
    "### install"
   ]
  },
  {
   "cell_type": "code",
   "execution_count": 1,
   "id": "764ee66f",
   "metadata": {
    "scrolled": false
   },
   "outputs": [
    {
     "name": "stdout",
     "output_type": "stream",
     "text": [
      "Requirement already satisfied: nltk in c:\\anaconda\\lib\\site-packages (3.6.5)\n",
      "Requirement already satisfied: click in c:\\anaconda\\lib\\site-packages (from nltk) (8.0.3)\n",
      "Requirement already satisfied: joblib in c:\\anaconda\\lib\\site-packages (from nltk) (1.1.0)\n",
      "Requirement already satisfied: regex>=2021.8.3 in c:\\anaconda\\lib\\site-packages (from nltk) (2021.8.3)\n",
      "Requirement already satisfied: tqdm in c:\\anaconda\\lib\\site-packages (from nltk) (4.62.3)\n",
      "Requirement already satisfied: colorama in c:\\anaconda\\lib\\site-packages (from click->nltk) (0.4.4)\n",
      "Note: you may need to restart the kernel to use updated packages.\n"
     ]
    }
   ],
   "source": [
    "#pip install nltk"
   ]
  },
  {
   "cell_type": "markdown",
   "id": "e7564b23",
   "metadata": {},
   "source": [
    "### download 'book'"
   ]
  },
  {
   "cell_type": "code",
   "execution_count": 3,
   "id": "15a8ea75",
   "metadata": {},
   "outputs": [
    {
     "name": "stderr",
     "output_type": "stream",
     "text": [
      "[nltk_data] Downloading collection 'book'\n",
      "[nltk_data]    | \n",
      "[nltk_data]    | Downloading package abc to\n",
      "[nltk_data]    |     C:\\Users\\lgpc\\AppData\\Roaming\\nltk_data...\n",
      "[nltk_data]    |   Unzipping corpora\\abc.zip.\n",
      "[nltk_data]    | Downloading package brown to\n",
      "[nltk_data]    |     C:\\Users\\lgpc\\AppData\\Roaming\\nltk_data...\n",
      "[nltk_data]    |   Unzipping corpora\\brown.zip.\n",
      "[nltk_data]    | Downloading package chat80 to\n",
      "[nltk_data]    |     C:\\Users\\lgpc\\AppData\\Roaming\\nltk_data...\n",
      "[nltk_data]    |   Unzipping corpora\\chat80.zip.\n",
      "[nltk_data]    | Downloading package cmudict to\n",
      "[nltk_data]    |     C:\\Users\\lgpc\\AppData\\Roaming\\nltk_data...\n",
      "[nltk_data]    |   Unzipping corpora\\cmudict.zip.\n",
      "[nltk_data]    | Downloading package conll2000 to\n",
      "[nltk_data]    |     C:\\Users\\lgpc\\AppData\\Roaming\\nltk_data...\n",
      "[nltk_data]    |   Unzipping corpora\\conll2000.zip.\n",
      "[nltk_data]    | Downloading package conll2002 to\n",
      "[nltk_data]    |     C:\\Users\\lgpc\\AppData\\Roaming\\nltk_data...\n",
      "[nltk_data]    |   Unzipping corpora\\conll2002.zip.\n",
      "[nltk_data]    | Downloading package dependency_treebank to\n",
      "[nltk_data]    |     C:\\Users\\lgpc\\AppData\\Roaming\\nltk_data...\n",
      "[nltk_data]    |   Unzipping corpora\\dependency_treebank.zip.\n",
      "[nltk_data]    | Downloading package genesis to\n",
      "[nltk_data]    |     C:\\Users\\lgpc\\AppData\\Roaming\\nltk_data...\n",
      "[nltk_data]    |   Unzipping corpora\\genesis.zip.\n",
      "[nltk_data]    | Downloading package gutenberg to\n",
      "[nltk_data]    |     C:\\Users\\lgpc\\AppData\\Roaming\\nltk_data...\n",
      "[nltk_data]    |   Unzipping corpora\\gutenberg.zip.\n",
      "[nltk_data]    | Downloading package ieer to\n",
      "[nltk_data]    |     C:\\Users\\lgpc\\AppData\\Roaming\\nltk_data...\n",
      "[nltk_data]    |   Unzipping corpora\\ieer.zip.\n",
      "[nltk_data]    | Downloading package inaugural to\n",
      "[nltk_data]    |     C:\\Users\\lgpc\\AppData\\Roaming\\nltk_data...\n",
      "[nltk_data]    |   Unzipping corpora\\inaugural.zip.\n",
      "[nltk_data]    | Downloading package movie_reviews to\n",
      "[nltk_data]    |     C:\\Users\\lgpc\\AppData\\Roaming\\nltk_data...\n",
      "[nltk_data]    |   Unzipping corpora\\movie_reviews.zip.\n",
      "[nltk_data]    | Downloading package nps_chat to\n",
      "[nltk_data]    |     C:\\Users\\lgpc\\AppData\\Roaming\\nltk_data...\n",
      "[nltk_data]    |   Unzipping corpora\\nps_chat.zip.\n",
      "[nltk_data]    | Downloading package names to\n",
      "[nltk_data]    |     C:\\Users\\lgpc\\AppData\\Roaming\\nltk_data...\n",
      "[nltk_data]    |   Unzipping corpora\\names.zip.\n",
      "[nltk_data]    | Downloading package ppattach to\n",
      "[nltk_data]    |     C:\\Users\\lgpc\\AppData\\Roaming\\nltk_data...\n",
      "[nltk_data]    |   Unzipping corpora\\ppattach.zip.\n",
      "[nltk_data]    | Downloading package reuters to\n",
      "[nltk_data]    |     C:\\Users\\lgpc\\AppData\\Roaming\\nltk_data...\n",
      "[nltk_data]    | Downloading package senseval to\n",
      "[nltk_data]    |     C:\\Users\\lgpc\\AppData\\Roaming\\nltk_data...\n",
      "[nltk_data]    |   Unzipping corpora\\senseval.zip.\n",
      "[nltk_data]    | Downloading package state_union to\n",
      "[nltk_data]    |     C:\\Users\\lgpc\\AppData\\Roaming\\nltk_data...\n",
      "[nltk_data]    |   Unzipping corpora\\state_union.zip.\n",
      "[nltk_data]    | Downloading package stopwords to\n",
      "[nltk_data]    |     C:\\Users\\lgpc\\AppData\\Roaming\\nltk_data...\n",
      "[nltk_data]    |   Unzipping corpora\\stopwords.zip.\n",
      "[nltk_data]    | Downloading package swadesh to\n",
      "[nltk_data]    |     C:\\Users\\lgpc\\AppData\\Roaming\\nltk_data...\n",
      "[nltk_data]    |   Unzipping corpora\\swadesh.zip.\n",
      "[nltk_data]    | Downloading package timit to\n",
      "[nltk_data]    |     C:\\Users\\lgpc\\AppData\\Roaming\\nltk_data...\n",
      "[nltk_data]    |   Unzipping corpora\\timit.zip.\n",
      "[nltk_data]    | Downloading package treebank to\n",
      "[nltk_data]    |     C:\\Users\\lgpc\\AppData\\Roaming\\nltk_data...\n",
      "[nltk_data]    |   Unzipping corpora\\treebank.zip.\n",
      "[nltk_data]    | Downloading package toolbox to\n",
      "[nltk_data]    |     C:\\Users\\lgpc\\AppData\\Roaming\\nltk_data...\n",
      "[nltk_data]    |   Unzipping corpora\\toolbox.zip.\n",
      "[nltk_data]    | Downloading package udhr to\n",
      "[nltk_data]    |     C:\\Users\\lgpc\\AppData\\Roaming\\nltk_data...\n",
      "[nltk_data]    |   Unzipping corpora\\udhr.zip.\n",
      "[nltk_data]    | Downloading package udhr2 to\n",
      "[nltk_data]    |     C:\\Users\\lgpc\\AppData\\Roaming\\nltk_data...\n",
      "[nltk_data]    |   Unzipping corpora\\udhr2.zip.\n",
      "[nltk_data]    | Downloading package unicode_samples to\n",
      "[nltk_data]    |     C:\\Users\\lgpc\\AppData\\Roaming\\nltk_data...\n",
      "[nltk_data]    |   Unzipping corpora\\unicode_samples.zip.\n",
      "[nltk_data]    | Downloading package webtext to\n",
      "[nltk_data]    |     C:\\Users\\lgpc\\AppData\\Roaming\\nltk_data...\n",
      "[nltk_data]    |   Unzipping corpora\\webtext.zip.\n",
      "[nltk_data]    | Downloading package wordnet to\n",
      "[nltk_data]    |     C:\\Users\\lgpc\\AppData\\Roaming\\nltk_data...\n",
      "[nltk_data]    |   Unzipping corpora\\wordnet.zip.\n",
      "[nltk_data]    | Downloading package wordnet_ic to\n",
      "[nltk_data]    |     C:\\Users\\lgpc\\AppData\\Roaming\\nltk_data...\n",
      "[nltk_data]    |   Unzipping corpora\\wordnet_ic.zip.\n",
      "[nltk_data]    | Downloading package words to\n",
      "[nltk_data]    |     C:\\Users\\lgpc\\AppData\\Roaming\\nltk_data...\n",
      "[nltk_data]    |   Unzipping corpora\\words.zip.\n",
      "[nltk_data]    | Downloading package maxent_treebank_pos_tagger to\n",
      "[nltk_data]    |     C:\\Users\\lgpc\\AppData\\Roaming\\nltk_data...\n",
      "[nltk_data]    |   Unzipping taggers\\maxent_treebank_pos_tagger.zip.\n",
      "[nltk_data]    | Downloading package maxent_ne_chunker to\n",
      "[nltk_data]    |     C:\\Users\\lgpc\\AppData\\Roaming\\nltk_data...\n",
      "[nltk_data]    |   Unzipping chunkers\\maxent_ne_chunker.zip.\n",
      "[nltk_data]    | Downloading package universal_tagset to\n",
      "[nltk_data]    |     C:\\Users\\lgpc\\AppData\\Roaming\\nltk_data...\n",
      "[nltk_data]    |   Unzipping taggers\\universal_tagset.zip.\n",
      "[nltk_data]    | Downloading package punkt to\n",
      "[nltk_data]    |     C:\\Users\\lgpc\\AppData\\Roaming\\nltk_data...\n",
      "[nltk_data]    |   Unzipping tokenizers\\punkt.zip.\n",
      "[nltk_data]    | Downloading package book_grammars to\n",
      "[nltk_data]    |     C:\\Users\\lgpc\\AppData\\Roaming\\nltk_data...\n",
      "[nltk_data]    |   Unzipping grammars\\book_grammars.zip.\n",
      "[nltk_data]    | Downloading package city_database to\n",
      "[nltk_data]    |     C:\\Users\\lgpc\\AppData\\Roaming\\nltk_data...\n",
      "[nltk_data]    |   Unzipping corpora\\city_database.zip.\n",
      "[nltk_data]    | Downloading package tagsets to\n",
      "[nltk_data]    |     C:\\Users\\lgpc\\AppData\\Roaming\\nltk_data...\n",
      "[nltk_data]    |   Unzipping help\\tagsets.zip.\n",
      "[nltk_data]    | Downloading package panlex_swadesh to\n",
      "[nltk_data]    |     C:\\Users\\lgpc\\AppData\\Roaming\\nltk_data...\n",
      "[nltk_data]    | Downloading package averaged_perceptron_tagger to\n",
      "[nltk_data]    |     C:\\Users\\lgpc\\AppData\\Roaming\\nltk_data...\n",
      "[nltk_data]    |   Unzipping taggers\\averaged_perceptron_tagger.zip.\n",
      "[nltk_data]    | \n",
      "[nltk_data]  Done downloading collection book\n"
     ]
    },
    {
     "data": {
      "text/plain": [
       "True"
      ]
     },
     "execution_count": 3,
     "metadata": {},
     "output_type": "execute_result"
    }
   ],
   "source": [
    "import nltk\n",
    "nltk.download('book')"
   ]
  },
  {
   "cell_type": "markdown",
   "id": "3413076d",
   "metadata": {},
   "source": [
    "### import 'book'"
   ]
  },
  {
   "cell_type": "code",
   "execution_count": 32,
   "id": "95459713",
   "metadata": {},
   "outputs": [
    {
     "name": "stdout",
     "output_type": "stream",
     "text": [
      "*** Introductory Examples for the NLTK Book ***\n",
      "Loading text1, ..., text9 and sent1, ..., sent9\n",
      "Type the name of the text or sentence to view it.\n",
      "Type: 'texts()' or 'sents()' to list the materials.\n",
      "text1: Moby Dick by Herman Melville 1851\n",
      "text2: Sense and Sensibility by Jane Austen 1811\n",
      "text3: The Book of Genesis\n",
      "text4: Inaugural Address Corpus\n",
      "text5: Chat Corpus\n",
      "text6: Monty Python and the Holy Grail\n",
      "text7: Wall Street Journal\n",
      "text8: Personals Corpus\n",
      "text9: The Man Who Was Thursday by G . K . Chesterton 1908\n"
     ]
    }
   ],
   "source": [
    "from nltk import book"
   ]
  },
  {
   "cell_type": "markdown",
   "id": "75463738",
   "metadata": {},
   "source": [
    "### 토큰 담기 및 접근"
   ]
  },
  {
   "cell_type": "code",
   "execution_count": 33,
   "id": "bf2e3762",
   "metadata": {},
   "outputs": [
    {
     "data": {
      "text/plain": [
       "['[',\n",
       " 'Moby',\n",
       " 'Dick',\n",
       " 'by',\n",
       " 'Herman',\n",
       " 'Melville',\n",
       " '1851',\n",
       " ']',\n",
       " 'ETYMOLOGY',\n",
       " '.']"
      ]
     },
     "execution_count": 33,
     "metadata": {},
     "output_type": "execute_result"
    }
   ],
   "source": [
    "#토큰 : 프로그래밍의 단어 단위. I'm / I, 'm . 단어랑 비슷하다고 보면 됨\n",
    "\n",
    "moby = book.text1\n",
    "moby.tokens[:10] #토큰에 접근하는 방법임"
   ]
  },
  {
   "cell_type": "code",
   "execution_count": 8,
   "id": "1afa1c02",
   "metadata": {},
   "outputs": [
    {
     "data": {
      "text/plain": [
       "260819"
      ]
     },
     "execution_count": 8,
     "metadata": {},
     "output_type": "execute_result"
    }
   ],
   "source": [
    "# 1. 길이 세기\n",
    "\n",
    "len(moby)"
   ]
  },
  {
   "cell_type": "code",
   "execution_count": 34,
   "id": "c8639231",
   "metadata": {},
   "outputs": [
    {
     "data": {
      "text/plain": [
       "19317"
      ]
     },
     "execution_count": 34,
     "metadata": {},
     "output_type": "execute_result"
    }
   ],
   "source": [
    "# 2. 중복 없이 단어 몇 개?\n",
    "\n",
    "len(set(moby))"
   ]
  },
  {
   "cell_type": "code",
   "execution_count": 37,
   "id": "42a92ed6",
   "metadata": {},
   "outputs": [
    {
     "data": {
      "text/plain": [
       "0.07406285585022564"
      ]
     },
     "execution_count": 37,
     "metadata": {},
     "output_type": "execute_result"
    }
   ],
   "source": [
    "# 3. Lexical Diversity\n",
    "\n",
    "len(set(moby)) / len(moby)   # 중복 없는 단어 개수 / 총 단어 개수"
   ]
  },
  {
   "cell_type": "markdown",
   "id": "815178e3",
   "metadata": {},
   "source": [
    "<br>"
   ]
  },
  {
   "cell_type": "markdown",
   "id": "336c3ae4",
   "metadata": {},
   "source": [
    "<br>"
   ]
  },
  {
   "cell_type": "markdown",
   "id": "3a988259",
   "metadata": {},
   "source": [
    "## Quiz. 2\n",
    "- text6 가져와서 토큰을 변수에 담고\n",
    "- 중복 없는 셋으로 저장하고 내림차순\n",
    "    - 앞에서 10개 단어 출력\n",
    "    - 단어에 z가 있으면 대문자로 바꾸시오 *** <b>z가 포함된 단어의 첫 글자를 대문자로 바꾸는 것으로 이해했습니다. </b>\n",
    "    - z가 없는데 4자 이상이면 끝 글자를 대문자로 바꾸기"
   ]
  },
  {
   "cell_type": "code",
   "execution_count": 118,
   "id": "21b204ff",
   "metadata": {},
   "outputs": [
    {
     "name": "stdout",
     "output_type": "stream",
     "text": [
      "[['Z', 'o', 'o', 's', 'h'], ['Z', 'o', 'o', 'p'], ['Z', 'o', 'o'], ['Z', 'o', 'n', 'e'], ['Z', 'h', 'i', 'v'], ['y', 'o', 'u', 'r', 's', 'e', 'l', 'F'], ['y', 'o', 'u', 'r', 'S'], ['y', 'o', 'u', 'R'], ['y', 'o', 'u', 'n', 'G'], ['y', 'o', 'u']]\n"
     ]
    }
   ],
   "source": [
    "words = book.text6\n",
    "words = sorted(set(words), reverse = True)\n",
    "words = words[:10]\n",
    "\n",
    "for i in range (len(words)):\n",
    "    words[i] = list(words[i])\n",
    "    \n",
    "    if 'z' in words[i]:\n",
    "        words[i][0] = 'Z'\n",
    "    else:\n",
    "        if len(words[i]) >= 4:\n",
    "            words[i][-1] = str(words[i][-1].upper())\n",
    "            \n",
    "print(words)"
   ]
  },
  {
   "cell_type": "markdown",
   "id": "c881778a",
   "metadata": {},
   "source": [
    "<br>"
   ]
  },
  {
   "cell_type": "markdown",
   "id": "42a5bf3b",
   "metadata": {},
   "source": [
    "<br>"
   ]
  },
  {
   "cell_type": "markdown",
   "id": "34c251a1",
   "metadata": {},
   "source": [
    "## Quiz. 3\n",
    "- 주민번호, 휴대폰 번호, 이메일 주소 입력 받음.\n",
    "- 주민번호, 휴대폰번호는 숫자만 입력받음 (하이픈 없이 -)\n",
    "- 이메일 주소는 아이디만 입력 받음(@ 없이)\n",
    "    - 1. \"당신은 {}년 {}월 {}일 출생의 {남성/여성}입니다.\"\n",
    "    - 2. 휴대폰 번호: 000-0000-0000\n",
    "    - 3. 이메일주소: zzz@gmail.com "
   ]
  },
  {
   "cell_type": "code",
   "execution_count": 4,
   "id": "2f19495c",
   "metadata": {},
   "outputs": [
    {
     "name": "stdout",
     "output_type": "stream",
     "text": [
      "주민번호를 입력해주세요: 2203244123456\n",
      "휴대폰 번호를 입력해주세요: 01012345678\n",
      "이메일주소를 입력해주세요: abc1234\n",
      "당신은 2022년 3월 24일 출생의 여성입니다.\n",
      "휴대폰 번호: 010-1234-5678\n",
      "이메일주소: abc1234@gmail.com\n"
     ]
    }
   ],
   "source": [
    "rrn = input('주민번호를 입력해주세요: ')\n",
    "phone_num = input('휴대폰 번호를 입력해주세요: ')\n",
    "email = input('이메일주소를 입력해주세요: ')\n",
    "\n",
    "birth_year = ''\n",
    "birth_month = int(rrn[2:4])\n",
    "birth_date = int(rrn[4:6])\n",
    "gender = ''\n",
    "\n",
    "if int(rrn[0]) <= 2:\n",
    "    birth_year = '20' + rrn[:2]\n",
    "else:\n",
    "    birth_year = '19' + rrn[:2]\n",
    "\n",
    "\n",
    "if rrn[6] == 1 or rrn[6] == 3:\n",
    "    gender = '남성'\n",
    "else :\n",
    "    gender = '여성'\n",
    "\n",
    "\n",
    "print(f'''당신은 {birth_year}년 {birth_month}월 {birth_date}일 출생의 {gender}입니다.\n",
    "휴대폰 번호: {phone_num[:3]}-{phone_num[3:7]}-{phone_num[7:]}\n",
    "이메일주소: {email}@gmail.com''') "
   ]
  }
 ],
 "metadata": {
  "kernelspec": {
   "display_name": "Python 3 (ipykernel)",
   "language": "python",
   "name": "python3"
  },
  "language_info": {
   "codemirror_mode": {
    "name": "ipython",
    "version": 3
   },
   "file_extension": ".py",
   "mimetype": "text/x-python",
   "name": "python",
   "nbconvert_exporter": "python",
   "pygments_lexer": "ipython3",
   "version": "3.9.7"
  }
 },
 "nbformat": 4,
 "nbformat_minor": 5
}
