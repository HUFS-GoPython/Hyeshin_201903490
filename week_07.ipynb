{
 "cells": [
  {
   "cell_type": "markdown",
   "id": "bd22fb32",
   "metadata": {},
   "source": [
    "# week_07"
   ]
  },
  {
   "cell_type": "markdown",
   "id": "f8869c5c",
   "metadata": {},
   "source": [
    "<br>"
   ]
  },
  {
   "cell_type": "markdown",
   "id": "82d2dcb5",
   "metadata": {},
   "source": [
    "## 함수\n",
    "1. 정의\n",
    "2. 인수\n",
    "3. 호출방식"
   ]
  },
  {
   "cell_type": "markdown",
   "id": "22fac2a9",
   "metadata": {},
   "source": [
    "### 1. 정의\n",
    "- 코드의 덩어리, 코드의 묶음\n",
    "- 간편한 재사용을 위해. 한 줄로 재사용 가능함\n",
    "- 정의(define) 부분 + 호출(call) 부분\n",
    "    - 정의하기\n",
    "    def 함수이름(매개변수1, 2, 3, ...):\n",
    "        수행문1\n",
    "        수행문2\n",
    "        ...\n",
    "        return 반환값\n",
    "    - 호출하기\n",
    "     함수이름(인수1, 2, 3, ...)\n",
    "\n",
    "- 반환 값과 매개변수\n",
    "    1. 둘 다 없는\n",
    "    2. 둘 다 있는\n",
    "    3. 매개 변수만 있는\n",
    "    4. 반환 값만 있는"
   ]
  },
  {
   "cell_type": "markdown",
   "id": "7307f4b8",
   "metadata": {},
   "source": [
    "#### 반환 값과 매개변수 1. 둘다 없는"
   ]
  },
  {
   "cell_type": "code",
   "execution_count": 9,
   "id": "3843346d",
   "metadata": {},
   "outputs": [
    {
     "name": "stdout",
     "output_type": "stream",
     "text": [
      "quack\n"
     ]
    }
   ],
   "source": [
    "def make_a_sound():\n",
    "    print('quack')\n",
    "    #return none\n",
    "    \n",
    "make_a_sound()"
   ]
  },
  {
   "cell_type": "markdown",
   "id": "c20654f7",
   "metadata": {},
   "source": [
    "#### 반환 값과 매개변수 2. 둘다 있는"
   ]
  },
  {
   "cell_type": "code",
   "execution_count": 3,
   "id": "83bfdc95",
   "metadata": {},
   "outputs": [],
   "source": [
    "y = x+1 # x = 매개변수, y = 반환값, x+1 = 수헹문 으로 두고 함수짜기"
   ]
  },
  {
   "cell_type": "code",
   "execution_count": 1,
   "id": "3011ab2f",
   "metadata": {},
   "outputs": [],
   "source": [
    "# 두 가지 경우 가능\n",
    "\n",
    "def ex(x):\n",
    "    y = x+1\n",
    "    return y\n",
    "\n",
    "def ex(x):\n",
    "    return x+1"
   ]
  },
  {
   "cell_type": "markdown",
   "id": "088837ce",
   "metadata": {},
   "source": [
    "#### 반환 값과 매개변수 3. 매개 변수만 있는"
   ]
  },
  {
   "cell_type": "code",
   "execution_count": 6,
   "id": "cd2ecef0",
   "metadata": {},
   "outputs": [
    {
     "name": "stdout",
     "output_type": "stream",
     "text": [
      "ay\n"
     ]
    }
   ],
   "source": [
    "def make_a_sound(sound):\n",
    "    print(sound)\n",
    "    #return none\n",
    "    \n",
    "make_a_sound('ay')"
   ]
  },
  {
   "cell_type": "markdown",
   "id": "b52d6acf",
   "metadata": {},
   "source": [
    "#### 반환 값과 매개변수 4. 반환 값만 있는"
   ]
  },
  {
   "cell_type": "code",
   "execution_count": 8,
   "id": "956e883a",
   "metadata": {},
   "outputs": [
    {
     "name": "stdout",
     "output_type": "stream",
     "text": [
      "Splendid\n"
     ]
    }
   ],
   "source": [
    "def agree():\n",
    "    return True\n",
    "\n",
    "if agree():\n",
    "    print('Splendid')\n",
    "else:\n",
    "    print('unexpected')"
   ]
  },
  {
   "cell_type": "markdown",
   "id": "7e460d52",
   "metadata": {},
   "source": [
    "#### `이름 짓기`\n",
    "    - 소문자만 사용함\n",
    "    - 동작과 관련되어 있기 때문에 '동사-명사'의 형태 주로 씀\n",
    "    - i.e. 클래스는 명사\n",
    "    - def word(x) def split_word(o)\n",
    "    - 줄임말 쓰지 말 것, 많이 쓰는 줄임말만 가능\n",
    "        - sp_word(x)\n",
    "        - calculate => calc(o)"
   ]
  },
  {
   "cell_type": "markdown",
   "id": "47297564",
   "metadata": {},
   "source": [
    "<br>"
   ]
  },
  {
   "cell_type": "markdown",
   "id": "eb17e772",
   "metadata": {},
   "source": [
    "### 2. 인수 \n",
    "- 매개변수 vs 인수\n",
    "    - 매개변수: 함수 내('인터페이스')에서 유효한 변수\n",
    "    - 인수: 실제 매개변수에 대입되는 변수\n",
    "    - 호출 시에 인수가 매개변수에 복제됨\n",
    "    <br><br>\n",
    "- 위치 인수\n",
    "    - positional argument\n",
    "    - 매개변수를 값에 순서에 상응하게 복제\n",
    "    <br><br>\n",
    "- 키워드 인수\n",
    "    - keyword argument\n",
    "    - 매개변수 키워드에 맞는 인수로 지정. => 위치 달라도 됨\n",
    "    <br><br>\n",
    "- 디폴트 인수\n",
    "    - 매개변수를 정의할 때 값을 미리 지정해놓는 것\n",
    "    - 호출 시에 값이 입력되지 않으면 디폴트값을 사용함\n",
    "    - 디폴트 값이 맨 앞에 위치할 수 없음"
   ]
  },
  {
   "cell_type": "code",
   "execution_count": null,
   "id": "fd99c6ca",
   "metadata": {},
   "outputs": [],
   "source": [
    "def make_a_sound(sound):  # 매개변수 sound\n",
    "    print(sound)\n",
    "    \n",
    "yay = 'yay'\n",
    "make_a_sound(yay)         # 인수 yay"
   ]
  },
  {
   "cell_type": "code",
   "execution_count": 1,
   "id": "b808ae96",
   "metadata": {},
   "outputs": [
    {
     "data": {
      "text/plain": [
       "'black'"
      ]
     },
     "execution_count": 1,
     "metadata": {},
     "output_type": "execute_result"
    }
   ],
   "source": [
    "def commentary(color):    # if문 활용\n",
    "    if color == 'g':\n",
    "        return 'green'\n",
    "    else:\n",
    "        return 'black'\n",
    "    \n",
    "color = 'white'\n",
    "commentary(color)"
   ]
  },
  {
   "cell_type": "code",
   "execution_count": 2,
   "id": "ff1dfda4",
   "metadata": {},
   "outputs": [
    {
     "name": "stdout",
     "output_type": "stream",
     "text": [
      "green\n",
      "black\n",
      "black\n"
     ]
    }
   ],
   "source": [
    "colors = ['g', 'b', 't']  # 리스트 활용\n",
    "\n",
    "for color in colors:\n",
    "    print(commentary(color))"
   ]
  },
  {
   "cell_type": "markdown",
   "id": "c9142e80",
   "metadata": {},
   "source": [
    "#### 위치 인수"
   ]
  },
  {
   "cell_type": "code",
   "execution_count": 3,
   "id": "0be916f9",
   "metadata": {},
   "outputs": [
    {
     "data": {
      "text/plain": [
       "{'wine': 'a', 'entree': 'b', 'dessert': 'c'}"
      ]
     },
     "execution_count": 3,
     "metadata": {},
     "output_type": "execute_result"
    }
   ],
   "source": [
    "def menu(wine, entree, dessert):\n",
    "    return {'wine':wine, 'entree':entree, 'dessert':dessert}\n",
    "\n",
    "menu('a', 'b', 'c')  # 위치에 맞는 인수가 순차적으로 들어감"
   ]
  },
  {
   "cell_type": "markdown",
   "id": "51b82f80",
   "metadata": {},
   "source": [
    "#### 키워드 인수"
   ]
  },
  {
   "cell_type": "code",
   "execution_count": 4,
   "id": "bb197351",
   "metadata": {},
   "outputs": [
    {
     "data": {
      "text/plain": [
       "{'wine': 'c', 'entree': 'a', 'dessert': 'b'}"
      ]
     },
     "execution_count": 4,
     "metadata": {},
     "output_type": "execute_result"
    }
   ],
   "source": [
    "# 순서가 없어도 순서가 잡힌다.\n",
    "\n",
    "menu(entree='a', dessert='b', wine='c')"
   ]
  },
  {
   "cell_type": "markdown",
   "id": "f07d8a2a",
   "metadata": {},
   "source": [
    "#### 디폴트 인수 _ `디폴트 값은 뒤로!`"
   ]
  },
  {
   "cell_type": "code",
   "execution_count": 17,
   "id": "bb402f08",
   "metadata": {},
   "outputs": [
    {
     "data": {
      "text/plain": [
       "{'wine': 'rioja', 'entree': 'egg', 'dessert': 'strawberry'}"
      ]
     },
     "execution_count": 17,
     "metadata": {},
     "output_type": "execute_result"
    }
   ],
   "source": [
    "# 주의) 디폴트 값은 뒤로 가야함!\n",
    "\n",
    "def menu2(wine, entree, dessert='strawberry'):\n",
    "    return {'wine':wine, 'entree':entree, 'dessert':dessert}\n",
    "\n",
    "menu2('rioja', 'egg')"
   ]
  },
  {
   "cell_type": "code",
   "execution_count": 18,
   "id": "6a03b69e",
   "metadata": {},
   "outputs": [
    {
     "data": {
      "text/plain": [
       "{'wine': 'rioja', 'entree': 'egg', 'dessert': 'kiwi'}"
      ]
     },
     "execution_count": 18,
     "metadata": {},
     "output_type": "execute_result"
    }
   ],
   "source": [
    "menu2('rioja', 'egg', 'kiwi')"
   ]
  },
  {
   "cell_type": "markdown",
   "id": "3da73aac",
   "metadata": {},
   "source": [
    "<br>"
   ]
  },
  {
   "cell_type": "markdown",
   "id": "76f73d14",
   "metadata": {},
   "source": [
    "<br>"
   ]
  },
  {
   "cell_type": "markdown",
   "id": "d4b9c11c",
   "metadata": {},
   "source": [
    "### 3. 호출방식\n",
    "- 정의 부분은 호출 시 실행됨\n",
    "- 메모리에 저장되어 있다가 호출 시에\n",
    "- 매개변수 vs 인수\n",
    "    - 참조에 의한 호출(call by reference)\n",
    "    - \"매개변수 = 인수\" copy되기 때문에 나타나는 문제점\n",
    "        - 리스트처럼 가변 객체일 때 주소값을 공유하므로 값이 변함."
   ]
  },
  {
   "cell_type": "markdown",
   "id": "33d83260",
   "metadata": {},
   "source": [
    "#### 함수 호출 순서"
   ]
  },
  {
   "cell_type": "code",
   "execution_count": 20,
   "id": "56397f14",
   "metadata": {},
   "outputs": [
    {
     "name": "stdout",
     "output_type": "stream",
     "text": [
      "2\n",
      "3\n",
      "1\n",
      "4\n"
     ]
    }
   ],
   "source": [
    "# 순서는 2314\n",
    "\n",
    "def multiply(x,y):\n",
    "    print('1')\n",
    "    return x * y\n",
    "\n",
    "print('2')\n",
    "i = 2\n",
    "j = 4\n",
    "\n",
    "print('3')\n",
    "multiply(i,j)  # i = 2, j = 4 => x = i, y = j  (copy) # 값이 넘어가는 게 아니라 변수가 넘어가는 것임\n",
    "\n",
    "print('4')"
   ]
  },
  {
   "cell_type": "markdown",
   "id": "1e76087d",
   "metadata": {},
   "source": [
    "#### 함수 내 리스트에 값이 쌓이는 경우"
   ]
  },
  {
   "cell_type": "code",
   "execution_count": 24,
   "id": "10e343f5",
   "metadata": {},
   "outputs": [
    {
     "data": {
      "text/plain": [
       "['a', 'b']"
      ]
     },
     "execution_count": 24,
     "metadata": {},
     "output_type": "execute_result"
    }
   ],
   "source": [
    "def buggy(arg, result=[]):\n",
    "    result.append(arg)\n",
    "    return result\n",
    "\n",
    "a, b = 'a', 'b'\n",
    "buggy(a)\n",
    "buggy(b) # 쌓이게 됨, id를 공유하고 있어서 reset이 안됨"
   ]
  },
  {
   "cell_type": "markdown",
   "id": "02aff5d1",
   "metadata": {},
   "source": [
    "#### 함수 내 리스트 값이 쌓이지 않게 하려면"
   ]
  },
  {
   "cell_type": "code",
   "execution_count": 25,
   "id": "39d6c906",
   "metadata": {},
   "outputs": [
    {
     "data": {
      "text/plain": [
       "['b']"
      ]
     },
     "execution_count": 25,
     "metadata": {},
     "output_type": "execute_result"
    }
   ],
   "source": [
    "# 이렇게 한 번 비워줘야 안 쌓임\n",
    "\n",
    "def buggy(arg, result=[]):\n",
    "    result=[]\n",
    "    result.append(arg)\n",
    "    return result\n",
    "\n",
    "a, b = 'a', 'b'\n",
    "buggy(a)\n",
    "buggy(b)"
   ]
  },
  {
   "cell_type": "markdown",
   "id": "8e636290",
   "metadata": {},
   "source": [
    "#### 조건문을 통한 리스트 활용"
   ]
  },
  {
   "cell_type": "code",
   "execution_count": 26,
   "id": "447b147e",
   "metadata": {},
   "outputs": [],
   "source": [
    "# 둘 다 조건식으로 포함하는 함수로 변경하기\n",
    "\n",
    "def nonbuggy(arg, result=[]):\n",
    "    # 리스트 없으면 빈 리스트를 생성하고, 있으면 그걸 써라.\n",
    "    result.append(arg)\n",
    "    return result\n",
    "\n",
    "# '없다'를 표현하는 말을 활용하면 됨"
   ]
  },
  {
   "cell_type": "code",
   "execution_count": 30,
   "id": "d6fbea91",
   "metadata": {},
   "outputs": [],
   "source": [
    "# 답 풀이\n",
    "\n",
    "def nonbuggy(arg, result=[]):\n",
    "    if result is None:\n",
    "        result = []\n",
    "        \n",
    "    result.append(arg)\n",
    "    return result"
   ]
  },
  {
   "cell_type": "markdown",
   "id": "0c3d733a",
   "metadata": {},
   "source": [
    "#### 조건문을 통한 리스트 활용 + None 활용"
   ]
  },
  {
   "cell_type": "code",
   "execution_count": null,
   "id": "956b8838",
   "metadata": {},
   "outputs": [],
   "source": [
    "# 기본 값부터 None쓰면?\n",
    "\n",
    "def nonbuggy2(arg, result=None):\n",
    "    if result is None:\n",
    "        result = []\n",
    "        \n",
    "    result.append(arg)\n",
    "    return result\n",
    "\n",
    "# 뒤에 리스트 값 안 적으면 None이 되므로 쌓이지 않고 전개됨. 그러나 리스트 입력하면 쌓일 것임"
   ]
  },
  {
   "cell_type": "markdown",
   "id": "41faa3aa",
   "metadata": {},
   "source": [
    "<br>"
   ]
  },
  {
   "cell_type": "markdown",
   "id": "de822643",
   "metadata": {},
   "source": [
    "`== 와 is`\n",
    "\n",
    "- ==\n",
    "    - value 를 비교\n",
    "- is\n",
    "    - id 값을 비교"
   ]
  },
  {
   "cell_type": "markdown",
   "id": "c04c23da",
   "metadata": {},
   "source": [
    "<br>"
   ]
  },
  {
   "cell_type": "markdown",
   "id": "87c8dd9d",
   "metadata": {},
   "source": [
    "<br>"
   ]
  },
  {
   "cell_type": "markdown",
   "id": "7ffe80c7",
   "metadata": {},
   "source": [
    "## None\n",
    "- True도, False도 아니다!"
   ]
  },
  {
   "cell_type": "code",
   "execution_count": 29,
   "id": "dec62816",
   "metadata": {},
   "outputs": [
    {
     "name": "stdout",
     "output_type": "stream",
     "text": [
      "None\n"
     ]
    }
   ],
   "source": [
    "# None 타입에 대해\n",
    "\n",
    "thing = None\n",
    "\n",
    "if thing:\n",
    "    print('True')\n",
    "elif thing == False:\n",
    "    print('False')\n",
    "else:\n",
    "    print('None')"
   ]
  },
  {
   "cell_type": "markdown",
   "id": "18b0aaa0",
   "metadata": {},
   "source": [
    "<br>"
   ]
  },
  {
   "cell_type": "markdown",
   "id": "9dd2c47d",
   "metadata": {},
   "source": [
    "<br>"
   ]
  },
  {
   "cell_type": "markdown",
   "id": "7805fc03",
   "metadata": {},
   "source": [
    "## 지역변수, 전역변수"
   ]
  },
  {
   "cell_type": "code",
   "execution_count": 32,
   "id": "5f577e76",
   "metadata": {},
   "outputs": [
    {
     "name": "stdout",
     "output_type": "stream",
     "text": [
      "london\n",
      "paris\n"
     ]
    }
   ],
   "source": [
    "# 함수 안 변수는 지역 내에서만 유효함\n",
    "\n",
    "def fx():\n",
    "    city = 'london'\n",
    "    print(city)\n",
    "    \n",
    "city = 'paris'\n",
    "fx()\n",
    "print(city)"
   ]
  },
  {
   "cell_type": "code",
   "execution_count": 34,
   "id": "46b67801",
   "metadata": {},
   "outputs": [
    {
     "name": "stdout",
     "output_type": "stream",
     "text": [
      "london\n",
      "london\n"
     ]
    }
   ],
   "source": [
    "# 전역변수 만들기 _ global\n",
    "\n",
    "def fx():\n",
    "    global city\n",
    "    city = 'london'\n",
    "    print(city)\n",
    "    \n",
    "city = 'paris'\n",
    "fx()\n",
    "print(city)"
   ]
  },
  {
   "cell_type": "markdown",
   "id": "b0eee4d8",
   "metadata": {},
   "source": [
    "<br>"
   ]
  },
  {
   "cell_type": "markdown",
   "id": "2bdecc99",
   "metadata": {},
   "source": [
    "<br>"
   ]
  },
  {
   "cell_type": "markdown",
   "id": "da00454a",
   "metadata": {},
   "source": [
    "## doc string\n",
    "- 함수 설명\n",
    "- 매개변수 타입, 의미, 함수 기능\n",
    "- \"\"\"\n",
    "    독스트링\n",
    "  \"\"\""
   ]
  },
  {
   "cell_type": "code",
   "execution_count": 35,
   "id": "ab8c98d3",
   "metadata": {},
   "outputs": [],
   "source": [
    "def nonbuggy(arg, result=[]):\n",
    "    \"\"\"\n",
    "    arg: str, 꽃 이름\n",
    "    result: list, xxxxx\n",
    "    꽃 이름을 리스트에 추가한다.\n",
    "    \n",
    "    \"\"\"\n",
    "    \n",
    "    if result is None:\n",
    "        result = []\n",
    "        \n",
    "    result.append(arg)\n",
    "    return result"
   ]
  },
  {
   "cell_type": "markdown",
   "id": "e18083fa",
   "metadata": {},
   "source": [
    "#### 독스트링 보는 법"
   ]
  },
  {
   "cell_type": "code",
   "execution_count": 36,
   "id": "9613ffeb",
   "metadata": {},
   "outputs": [
    {
     "name": "stdout",
     "output_type": "stream",
     "text": [
      "Help on function nonbuggy in module __main__:\n",
      "\n",
      "nonbuggy(arg, result=[])\n",
      "    arg: str, 꽃 이름\n",
      "    result: list, xxxxx\n",
      "    꽃 이름을 리스트에 추가한다.\n",
      "\n"
     ]
    }
   ],
   "source": [
    "help(nonbuggy)"
   ]
  },
  {
   "cell_type": "code",
   "execution_count": 38,
   "id": "2c61b4fd",
   "metadata": {},
   "outputs": [
    {
     "data": {
      "text/plain": [
       "'\\n    arg: str, 꽃 이름\\n    result: list, xxxxx\\n    꽃 이름을 리스트에 추가한다.\\n    \\n    '"
      ]
     },
     "execution_count": 38,
     "metadata": {},
     "output_type": "execute_result"
    }
   ],
   "source": [
    "nonbuggy.__doc__"
   ]
  },
  {
   "cell_type": "markdown",
   "id": "1bbd44e6",
   "metadata": {},
   "source": [
    "<br>"
   ]
  },
  {
   "cell_type": "markdown",
   "id": "b9d81736",
   "metadata": {},
   "source": [
    "<br>"
   ]
  },
  {
   "cell_type": "markdown",
   "id": "ad21062d",
   "metadata": {},
   "source": [
    "## Quiz\n",
    "- 나이 => 연도\n",
    "- 함수 => 입력값=나이, 변환=연도\n",
    "- 나이 => input 받기\n",
    "- 함수 이름 주의"
   ]
  },
  {
   "cell_type": "code",
   "execution_count": 44,
   "id": "4648e714",
   "metadata": {},
   "outputs": [
    {
     "name": "stdout",
     "output_type": "stream",
     "text": [
      "나이를 입력해주세요: 22\n"
     ]
    },
    {
     "data": {
      "text/plain": [
       "2001"
      ]
     },
     "execution_count": 44,
     "metadata": {},
     "output_type": "execute_result"
    }
   ],
   "source": [
    "def age_to_year(age):\n",
    "    return 2022-age+1\n",
    "\n",
    "age = int(input('나이를 입력해주세요: '))\n",
    "age_to_year(age)"
   ]
  }
 ],
 "metadata": {
  "kernelspec": {
   "display_name": "Python 3 (ipykernel)",
   "language": "python",
   "name": "python3"
  },
  "language_info": {
   "codemirror_mode": {
    "name": "ipython",
    "version": 3
   },
   "file_extension": ".py",
   "mimetype": "text/x-python",
   "name": "python",
   "nbconvert_exporter": "python",
   "pygments_lexer": "ipython3",
   "version": "3.9.7"
  }
 },
 "nbformat": 4,
 "nbformat_minor": 5
}
