{
 "cells": [
  {
   "cell_type": "markdown",
   "id": "41f9a0c9",
   "metadata": {},
   "source": [
    "# week_05"
   ]
  },
  {
   "cell_type": "markdown",
   "id": "ab8a4eb3",
   "metadata": {},
   "source": [
    "<br>"
   ]
  },
  {
   "cell_type": "markdown",
   "id": "6bad38f1",
   "metadata": {},
   "source": [
    "## ch.06 반복문"
   ]
  },
  {
   "cell_type": "markdown",
   "id": "52423697",
   "metadata": {},
   "source": [
    "### while loop\n",
    "- 어떤 조건이 만족하는 동안 명령 블록을 수행\n",
    "- if + for loop 과 유사\n",
    "- 해당 조건이 거짓이면 멈춤 => 언제 멈추는지 시점을 정확히 파악해야 함\n",
    "\n",
    "\n",
    "### for vs while\n",
    "- for: 반복 횟수가 정해짐, 정확함, 변하지 않음\n",
    "    - 예: 성적산출\n",
    "- while: 횟수가 정해지지 않음(중요치 않다), 어떤 조건을 만족시킬 때 빠져나오는 것이 더 중요한 경우 사용\n",
    "    - 예: 가위바위보 이기면 탈출"
   ]
  },
  {
   "cell_type": "code",
   "execution_count": 1,
   "id": "39884a69",
   "metadata": {},
   "outputs": [
    {
     "name": "stdout",
     "output_type": "stream",
     "text": [
      "0\n",
      "1\n",
      "2\n",
      "3\n",
      "4\n",
      "5\n",
      "6\n",
      "7\n",
      "8\n",
      "9\n"
     ]
    }
   ],
   "source": [
    "# for문 사용\n",
    "\n",
    "for i in range(10):\n",
    "    print(i)"
   ]
  },
  {
   "cell_type": "code",
   "execution_count": 2,
   "id": "8a75ff84",
   "metadata": {
    "scrolled": true
   },
   "outputs": [
    {
     "name": "stdout",
     "output_type": "stream",
     "text": [
      "0\n",
      "1\n",
      "2\n",
      "3\n",
      "4\n",
      "5\n",
      "6\n",
      "7\n",
      "8\n",
      "9\n"
     ]
    }
   ],
   "source": [
    "# while문 사용하여 위의 것과 동일하게 print하는 방법\n",
    "\n",
    "j = 0   # 초기화 필요\n",
    "while j < 10:\n",
    "    print(j)\n",
    "    j += 1   # 변화 필요"
   ]
  },
  {
   "cell_type": "code",
   "execution_count": 3,
   "id": "6bc33d51",
   "metadata": {},
   "outputs": [
    {
     "data": {
      "text/plain": [
       "10"
      ]
     },
     "execution_count": 3,
     "metadata": {},
     "output_type": "execute_result"
    }
   ],
   "source": [
    "j   # j가 10에서 멈춤"
   ]
  },
  {
   "cell_type": "code",
   "execution_count": null,
   "id": "3b9a2509",
   "metadata": {},
   "outputs": [],
   "source": [
    "d"
   ]
  },
  {
   "cell_type": "markdown",
   "id": "c64259e5",
   "metadata": {},
   "source": [
    "<br>"
   ]
  },
  {
   "cell_type": "markdown",
   "id": "3bc33008",
   "metadata": {},
   "source": [
    "<br>"
   ]
  },
  {
   "cell_type": "markdown",
   "id": "d30ee5de",
   "metadata": {},
   "source": [
    "### 리스트 요소 순회"
   ]
  },
  {
   "cell_type": "code",
   "execution_count": 5,
   "id": "d771299a",
   "metadata": {},
   "outputs": [
    {
     "name": "stdout",
     "output_type": "stream",
     "text": [
      "a\n",
      "b\n",
      "c\n",
      "d\n",
      "a\n",
      "b\n",
      "c\n",
      "d\n"
     ]
    }
   ],
   "source": [
    "# for문 사용 방법\n",
    "\n",
    "abcd = ['a', 'b', 'c', 'd']\n",
    "for ch in abcd:\n",
    "    print(ch)\n",
    "\n",
    "\n",
    "# while문 사용 방법\n",
    "\n",
    "abcd = ['a', 'b', 'c', 'd']\n",
    "\n",
    "i = 0\n",
    "while i < len(abcd):\n",
    "    print(abcd[i])\n",
    "    i += 1"
   ]
  },
  {
   "cell_type": "markdown",
   "id": "11d07b02",
   "metadata": {},
   "source": [
    "<br>"
   ]
  },
  {
   "cell_type": "markdown",
   "id": "6a060587",
   "metadata": {},
   "source": [
    "<br>"
   ]
  },
  {
   "cell_type": "markdown",
   "id": "090bfabe",
   "metadata": {},
   "source": [
    "### 반복문 제어\n",
    "- 되도록 사용하지 않음, 의도치 않은 오류를 위해\n",
    "\n",
    "- break: 논리적으로 반복을 종료시킬 때\n",
    "- else: 어떤 조건이 완전히 끝났을 때 한 번 더 실행, break 시에는 실행안됨, 어느 시점에서 종료되었는지 확인할 때 사용\n",
    "- continue: 특정 조건을 건너뛰고 다음 조건 실행 시 사용"
   ]
  },
  {
   "cell_type": "markdown",
   "id": "fe0dd0ca",
   "metadata": {},
   "source": [
    "<br>"
   ]
  },
  {
   "cell_type": "markdown",
   "id": "6d470417",
   "metadata": {},
   "source": [
    "### while-break 문"
   ]
  },
  {
   "cell_type": "code",
   "execution_count": 11,
   "id": "80919659",
   "metadata": {},
   "outputs": [
    {
     "name": "stdout",
     "output_type": "stream",
     "text": [
      "0\n",
      "1\n",
      "2\n",
      "3\n",
      "4\n",
      "5\n",
      "6\n"
     ]
    }
   ],
   "source": [
    "j = 0  \n",
    "while j < 10:\n",
    "    print(j)\n",
    "    if j == 6: break\n",
    "    j += 1 "
   ]
  },
  {
   "cell_type": "code",
   "execution_count": 12,
   "id": "724d05a4",
   "metadata": {},
   "outputs": [
    {
     "name": "stdout",
     "output_type": "stream",
     "text": [
      "0\n",
      "1\n",
      "2\n",
      "3\n",
      "4\n",
      "5\n",
      "6\n"
     ]
    }
   ],
   "source": [
    "j = 0  \n",
    "while j < 10:\n",
    "    print(j)\n",
    "    if j == 6: break\n",
    "    j += 1 \n",
    "else:\n",
    "    print('ended')  # 전체를 다 돌았으면 이게 출력되고, break 걸리면 출력 안됨"
   ]
  },
  {
   "cell_type": "markdown",
   "id": "1ca3b696",
   "metadata": {},
   "source": [
    "<br>"
   ]
  },
  {
   "cell_type": "markdown",
   "id": "eac44dfd",
   "metadata": {},
   "source": [
    "### for-break 문"
   ]
  },
  {
   "cell_type": "code",
   "execution_count": 6,
   "id": "42f01938",
   "metadata": {},
   "outputs": [
    {
     "name": "stdout",
     "output_type": "stream",
     "text": [
      "0\n",
      "1\n",
      "2\n",
      "3\n",
      "4\n",
      "5\n"
     ]
    }
   ],
   "source": [
    "# 6이 출력되지 않는 경우는\n",
    "\n",
    "for j in range(10):\n",
    "    if j == 6: break\n",
    "    print(j)"
   ]
  },
  {
   "cell_type": "markdown",
   "id": "9c84f1a8",
   "metadata": {},
   "source": [
    "<br>"
   ]
  },
  {
   "cell_type": "markdown",
   "id": "78675f42",
   "metadata": {},
   "source": [
    "### continue로 인한 무한 루프"
   ]
  },
  {
   "cell_type": "code",
   "execution_count": null,
   "id": "557f1190",
   "metadata": {},
   "outputs": [],
   "source": [
    "# continue로 인한 무한 루프\n",
    "\n",
    "# j = 0  \n",
    "# while j < 10:\n",
    "#     print(j)\n",
    "#     if j == 6: continue\n",
    "#     j += 1 \n",
    "# else:\n",
    "#     print('ended') "
   ]
  },
  {
   "cell_type": "code",
   "execution_count": 7,
   "id": "818abce3",
   "metadata": {},
   "outputs": [
    {
     "name": "stdout",
     "output_type": "stream",
     "text": [
      "0\n",
      "1\n",
      "2\n",
      "3\n",
      "4\n",
      "5\n",
      "7\n",
      "8\n",
      "9\n"
     ]
    }
   ],
   "source": [
    "for i in range(10):\n",
    "    if i == 6: continue    # i가 6일 때 continue 아래의 코드를 건너뛰게 됨\n",
    "    print(i)                # 6은 print되지 않음"
   ]
  },
  {
   "cell_type": "markdown",
   "id": "bc1d1617",
   "metadata": {},
   "source": [
    "<br>"
   ]
  },
  {
   "cell_type": "markdown",
   "id": "c49b2878",
   "metadata": {},
   "source": [
    "<br>"
   ]
  },
  {
   "cell_type": "markdown",
   "id": "43d6f56c",
   "metadata": {},
   "source": [
    "## Quiz 01\n",
    "### 구구단\n",
    "- 입력을 받아서 사용\n",
    "- 1. n단 출력\n",
    "- 2. 1~n단까지 출력\n",
    "- 3. n,m 입력받아서 출력\n",
    "- 4. 프로그램으로 만들기\n",
    "    - 메뉴: 1) n, 2) 1~n, 3) n~m단"
   ]
  },
  {
   "cell_type": "code",
   "execution_count": 1,
   "id": "39a61768",
   "metadata": {
    "scrolled": true
   },
   "outputs": [
    {
     "name": "stdout",
     "output_type": "stream",
     "text": [
      "몇 단을 출력할까요?5\n",
      "========5단=======\n",
      "5 x 1 = 5\n",
      "5 x 2 = 10\n",
      "5 x 3 = 15\n",
      "5 x 4 = 20\n",
      "5 x 5 = 25\n",
      "5 x 6 = 30\n",
      "5 x 7 = 35\n",
      "5 x 8 = 40\n",
      "5 x 9 = 45\n",
      "몇 단까지 출력할까요?5\n",
      "========1단=======\n",
      "1 x 1 = 1\n",
      "1 x 2 = 2\n",
      "1 x 3 = 3\n",
      "1 x 4 = 4\n",
      "1 x 5 = 5\n",
      "1 x 6 = 6\n",
      "1 x 7 = 7\n",
      "1 x 8 = 8\n",
      "1 x 9 = 9\n",
      "========2단=======\n",
      "2 x 1 = 2\n",
      "2 x 2 = 4\n",
      "2 x 3 = 6\n",
      "2 x 4 = 8\n",
      "2 x 5 = 10\n",
      "2 x 6 = 12\n",
      "2 x 7 = 14\n",
      "2 x 8 = 16\n",
      "2 x 9 = 18\n",
      "========3단=======\n",
      "3 x 1 = 3\n",
      "3 x 2 = 6\n",
      "3 x 3 = 9\n",
      "3 x 4 = 12\n",
      "3 x 5 = 15\n",
      "3 x 6 = 18\n",
      "3 x 7 = 21\n",
      "3 x 8 = 24\n",
      "3 x 9 = 27\n",
      "========4단=======\n",
      "4 x 1 = 4\n",
      "4 x 2 = 8\n",
      "4 x 3 = 12\n",
      "4 x 4 = 16\n",
      "4 x 5 = 20\n",
      "4 x 6 = 24\n",
      "4 x 7 = 28\n",
      "4 x 8 = 32\n",
      "4 x 9 = 36\n",
      "========5단=======\n",
      "5 x 1 = 5\n",
      "5 x 2 = 10\n",
      "5 x 3 = 15\n",
      "5 x 4 = 20\n",
      "5 x 5 = 25\n",
      "5 x 6 = 30\n",
      "5 x 7 = 35\n",
      "5 x 8 = 40\n",
      "5 x 9 = 45\n"
     ]
    }
   ],
   "source": [
    "# n단 출력\n",
    "\n",
    "n = int(input('몇 단을 출력할까요?'))\n",
    "i = 1\n",
    "\n",
    "print(f'========{n}단=======')\n",
    "while i < 10:\n",
    "    print(\"%d x %d = %d\" %(n,i,n*i))\n",
    "    i += 1\n",
    "    \n",
    "    \n",
    "# 1~n단 출력\n",
    "\n",
    "n = int(input('몇 단까지 출력할까요?'))\n",
    "\n",
    "for i in range(1,n+1):\n",
    "    print()\n",
    "    print(f'========{i}단=======')\n",
    "    for j in range(1,10):\n",
    "        print(\"%d x %d = %d\" %(i,j,i*j))\n",
    "        "
   ]
  },
  {
   "cell_type": "code",
   "execution_count": null,
   "id": "d9d3de6d",
   "metadata": {},
   "outputs": [
    {
     "name": "stdout",
     "output_type": "stream",
     "text": [
      "몇 단부터 출력할까요?5\n",
      "몇 단까지 출력할까요?7\n",
      "\n",
      "========5단=======\n",
      "5 x 1 = 5\n",
      "5 x 2 = 10\n",
      "5 x 3 = 15\n",
      "5 x 4 = 20\n",
      "5 x 5 = 25\n",
      "5 x 6 = 30\n",
      "5 x 7 = 35\n",
      "5 x 8 = 40\n",
      "5 x 9 = 45\n",
      "\n",
      "========6단=======\n",
      "6 x 1 = 6\n",
      "6 x 2 = 12\n",
      "6 x 3 = 18\n",
      "6 x 4 = 24\n",
      "6 x 5 = 30\n",
      "6 x 6 = 36\n",
      "6 x 7 = 42\n",
      "6 x 8 = 48\n",
      "6 x 9 = 54\n",
      "\n",
      "========7단=======\n",
      "7 x 1 = 7\n",
      "7 x 2 = 14\n",
      "7 x 3 = 21\n",
      "7 x 4 = 28\n",
      "7 x 5 = 35\n",
      "7 x 6 = 42\n",
      "7 x 7 = 49\n",
      "7 x 8 = 56\n",
      "7 x 9 = 63\n",
      "몇 단부터 출력할까요?5\n",
      "몇 단까지 출력할까요?7\n",
      "\n",
      "========5단=======\n",
      "5 x 1 = 5\n",
      "5 x 2 = 10\n",
      "5 x 3 = 15\n",
      "5 x 4 = 20\n",
      "5 x 5 = 25\n",
      "5 x 6 = 30\n",
      "5 x 7 = 35\n",
      "5 x 8 = 40\n",
      "5 x 9 = 45\n",
      "\n",
      "========6단=======\n",
      "6 x 1 = 6\n",
      "6 x 2 = 12\n",
      "6 x 3 = 18\n",
      "6 x 4 = 24\n",
      "6 x 5 = 30\n",
      "6 x 6 = 36\n",
      "6 x 7 = 42\n",
      "6 x 8 = 48\n",
      "6 x 9 = 54\n",
      "\n",
      "========7단=======\n",
      "7 x 1 = 7\n",
      "7 x 2 = 14\n",
      "7 x 3 = 21\n",
      "7 x 4 = 28\n",
      "7 x 5 = 35\n",
      "7 x 6 = 42\n",
      "7 x 7 = 49\n",
      "7 x 8 = 56\n",
      "7 x 9 = 63\n"
     ]
    }
   ],
   "source": [
    "# n~m단 출력\n",
    "\n",
    "while True:\n",
    "    n = int(input('몇 단부터 출력할까요?'))\n",
    "    m = int(input('몇 단까지 출력할까요?'))\n",
    "\n",
    "    if n > m:\n",
    "        print('끝단이 첫단보다 작습니다. 끝단을 첫단보다 크게 설정해주세요')\n",
    "\n",
    "    else:\n",
    "        for i in range(n,m+1):\n",
    "            print()\n",
    "            print(f'========{i}단=======')\n",
    "            for j in range(1,10):\n",
    "                print(f\"{i} x {j} = {i*j}\")"
   ]
  },
  {
   "cell_type": "code",
   "execution_count": 2,
   "id": "1a05a03a",
   "metadata": {},
   "outputs": [
    {
     "name": "stdout",
     "output_type": "stream",
     "text": [
      "\n",
      "구구단 출력 메뉴 \n",
      "\n",
      " 1) n단까지 \n",
      " 2) 1~n단까지 \n",
      " 3) n단부터 m단까지 \n",
      " 4) 종료\n",
      "\n",
      "원하는 메뉴를 숫자로 입력해주세요: 4\n",
      "\n",
      "종료되었습니다.\n"
     ]
    }
   ],
   "source": [
    "# 프로그램화 시키기\n",
    "\n",
    "while True:\n",
    "    print(\"\\n구구단 출력 메뉴 \\n\\n 1) n단까지 \\n 2) 1~n단까지 \\n 3) n단부터 m단까지 \\n 4) 종료\")\n",
    "    menu = int(input('\\n원하는 메뉴를 숫자로 입력해주세요: '))\n",
    "    \n",
    "    if menu > 4 or menu < 1:\n",
    "        print('\\n잘못된 숫자입니다. 1~3사이의 숫자를 입력해주세요.\\n')\n",
    "    \n",
    "    else:\n",
    "        if menu == 1:\n",
    "            n = int(input('\\n몇 단을 출력할까요?'))\n",
    "            i = 1\n",
    "            print(f'========{n}단=======')\n",
    "            while i < 10:\n",
    "                print(f\"{n} x {i} = {n*i}\")\n",
    "                i += 1\n",
    "                \n",
    "        elif menu == 2:\n",
    "            n = int(input('\\n몇 단까지 출력할까요?'))\n",
    "            for i in range(1,n+1):\n",
    "                print()\n",
    "                print(f'========{i}단=======')\n",
    "                for j in range(1,10):\n",
    "                    print(\"%d x %d = %d\" %(i,j,i*j))\n",
    "        \n",
    "        elif menu == 3:\n",
    "            n = int(input('\\n몇 단부터 출력할까요?'))\n",
    "            m = int(input('\\n몇 단까지 출력할까요?'))\n",
    "            \n",
    "            if n > m:\n",
    "                print('\\n끝단이 첫단보다 작습니다. 끝단을 첫단보다 크게 설정해주세요')\n",
    "            \n",
    "            else:\n",
    "                for i in range(n,m+1):\n",
    "                    print()\n",
    "                    print(f'========{i}단=======')\n",
    "                    for j in range(1,10):\n",
    "                        print(f\"{i} x {j} = {i*j}\")\n",
    "        \n",
    "        elif menu == 4:\n",
    "            print('\\n종료되었습니다.')\n",
    "            break"
   ]
  },
  {
   "cell_type": "markdown",
   "id": "0ba310b9",
   "metadata": {},
   "source": [
    "<br>"
   ]
  },
  {
   "cell_type": "markdown",
   "id": "9cecd9b7",
   "metadata": {},
   "source": [
    "<br>"
   ]
  },
  {
   "cell_type": "code",
   "execution_count": 8,
   "id": "d62c85fc",
   "metadata": {
    "scrolled": true
   },
   "outputs": [
    {
     "name": "stdout",
     "output_type": "stream",
     "text": [
      "*** Introductory Examples for the NLTK Book ***\n",
      "Loading text1, ..., text9 and sent1, ..., sent9\n",
      "Type the name of the text or sentence to view it.\n",
      "Type: 'texts()' or 'sents()' to list the materials.\n",
      "text1: Moby Dick by Herman Melville 1851\n",
      "text2: Sense and Sensibility by Jane Austen 1811\n",
      "text3: The Book of Genesis\n",
      "text4: Inaugural Address Corpus\n",
      "text5: Chat Corpus\n",
      "text6: Monty Python and the Holy Grail\n",
      "text7: Wall Street Journal\n",
      "text8: Personals Corpus\n",
      "text9: The Man Who Was Thursday by G . K . Chesterton 1908\n"
     ]
    },
    {
     "data": {
      "text/plain": [
       "True"
      ]
     },
     "execution_count": 8,
     "metadata": {},
     "output_type": "execute_result"
    }
   ],
   "source": [
    "import nltk\n",
    "from nltk.book import*\n",
    "nltk.download('book', quiet=True)"
   ]
  },
  {
   "cell_type": "markdown",
   "id": "3bc3f7b6",
   "metadata": {},
   "source": [
    "<br>"
   ]
  },
  {
   "cell_type": "markdown",
   "id": "1e2e40ca",
   "metadata": {},
   "source": [
    "### book안의 texts를 순회하는 방법"
   ]
  },
  {
   "cell_type": "code",
   "execution_count": 10,
   "id": "4a02d3e7",
   "metadata": {},
   "outputs": [
    {
     "data": {
      "text/plain": [
       "[<Text: Moby Dick by Herman Melville 1851>,\n",
       " <Text: Sense and Sensibility by Jane Austen 1811>,\n",
       " <Text: The Book of Genesis>,\n",
       " <Text: Inaugural Address Corpus>,\n",
       " <Text: Chat Corpus>,\n",
       " <Text: Monty Python and the Holy Grail>,\n",
       " <Text: Wall Street Journal>,\n",
       " <Text: Personals Corpus>,\n",
       " <Text: The Man Who Was Thursday by G . K . Chesterton 1908>]"
      ]
     },
     "execution_count": 10,
     "metadata": {},
     "output_type": "execute_result"
    }
   ],
   "source": [
    "texts = [text1, text2, ..., text9]\n",
    "\n",
    "# 다른 방법\n",
    "texts = [getattr(nltk.book, f'text{i}') for i in range(1,10)]\n",
    "texts"
   ]
  },
  {
   "cell_type": "markdown",
   "id": "aa1c0ac0",
   "metadata": {},
   "source": [
    "<br>"
   ]
  },
  {
   "cell_type": "markdown",
   "id": "13fb7f83",
   "metadata": {},
   "source": [
    "<br>"
   ]
  },
  {
   "cell_type": "markdown",
   "id": "5065248e",
   "metadata": {},
   "source": [
    "### NLTK corpus\n",
    "- 코퍼스 + 테마\n",
    "- 종류\n",
    "    - brown\n",
    "    - gutenberg\n",
    "    - inaugural\n",
    "- methods\n",
    "    - words() # 단어 수 셀 때\n",
    "    - sents() # 문장 수 셀 때\n",
    "    - raw() # 글자 수 셀 때\n",
    "    - fileids()"
   ]
  },
  {
   "cell_type": "markdown",
   "id": "ab169252",
   "metadata": {},
   "source": [
    "<br>"
   ]
  },
  {
   "cell_type": "markdown",
   "id": "5bd62244",
   "metadata": {},
   "source": [
    "### gutenberg 다운"
   ]
  },
  {
   "cell_type": "code",
   "execution_count": 10,
   "id": "9f525486",
   "metadata": {
    "scrolled": true
   },
   "outputs": [
    {
     "name": "stderr",
     "output_type": "stream",
     "text": [
      "[nltk_data] Downloading package brown to\n",
      "[nltk_data]     C:\\Users\\lgpc\\AppData\\Roaming\\nltk_data...\n",
      "[nltk_data]   Package brown is already up-to-date!\n",
      "[nltk_data] Downloading package gutenberg to\n",
      "[nltk_data]     C:\\Users\\lgpc\\AppData\\Roaming\\nltk_data...\n",
      "[nltk_data]   Package gutenberg is already up-to-date!\n",
      "[nltk_data] Downloading package inaugural to\n",
      "[nltk_data]     C:\\Users\\lgpc\\AppData\\Roaming\\nltk_data...\n",
      "[nltk_data]   Package inaugural is already up-to-date!\n"
     ]
    },
    {
     "data": {
      "text/plain": [
       "True"
      ]
     },
     "execution_count": 10,
     "metadata": {},
     "output_type": "execute_result"
    }
   ],
   "source": [
    "from nltk.corpus import gutenberg\n",
    "nltk.download(['brown', 'gutenberg', 'inaugural'])"
   ]
  },
  {
   "cell_type": "markdown",
   "id": "1986ca63",
   "metadata": {},
   "source": [
    "<br>"
   ]
  },
  {
   "cell_type": "markdown",
   "id": "49c4d59c",
   "metadata": {},
   "source": [
    "### fileids() 사용하기"
   ]
  },
  {
   "cell_type": "code",
   "execution_count": 21,
   "id": "0eb558e0",
   "metadata": {},
   "outputs": [
    {
     "data": {
      "text/plain": [
       "['austen-emma.txt',\n",
       " 'austen-persuasion.txt',\n",
       " 'austen-sense.txt',\n",
       " 'bible-kjv.txt',\n",
       " 'blake-poems.txt',\n",
       " 'bryant-stories.txt',\n",
       " 'burgess-busterbrown.txt',\n",
       " 'carroll-alice.txt',\n",
       " 'chesterton-ball.txt',\n",
       " 'chesterton-brown.txt',\n",
       " 'chesterton-thursday.txt',\n",
       " 'edgeworth-parents.txt',\n",
       " 'melville-moby_dick.txt',\n",
       " 'milton-paradise.txt',\n",
       " 'shakespeare-caesar.txt',\n",
       " 'shakespeare-hamlet.txt',\n",
       " 'shakespeare-macbeth.txt',\n",
       " 'whitman-leaves.txt']"
      ]
     },
     "execution_count": 21,
     "metadata": {},
     "output_type": "execute_result"
    }
   ],
   "source": [
    "gutenberg\n",
    "gutenberg.fileids()"
   ]
  },
  {
   "cell_type": "markdown",
   "id": "4e9b4c9f",
   "metadata": {},
   "source": [
    "<br>"
   ]
  },
  {
   "cell_type": "markdown",
   "id": "459c6123",
   "metadata": {},
   "source": [
    "### 파일 접근 방법 및 raw(), words(), sents() 사용하기"
   ]
  },
  {
   "cell_type": "code",
   "execution_count": 29,
   "id": "6c4fcf65",
   "metadata": {},
   "outputs": [
    {
     "name": "stdout",
     "output_type": "stream",
     "text": [
      "austen-emma.txt | 글자 수 = 887071, 단어 수 = 192427, 문장 수 = 7752\n",
      "austen-persuasion.txt | 글자 수 = 466292, 단어 수 = 98171, 문장 수 = 3747\n",
      "austen-sense.txt | 글자 수 = 673022, 단어 수 = 141576, 문장 수 = 4999\n",
      "bible-kjv.txt | 글자 수 = 4332554, 단어 수 = 1010654, 문장 수 = 30103\n",
      "blake-poems.txt | 글자 수 = 38153, 단어 수 = 8354, 문장 수 = 438\n",
      "bryant-stories.txt | 글자 수 = 249439, 단어 수 = 55563, 문장 수 = 2863\n",
      "burgess-busterbrown.txt | 글자 수 = 84663, 단어 수 = 18963, 문장 수 = 1054\n",
      "carroll-alice.txt | 글자 수 = 144395, 단어 수 = 34110, 문장 수 = 1703\n",
      "chesterton-ball.txt | 글자 수 = 457450, 단어 수 = 96996, 문장 수 = 4779\n",
      "chesterton-brown.txt | 글자 수 = 406629, 단어 수 = 86063, 문장 수 = 3806\n",
      "chesterton-thursday.txt | 글자 수 = 320525, 단어 수 = 69213, 문장 수 = 3742\n",
      "edgeworth-parents.txt | 글자 수 = 935158, 단어 수 = 210663, 문장 수 = 10230\n",
      "melville-moby_dick.txt | 글자 수 = 1242990, 단어 수 = 260819, 문장 수 = 10059\n",
      "milton-paradise.txt | 글자 수 = 468220, 단어 수 = 96825, 문장 수 = 1851\n",
      "shakespeare-caesar.txt | 글자 수 = 112310, 단어 수 = 25833, 문장 수 = 2163\n",
      "shakespeare-hamlet.txt | 글자 수 = 162881, 단어 수 = 37360, 문장 수 = 3106\n",
      "shakespeare-macbeth.txt | 글자 수 = 100351, 단어 수 = 23140, 문장 수 = 1907\n",
      "whitman-leaves.txt | 글자 수 = 711215, 단어 수 = 154883, 문장 수 = 4250\n"
     ]
    }
   ],
   "source": [
    "# 각 파일마다 word, character, sents 개수 출력하기 / 글자수, 단어수, 문장수\n",
    "\n",
    "#접근방법\n",
    "gutenberg.words(fileids = ['carroll-alice.txt', 'austen-emma.txt'])\n",
    "\n",
    "#답 산출 ==> 이거 아님!! 다시 풀어라\n",
    "for text in gutenberg.fileids():\n",
    "    print(f'{text} | 글자 수 = {len(gutenberg.raw(text))}, 단어 수 = {len(gutenberg.words(text))}, 문장 수 = {len(gutenberg.sents(text))}')\n",
    "    "
   ]
  },
  {
   "cell_type": "markdown",
   "id": "c83b8b9b",
   "metadata": {},
   "source": []
  },
  {
   "cell_type": "markdown",
   "id": "9fc54dcd",
   "metadata": {},
   "source": [
    "<br>"
   ]
  },
  {
   "cell_type": "markdown",
   "id": "f2ca8f56",
   "metadata": {},
   "source": [
    "<br>"
   ]
  },
  {
   "cell_type": "markdown",
   "id": "d9fd2fe6",
   "metadata": {},
   "source": [
    "## Quiz 02"
   ]
  },
  {
   "cell_type": "markdown",
   "id": "de83b261",
   "metadata": {},
   "source": [
    "### Gutenberg\n",
    "- 1. shakespeare-caesar의 중복된 단어를 거르고 각 단어의 길이를 출력\n",
    "- 2. chesterton-thursday에서 길이가 4자 이하인 알파벳 중 ie를 포함하는 단어를 소문자로 출력하고, 개수 세기\n",
    "- 3. bryant-stories에서 ch로 끝나는 단어를 출력하되, 중복없이, 첫글자(모두 소문자)와 끝 ch만 남기고 가운데 글자는 -로 가리기 ex) much => m-ch"
   ]
  },
  {
   "cell_type": "code",
   "execution_count": 20,
   "id": "3c770086",
   "metadata": {},
   "outputs": [
    {
     "data": {
      "text/plain": [
       "['p--ch',\n",
       " 'c--ch',\n",
       " 'a-ch',\n",
       " 't--ch',\n",
       " 's---ch',\n",
       " 's-ch',\n",
       " 't--ch',\n",
       " 't--ch',\n",
       " 'e-ch',\n",
       " 'b--ch',\n",
       " 't---ch',\n",
       " 's----ch',\n",
       " 's----ch',\n",
       " 'r-ch',\n",
       " 'p--ch',\n",
       " 'l--ch',\n",
       " 'c--ch',\n",
       " 'p--ch',\n",
       " 'f---ch',\n",
       " 's----ch',\n",
       " 's---ch',\n",
       " 'r--ch',\n",
       " 's-ch',\n",
       " 'p--ch',\n",
       " 'b--ch',\n",
       " 'b---ch',\n",
       " 'f--ch',\n",
       " 'c---ch',\n",
       " 'w--ch',\n",
       " 'b--ch',\n",
       " 'p--ch',\n",
       " 's----ch',\n",
       " 'm-ch',\n",
       " 'w--ch',\n",
       " 'e-ch']"
      ]
     },
     "execution_count": 20,
     "metadata": {},
     "output_type": "execute_result"
    }
   ],
   "source": [
    "# # 1\n",
    "\n",
    "# [len(word.lower()) for word in set((gutenberg.words('shakespeare-caesar.txt')))]\n",
    "\n",
    "\n",
    "# # 2\n",
    "\n",
    "# result = [word.lower() for word in gutenberg.words('chesterton-thursday.txt') if len(word) <= 4 and 'ie' in word]\n",
    "# print(result, len(result))\n",
    "\n",
    "\n",
    "# 3\n",
    "result = [word.lower()[0] + '-'*(len(word)-3) + 'ch' for word in set(gutenberg.words('bryant-stories.txt')) if word.endswith('ch')]\n",
    "result"
   ]
  },
  {
   "cell_type": "markdown",
   "id": "c7137af9",
   "metadata": {},
   "source": [
    "<br>"
   ]
  },
  {
   "cell_type": "markdown",
   "id": "7ac96ef1",
   "metadata": {},
   "source": [
    "<br>"
   ]
  },
  {
   "cell_type": "markdown",
   "id": "b18bd2d6",
   "metadata": {},
   "source": [
    "### Brown\n",
    "- categories()"
   ]
  },
  {
   "cell_type": "code",
   "execution_count": 14,
   "id": "904a14be",
   "metadata": {},
   "outputs": [],
   "source": [
    "brown = nltk.corpus.brown"
   ]
  },
  {
   "cell_type": "code",
   "execution_count": 15,
   "id": "a4c93535",
   "metadata": {
    "scrolled": true
   },
   "outputs": [
    {
     "data": {
      "text/plain": [
       "['adventure',\n",
       " 'belles_lettres',\n",
       " 'editorial',\n",
       " 'fiction',\n",
       " 'government',\n",
       " 'hobbies',\n",
       " 'humor',\n",
       " 'learned',\n",
       " 'lore',\n",
       " 'mystery',\n",
       " 'news',\n",
       " 'religion',\n",
       " 'reviews',\n",
       " 'romance',\n",
       " 'science_fiction']"
      ]
     },
     "execution_count": 15,
     "metadata": {},
     "output_type": "execute_result"
    }
   ],
   "source": [
    "brown.categories()"
   ]
  },
  {
   "cell_type": "markdown",
   "id": "afaecc51",
   "metadata": {},
   "source": [
    "### frequency 사용 가능"
   ]
  },
  {
   "cell_type": "code",
   "execution_count": 51,
   "id": "f11f28e1",
   "metadata": {},
   "outputs": [],
   "source": [
    "# frequency 사용 가능\n",
    "\n",
    "fdist = nltk.FreqDist([w.lower() for w in brown.words(categories = 'adventure')])"
   ]
  },
  {
   "cell_type": "code",
   "execution_count": 52,
   "id": "cee2eb67",
   "metadata": {},
   "outputs": [
    {
     "data": {
      "text/plain": [
       "83"
      ]
     },
     "execution_count": 52,
     "metadata": {},
     "output_type": "execute_result"
    }
   ],
   "source": [
    "fdist['men']"
   ]
  },
  {
   "cell_type": "code",
   "execution_count": 54,
   "id": "6e0507c3",
   "metadata": {},
   "outputs": [
    {
     "name": "stdout",
     "output_type": "stream",
     "text": [
      "can 48\n",
      "could 154\n",
      "will 51\n"
     ]
    }
   ],
   "source": [
    "# modal verbs\n",
    "\n",
    "modals = ['can', 'could', 'will']\n",
    "\n",
    "for verb in modals:\n",
    "    print(verb, fdist[verb])"
   ]
  },
  {
   "cell_type": "markdown",
   "id": "3bb5effe",
   "metadata": {},
   "source": [
    "<br>"
   ]
  },
  {
   "cell_type": "markdown",
   "id": "58727fb0",
   "metadata": {},
   "source": [
    "<br>"
   ]
  },
  {
   "cell_type": "markdown",
   "id": "7ae013b6",
   "metadata": {},
   "source": [
    "### conditional frequency distribution\n",
    "- 조건에 따른 fdist 생성"
   ]
  },
  {
   "cell_type": "code",
   "execution_count": 17,
   "id": "b44197b2",
   "metadata": {},
   "outputs": [],
   "source": [
    "cfd = nltk.ConditionalFreqDist(\n",
    "        #각 장르에 따른 frequency distribution을 만든다.\n",
    "    (genre, word.lower())\n",
    "    for genre in brown.categories()\n",
    "    for word in brown.words(categories=genre)\n",
    ")"
   ]
  },
  {
   "cell_type": "code",
   "execution_count": 18,
   "id": "1c052040",
   "metadata": {},
   "outputs": [
    {
     "data": {
      "text/plain": [
       "FreqDist({',': 3899, '.': 3736, 'the': 2988, 'and': 1905, 'to': 1517, 'a': 1383, 'of': 1202, 'he': 1068, '``': 1045, \"''\": 1044, ...})"
      ]
     },
     "execution_count": 18,
     "metadata": {},
     "output_type": "execute_result"
    }
   ],
   "source": [
    "cfd['romance']   # 로맨스 내 모든 단어들의 FreqDist를 반환함"
   ]
  },
  {
   "cell_type": "code",
   "execution_count": 19,
   "id": "7160e044",
   "metadata": {},
   "outputs": [
    {
     "data": {
      "text/plain": [
       "36"
      ]
     },
     "execution_count": 19,
     "metadata": {},
     "output_type": "execute_result"
    }
   ],
   "source": [
    "cfd['romance']['love']  # 카테고리 로맨스 내 'love' 단어 빈도 수 반환함"
   ]
  }
 ],
 "metadata": {
  "kernelspec": {
   "display_name": "Python 3 (ipykernel)",
   "language": "python",
   "name": "python3"
  },
  "language_info": {
   "codemirror_mode": {
    "name": "ipython",
    "version": 3
   },
   "file_extension": ".py",
   "mimetype": "text/x-python",
   "name": "python",
   "nbconvert_exporter": "python",
   "pygments_lexer": "ipython3",
   "version": "3.9.7"
  }
 },
 "nbformat": 4,
 "nbformat_minor": 5
}
