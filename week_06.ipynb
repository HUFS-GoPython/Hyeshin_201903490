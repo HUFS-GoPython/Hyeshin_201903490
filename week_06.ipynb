{
 "cells": [
  {
   "cell_type": "markdown",
   "id": "9377538d",
   "metadata": {},
   "source": [
    "# week_06"
   ]
  },
  {
   "cell_type": "markdown",
   "id": "ddfe0960",
   "metadata": {},
   "source": [
    "<br>"
   ]
  },
  {
   "cell_type": "markdown",
   "id": "751e6db8",
   "metadata": {},
   "source": [
    "## NLTK Inaugural"
   ]
  },
  {
   "cell_type": "code",
   "execution_count": 1,
   "id": "9cda430e",
   "metadata": {},
   "outputs": [
    {
     "name": "stderr",
     "output_type": "stream",
     "text": [
      "[nltk_data] Downloading package brown to\n",
      "[nltk_data]     C:\\Users\\lgpc\\AppData\\Roaming\\nltk_data...\n",
      "[nltk_data]   Package brown is already up-to-date!\n",
      "[nltk_data] Downloading package inaugural to\n",
      "[nltk_data]     C:\\Users\\lgpc\\AppData\\Roaming\\nltk_data...\n",
      "[nltk_data]   Package inaugural is already up-to-date!\n"
     ]
    },
    {
     "data": {
      "text/plain": [
       "True"
      ]
     },
     "execution_count": 1,
     "metadata": {},
     "output_type": "execute_result"
    }
   ],
   "source": [
    "import nltk\n",
    "nltk.download(['brown','inaugural'])"
   ]
  },
  {
   "cell_type": "code",
   "execution_count": 2,
   "id": "038d1c5d",
   "metadata": {},
   "outputs": [],
   "source": [
    "brown = nltk.corpus.brown"
   ]
  },
  {
   "cell_type": "markdown",
   "id": "993408e7",
   "metadata": {},
   "source": [
    "### 1) cfd. tabulate 활용 표만들기"
   ]
  },
  {
   "cell_type": "code",
   "execution_count": 3,
   "id": "12ce5b29",
   "metadata": {},
   "outputs": [],
   "source": [
    "#cfd\n",
    "\n",
    "cfd = nltk.ConditionalFreqDist(\n",
    "    (genre,word)\n",
    "    for genre in brown.categories()\n",
    "    for word in brown.words(categories=genre)\n",
    ")"
   ]
  },
  {
   "cell_type": "code",
   "execution_count": 5,
   "id": "04e660fd",
   "metadata": {},
   "outputs": [
    {
     "name": "stdout",
     "output_type": "stream",
     "text": [
      "                  can could would  will might   may \n",
      "      adventure    46   151   191    50    58     5 \n",
      " belles_lettres   246   213   392   236   113   207 \n",
      "      editorial   121    56   180   233    39    74 \n",
      "        fiction    37   166   287    52    44     8 \n",
      "     government   117    38   120   244    13   153 \n",
      "        hobbies   268    58    78   264    22   131 \n",
      "          humor    16    30    56    13     8     8 \n",
      "        learned   365   159   319   340   128   324 \n",
      "           lore   170   141   186   175    49   165 \n",
      "        mystery    42   141   186    20    57    13 \n",
      "           news    93    86   244   389    38    66 \n",
      "       religion    82    59    68    71    12    78 \n",
      "        reviews    45    40    47    58    26    45 \n",
      "        romance    74   193   244    43    51    11 \n",
      "science_fiction    16    49    79    16    12     4 \n"
     ]
    }
   ],
   "source": [
    "modals = ['can','could', 'would', 'will', 'might', 'may']\n",
    "cfd.tabulate(conditions=brown.categories(), samples=modals)"
   ]
  },
  {
   "cell_type": "markdown",
   "id": "834811be",
   "metadata": {},
   "source": [
    "### 2) cfd. tabulate 활용 표만들기 2"
   ]
  },
  {
   "cell_type": "code",
   "execution_count": 6,
   "id": "9ffafc6f",
   "metadata": {},
   "outputs": [
    {
     "name": "stdout",
     "output_type": "stream",
     "text": [
      "                  can could   may might  will would \n",
      "      adventure    48   154     7    59    51   194 \n",
      " belles_lettres   249   216   221   113   246   397 \n",
      "      editorial   124    57    79    39   235   185 \n",
      "        fiction    39   168    10    44    56   291 \n",
      "     government   119    38   179    13   244   120 \n",
      "        hobbies   276    59   143    22   269    83 \n",
      "          humor    17    33     8     8    13    56 \n",
      "        learned   367   159   336   128   340   321 \n",
      "           lore   170   142   170    50   178   188 \n",
      "        mystery    45   145    15    57    25   189 \n",
      "           news    94    87    93    38   389   246 \n",
      "       religion    84    59    79    12    72    69 \n",
      "        reviews    45    40    47    26    61    48 \n",
      "        romance    79   195    11    51    49   247 \n",
      "science_fiction    16    49     4    12    17    80 \n"
     ]
    }
   ],
   "source": [
    "# modals의 빈도수가 포함된 cfd ( word -> modal_verb)\n",
    "\n",
    "cfd1 = nltk.ConditionalFreqDist(\n",
    "    (genre,modal)\n",
    "    for genre in brown.categories()\n",
    "    for modal in ['can','could', 'would', 'will', 'might', 'may']\n",
    "    \n",
    "    for word in brown.words(categories=genre)\n",
    "        if word.lower() == modal\n",
    ")\n",
    "cfd1.tabulate()"
   ]
  },
  {
   "cell_type": "markdown",
   "id": "f03d52a3",
   "metadata": {},
   "source": [
    "<br>"
   ]
  },
  {
   "cell_type": "markdown",
   "id": "de144fb6",
   "metadata": {},
   "source": [
    "<br>"
   ]
  },
  {
   "cell_type": "markdown",
   "id": "72f2a2e3",
   "metadata": {},
   "source": [
    "## Inaugural\n",
    "- 연설문 코퍼스"
   ]
  },
  {
   "cell_type": "code",
   "execution_count": 2,
   "id": "7b198e97",
   "metadata": {},
   "outputs": [],
   "source": [
    "inaugural = nltk.corpus.inaugural"
   ]
  },
  {
   "cell_type": "code",
   "execution_count": 3,
   "id": "be937df9",
   "metadata": {},
   "outputs": [
    {
     "data": {
      "text/plain": [
       "['1789-Washington.txt',\n",
       " '1793-Washington.txt',\n",
       " '1797-Adams.txt',\n",
       " '1801-Jefferson.txt',\n",
       " '1805-Jefferson.txt',\n",
       " '1809-Madison.txt',\n",
       " '1813-Madison.txt',\n",
       " '1817-Monroe.txt',\n",
       " '1821-Monroe.txt',\n",
       " '1825-Adams.txt',\n",
       " '1829-Jackson.txt',\n",
       " '1833-Jackson.txt',\n",
       " '1837-VanBuren.txt',\n",
       " '1841-Harrison.txt',\n",
       " '1845-Polk.txt',\n",
       " '1849-Taylor.txt',\n",
       " '1853-Pierce.txt',\n",
       " '1857-Buchanan.txt',\n",
       " '1861-Lincoln.txt',\n",
       " '1865-Lincoln.txt',\n",
       " '1869-Grant.txt',\n",
       " '1873-Grant.txt',\n",
       " '1877-Hayes.txt',\n",
       " '1881-Garfield.txt',\n",
       " '1885-Cleveland.txt',\n",
       " '1889-Harrison.txt',\n",
       " '1893-Cleveland.txt',\n",
       " '1897-McKinley.txt',\n",
       " '1901-McKinley.txt',\n",
       " '1905-Roosevelt.txt',\n",
       " '1909-Taft.txt',\n",
       " '1913-Wilson.txt',\n",
       " '1917-Wilson.txt',\n",
       " '1921-Harding.txt',\n",
       " '1925-Coolidge.txt',\n",
       " '1929-Hoover.txt',\n",
       " '1933-Roosevelt.txt',\n",
       " '1937-Roosevelt.txt',\n",
       " '1941-Roosevelt.txt',\n",
       " '1945-Roosevelt.txt',\n",
       " '1949-Truman.txt',\n",
       " '1953-Eisenhower.txt',\n",
       " '1957-Eisenhower.txt',\n",
       " '1961-Kennedy.txt',\n",
       " '1965-Johnson.txt',\n",
       " '1969-Nixon.txt',\n",
       " '1973-Nixon.txt',\n",
       " '1977-Carter.txt',\n",
       " '1981-Reagan.txt',\n",
       " '1985-Reagan.txt',\n",
       " '1989-Bush.txt',\n",
       " '1993-Clinton.txt',\n",
       " '1997-Clinton.txt',\n",
       " '2001-Bush.txt',\n",
       " '2005-Bush.txt',\n",
       " '2009-Obama.txt',\n",
       " '2013-Obama.txt',\n",
       " '2017-Trump.txt',\n",
       " '2021-Biden.txt']"
      ]
     },
     "execution_count": 3,
     "metadata": {},
     "output_type": "execute_result"
    }
   ],
   "source": [
    "inaugural.fileids()"
   ]
  },
  {
   "cell_type": "markdown",
   "id": "50e3f8b4",
   "metadata": {},
   "source": [
    " ### ['america', 'citizen'] 빈도수를 cfd로 만들기"
   ]
  },
  {
   "cell_type": "code",
   "execution_count": 11,
   "id": "e4a7d5a5",
   "metadata": {},
   "outputs": [
    {
     "data": {
      "image/png": "[encoded data removed]",
      "text/plain": [
       "<Figure size 864x360 with 1 Axes>"
      ]
     },
     "metadata": {
      "needs_background": "light"
     },
     "output_type": "display_data"
    },
    {
     "data": {
      "text/plain": [
       "<AxesSubplot:xlabel='Samples', ylabel='Counts'>"
      ]
     },
     "execution_count": 11,
     "metadata": {},
     "output_type": "execute_result"
    }
   ],
   "source": [
    "cfd2 = nltk.ConditionalFreqDist(\n",
    "    (word, fileid[:-4])\n",
    "    for word in ['citizen', 'america']\n",
    "    for fileid in inaugural.fileids()\n",
    "    \n",
    "    for text in inaugural.words(fileids=fileid)\n",
    "        if text.lower() == word\n",
    ")\n",
    "\n",
    "import matplotlib.pyplot as plt\n",
    "plt.figure(figsize=(12,5))\n",
    "cfd2.plot()"
   ]
  },
  {
   "cell_type": "markdown",
   "id": "ef92c730",
   "metadata": {},
   "source": [
    "<br>"
   ]
  },
  {
   "cell_type": "markdown",
   "id": "fecb5633",
   "metadata": {},
   "source": [
    "<br>"
   ]
  },
  {
   "cell_type": "markdown",
   "id": "e580a7d5",
   "metadata": {},
   "source": [
    "## 튜플 vs 리스트"
   ]
  },
  {
   "cell_type": "markdown",
   "id": "e1baf8ce",
   "metadata": {},
   "source": [
    "- tuple 장점 (불변객체)\n",
    "    - 변하지 않는 데이터 시퀀스를 만들 수 있다. 타인의 접근 막는다\n",
    "    - 메모리 사용 적다.\n",
    "   \n",
    "   \n",
    "- list 장점 (가변객체)\n",
    "    - 튜플 장점 필요없을 때 전부 리스트 사용\n",
    "    - 데이터를 순차적으로 파악할 때\n",
    "    - 중복 데이터를 쓸 수 있음 (set과 다르게)"
   ]
  },
  {
   "cell_type": "markdown",
   "id": "28a463b6",
   "metadata": {},
   "source": [
    "### 튜플, 리스트 생성"
   ]
  },
  {
   "cell_type": "code",
   "execution_count": 25,
   "id": "ec9ecc4a",
   "metadata": {},
   "outputs": [
    {
     "data": {
      "text/plain": [
       "((), [])"
      ]
     },
     "execution_count": 25,
     "metadata": {},
     "output_type": "execute_result"
    }
   ],
   "source": [
    "mptyT = ()\n",
    "emptyT = tuple()\n",
    "\n",
    "emptyL = []\n",
    "emptyL = list()\n",
    "\n",
    "emptyT, emptyL"
   ]
  },
  {
   "cell_type": "markdown",
   "id": "871d03c5",
   "metadata": {},
   "source": [
    "### 1) 요소 여러 개 일 때"
   ]
  },
  {
   "cell_type": "code",
   "execution_count": 13,
   "id": "46f75144",
   "metadata": {},
   "outputs": [],
   "source": [
    "# 튜플\n",
    "\n",
    "alphabetT = ('a', 'b')\n",
    "alphabetT = 'a', 'b'   #이렇게도 가능\n",
    "\n",
    "# 리스트\n",
    "\n",
    "alphabetL = ['a','b']### 1. 요소 여러 개 일 때"
   ]
  },
  {
   "cell_type": "markdown",
   "id": "03b133d0",
   "metadata": {},
   "source": [
    "### 2) 요소 한 개 일 때"
   ]
  },
  {
   "cell_type": "code",
   "execution_count": 14,
   "id": "1eb3bc8d",
   "metadata": {},
   "outputs": [],
   "source": [
    "word = ('a') # 이렇게 하면 str임\n",
    "word = ('a',) # 이렇게 ,을 찍어야 튜플"
   ]
  },
  {
   "cell_type": "markdown",
   "id": "0f4887f8",
   "metadata": {},
   "source": [
    "<br>"
   ]
  },
  {
   "cell_type": "markdown",
   "id": "67980482",
   "metadata": {},
   "source": [
    "<br>"
   ]
  },
  {
   "cell_type": "markdown",
   "id": "fd5c46f9",
   "metadata": {},
   "source": [
    "## tuple\n",
    "\n",
    "- packing: 한 변수에 여러 데이터를 할당하는 것\n",
    "    - list, tuple 자체. a = [1,2,3,4]\n",
    "- unpacking: 한 변수에 여러 데이터가 들어 있을 때 여러 변수에 나누는 것\n",
    "    - a='k', b='i', c='m'"
   ]
  },
  {
   "cell_type": "markdown",
   "id": "485a1211",
   "metadata": {},
   "source": [
    "### 1) unpacking"
   ]
  },
  {
   "cell_type": "code",
   "execution_count": 26,
   "id": "a6f8fa82",
   "metadata": {},
   "outputs": [
    {
     "data": {
      "text/plain": [
       "('k', 'i', 'm')"
      ]
     },
     "execution_count": 26,
     "metadata": {},
     "output_type": "execute_result"
    }
   ],
   "source": [
    "a,b,c = 'kim' # unpacking\n",
    "a,b,c"
   ]
  },
  {
   "cell_type": "markdown",
   "id": "85a87c19",
   "metadata": {},
   "source": [
    "### 2) 값 교환"
   ]
  },
  {
   "cell_type": "code",
   "execution_count": 16,
   "id": "6bb4e782",
   "metadata": {},
   "outputs": [],
   "source": [
    "# 값 교환하기\n",
    "\n",
    "pwd = 'abcd'\n",
    "userID = 'sky'\n",
    "\n",
    "pwd = userID # 이렇게 하면 pwd정보 날아감, 임시 변수에 담아야 함"
   ]
  },
  {
   "cell_type": "code",
   "execution_count": 17,
   "id": "8904ec8f",
   "metadata": {},
   "outputs": [],
   "source": [
    "pwd = 'abcd'\n",
    "userID = 'sky'\n",
    "\n",
    "pwd, userID = userID, pwd   # 튜플을 통해 임시 변수에 담는 번거로움 없이 두 개의 값 교환 가능"
   ]
  },
  {
   "cell_type": "markdown",
   "id": "4f639345",
   "metadata": {},
   "source": [
    "### 3) 연산"
   ]
  },
  {
   "cell_type": "code",
   "execution_count": 19,
   "id": "016bccde",
   "metadata": {},
   "outputs": [
    {
     "data": {
      "text/plain": [
       "(1, 2, 1, 2, 1, 2)"
      ]
     },
     "execution_count": 19,
     "metadata": {},
     "output_type": "execute_result"
    }
   ],
   "source": [
    "# 연산\n",
    "\n",
    "('a',) + (1,2)   # 튜플은 값이 변하지 않음. 그래서 더한 값은 아예 새로운 id로 들어감\n",
    "(1,2) * 3"
   ]
  },
  {
   "cell_type": "markdown",
   "id": "287baa5e",
   "metadata": {},
   "source": [
    "### 4) 비교"
   ]
  },
  {
   "cell_type": "code",
   "execution_count": 20,
   "id": "bd823c8b",
   "metadata": {},
   "outputs": [
    {
     "data": {
      "text/plain": [
       "True"
      ]
     },
     "execution_count": 20,
     "metadata": {},
     "output_type": "execute_result"
    }
   ],
   "source": [
    "# 비교\n",
    "\n",
    "x = 1,2\n",
    "y = 1,6\n",
    "\n",
    "x<y"
   ]
  },
  {
   "cell_type": "markdown",
   "id": "dfc17959",
   "metadata": {},
   "source": [
    "### 5) 순회 가능"
   ]
  },
  {
   "cell_type": "code",
   "execution_count": 21,
   "id": "7d15dbab",
   "metadata": {},
   "outputs": [
    {
     "name": "stdout",
     "output_type": "stream",
     "text": [
      "(1, 2)\n",
      "(1, 2)\n"
     ]
    }
   ],
   "source": [
    "# 순회가능\n",
    "for i in x:\n",
    "    print(x)"
   ]
  },
  {
   "cell_type": "code",
   "execution_count": 22,
   "id": "8ef08640",
   "metadata": {},
   "outputs": [
    {
     "data": {
      "text/plain": [
       "[1, 2]"
      ]
     },
     "execution_count": 22,
     "metadata": {},
     "output_type": "execute_result"
    }
   ],
   "source": [
    "[i for i in x]"
   ]
  },
  {
   "cell_type": "markdown",
   "id": "5dea365f",
   "metadata": {},
   "source": [
    "### 6) comprehension?"
   ]
  },
  {
   "cell_type": "code",
   "execution_count": 23,
   "id": "09ae439a",
   "metadata": {},
   "outputs": [
    {
     "data": {
      "text/plain": [
       "(1, 2)"
      ]
     },
     "execution_count": 23,
     "metadata": {},
     "output_type": "execute_result"
    }
   ],
   "source": [
    "# tuple comprehension은 없다! 그나마 방법이 있다면\n",
    "tuple([i for i in x])\n",
    "*[i for i in x],"
   ]
  },
  {
   "cell_type": "markdown",
   "id": "e0e6cf10",
   "metadata": {},
   "source": [
    "### 7) 형 변환"
   ]
  },
  {
   "cell_type": "code",
   "execution_count": 28,
   "id": "e232ddf7",
   "metadata": {},
   "outputs": [],
   "source": [
    "# 형 변환\n",
    "dog = 'dog'\n",
    "\n",
    "dogT = tuple(dog)  #이건 하나씩으로 바꿈"
   ]
  },
  {
   "cell_type": "code",
   "execution_count": 29,
   "id": "136b225b",
   "metadata": {},
   "outputs": [
    {
     "data": {
      "text/plain": [
       "('dog',)"
      ]
     },
     "execution_count": 29,
     "metadata": {},
     "output_type": "execute_result"
    }
   ],
   "source": [
    "(dog,)   #이건 통째로 바꿈"
   ]
  },
  {
   "cell_type": "code",
   "execution_count": 30,
   "id": "5b77a007",
   "metadata": {},
   "outputs": [
    {
     "data": {
      "text/plain": [
       "['d', 'o', 'g']"
      ]
     },
     "execution_count": 30,
     "metadata": {},
     "output_type": "execute_result"
    }
   ],
   "source": [
    "list(dog)"
   ]
  },
  {
   "cell_type": "markdown",
   "id": "08dfb3fd",
   "metadata": {},
   "source": [
    "### 8) 슬라이싱"
   ]
  },
  {
   "cell_type": "code",
   "execution_count": 30,
   "id": "89a22a46",
   "metadata": {},
   "outputs": [
    {
     "data": {
      "text/plain": [
       "'d'"
      ]
     },
     "execution_count": 30,
     "metadata": {},
     "output_type": "execute_result"
    }
   ],
   "source": [
    "# 슬라이싱 가능\n",
    "dogT[0]"
   ]
  },
  {
   "cell_type": "markdown",
   "id": "7f3082f8",
   "metadata": {},
   "source": [
    "<br>"
   ]
  },
  {
   "cell_type": "markdown",
   "id": "88147210",
   "metadata": {},
   "source": [
    "<br>"
   ]
  },
  {
   "cell_type": "markdown",
   "id": "6c632913",
   "metadata": {},
   "source": [
    "## 리스트 유용 함수들\n",
    "- 추가, 변경, 삭제\n",
    "- list comprehension upgrade"
   ]
  },
  {
   "cell_type": "code",
   "execution_count": 5,
   "id": "269b78ec",
   "metadata": {},
   "outputs": [
    {
     "data": {
      "text/plain": [
       "[0, 1, 2, 3, 4]"
      ]
     },
     "execution_count": 5,
     "metadata": {},
     "output_type": "execute_result"
    }
   ],
   "source": [
    "num = list(range(5))\n",
    "num"
   ]
  },
  {
   "cell_type": "markdown",
   "id": "7ccab854",
   "metadata": {},
   "source": [
    "### 1) 추가"
   ]
  },
  {
   "cell_type": "code",
   "execution_count": 6,
   "id": "b3e23ea5",
   "metadata": {},
   "outputs": [
    {
     "data": {
      "text/plain": [
       "[0, 1, 2, 3, 4, 6]"
      ]
     },
     "execution_count": 6,
     "metadata": {},
     "output_type": "execute_result"
    }
   ],
   "source": [
    "# 추가 함수\n",
    "\n",
    "num.append(6)  # 마지막에 요소 추가 됨\n",
    "num"
   ]
  },
  {
   "cell_type": "code",
   "execution_count": 7,
   "id": "37efd07d",
   "metadata": {},
   "outputs": [
    {
     "data": {
      "text/plain": [
       "[8, 0, 1, 2, 3, 4, 6]"
      ]
     },
     "execution_count": 7,
     "metadata": {},
     "output_type": "execute_result"
    }
   ],
   "source": [
    "# insert(index,item)\n",
    "\n",
    "num.insert(0,8)\n",
    "num"
   ]
  },
  {
   "cell_type": "code",
   "execution_count": 8,
   "id": "ecc8ab8e",
   "metadata": {},
   "outputs": [
    {
     "data": {
      "text/plain": [
       "[8, 0, 1, 2, 3, 4, 6, 6, 6, 6]"
      ]
     },
     "execution_count": 8,
     "metadata": {},
     "output_type": "execute_result"
    }
   ],
   "source": [
    "# 여러 개 추가\n",
    "num.extend([6,6,6])  # 마지막에 리스트를 확장 / 이걸 두 번 실행하면 또 한 번 더 붙으니까 주의\n",
    "num"
   ]
  },
  {
   "cell_type": "code",
   "execution_count": 9,
   "id": "ce095159",
   "metadata": {},
   "outputs": [
    {
     "data": {
      "text/plain": [
       "[8, 0, 1, 2, 3, 4, 6, 6, 6, 6, [6, 6, 6]]"
      ]
     },
     "execution_count": 9,
     "metadata": {},
     "output_type": "execute_result"
    }
   ],
   "source": [
    "# extend와 append는 다름\n",
    "\n",
    "x = [6,6,6]\n",
    "num.append(x)\n",
    "num"
   ]
  },
  {
   "cell_type": "markdown",
   "id": "8b4f7926",
   "metadata": {},
   "source": []
  },
  {
   "cell_type": "code",
   "execution_count": 10,
   "id": "49208d58",
   "metadata": {},
   "outputs": [
    {
     "data": {
      "text/plain": [
       "[8, 0, 1, 2, 3, 4, 6, 6, 6, 6, [6, 6, 6], 6, 6, 6]"
      ]
     },
     "execution_count": 10,
     "metadata": {},
     "output_type": "execute_result"
    }
   ],
   "source": [
    "num += x\n",
    "num"
   ]
  },
  {
   "cell_type": "markdown",
   "id": "03be1925",
   "metadata": {},
   "source": [
    "### 2) 변경"
   ]
  },
  {
   "cell_type": "code",
   "execution_count": 11,
   "id": "a1875a3d",
   "metadata": {},
   "outputs": [
    {
     "data": {
      "text/plain": [
       "[9, 0, 1, 2, 3, 4, 6, 6, 6, 6, [6, 6, 6], 6, 6, 6]"
      ]
     },
     "execution_count": 11,
     "metadata": {},
     "output_type": "execute_result"
    }
   ],
   "source": [
    "# offset바꾸기 가능\n",
    "\n",
    "num[0] = 9\n",
    "num"
   ]
  },
  {
   "cell_type": "code",
   "execution_count": 12,
   "id": "5365534e",
   "metadata": {},
   "outputs": [
    {
     "data": {
      "text/plain": [
       "[2, 2, 2, 2, 3, 4, 6, 6, 6, 6, [6, 6, 6], 6, 6, 6]"
      ]
     },
     "execution_count": 12,
     "metadata": {},
     "output_type": "execute_result"
    }
   ],
   "source": [
    "# 슬라이스 가능\n",
    "\n",
    "num[:3] = 2, 2, 2\n",
    "num"
   ]
  },
  {
   "cell_type": "code",
   "execution_count": 13,
   "id": "c34aa879",
   "metadata": {},
   "outputs": [
    {
     "data": {
      "text/plain": [
       "['c', 'a', 't', 2, 3, 4, 6, 6, 6, 6, [6, 6, 6], 6, 6, 6]"
      ]
     },
     "execution_count": 13,
     "metadata": {},
     "output_type": "execute_result"
    }
   ],
   "source": [
    "num[:3] = 'cat' # 쪼개져서 들어감\n",
    "num"
   ]
  },
  {
   "cell_type": "markdown",
   "id": "bfc576ac",
   "metadata": {},
   "source": [
    "### 3) 삭제"
   ]
  },
  {
   "cell_type": "code",
   "execution_count": 14,
   "id": "953511c7",
   "metadata": {},
   "outputs": [
    {
     "data": {
      "text/plain": [
       "[2, 3, 4, 6, 6, 6, 6, [6, 6, 6], 6, 6, 6]"
      ]
     },
     "execution_count": 14,
     "metadata": {},
     "output_type": "execute_result"
    }
   ],
   "source": [
    "# 삭제\n",
    "\n",
    "del num[:3]\n",
    "num"
   ]
  },
  {
   "cell_type": "code",
   "execution_count": 15,
   "id": "265506bd",
   "metadata": {},
   "outputs": [
    {
     "data": {
      "text/plain": [
       "[2, 3, 4, 6, 6, 6, 6, 6, 6, 6]"
      ]
     },
     "execution_count": 15,
     "metadata": {},
     "output_type": "execute_result"
    }
   ],
   "source": [
    "# 삭제 value값 지정 가능\n",
    "\n",
    "num.remove([6,6,6])  # 이거 그냥 값 적으니까 안되더라?\n",
    "num"
   ]
  },
  {
   "cell_type": "code",
   "execution_count": 16,
   "id": "94d8d606",
   "metadata": {},
   "outputs": [
    {
     "data": {
      "text/plain": [
       "[2, 3, 4, 6, 6, 6, 6, 6, 6]"
      ]
     },
     "execution_count": 16,
     "metadata": {},
     "output_type": "execute_result"
    }
   ],
   "source": [
    "num.pop()\n",
    "num"
   ]
  },
  {
   "cell_type": "code",
   "execution_count": 17,
   "id": "5b17fd91",
   "metadata": {},
   "outputs": [
    {
     "data": {
      "text/plain": [
       "[]"
      ]
     },
     "execution_count": 17,
     "metadata": {},
     "output_type": "execute_result"
    }
   ],
   "source": [
    "num.clear()\n",
    "num"
   ]
  },
  {
   "cell_type": "markdown",
   "id": "9f27ddb2",
   "metadata": {},
   "source": [
    "<br>"
   ]
  },
  {
   "cell_type": "markdown",
   "id": "cac142fe",
   "metadata": {},
   "source": [
    "<br>"
   ]
  },
  {
   "cell_type": "markdown",
   "id": "cdc17654",
   "metadata": {},
   "source": [
    "## index"
   ]
  },
  {
   "cell_type": "code",
   "execution_count": 18,
   "id": "9882eb22",
   "metadata": {},
   "outputs": [
    {
     "data": {
      "text/plain": [
       "4"
      ]
     },
     "execution_count": 18,
     "metadata": {},
     "output_type": "execute_result"
    }
   ],
   "source": [
    "num = list(range(5))\n",
    "num.index(4)"
   ]
  },
  {
   "cell_type": "code",
   "execution_count": 19,
   "id": "19f74d56",
   "metadata": {},
   "outputs": [
    {
     "data": {
      "text/plain": [
       "True"
      ]
     },
     "execution_count": 19,
     "metadata": {},
     "output_type": "execute_result"
    }
   ],
   "source": [
    "0 in num"
   ]
  },
  {
   "cell_type": "markdown",
   "id": "edd2f203",
   "metadata": {},
   "source": [
    "<br>"
   ]
  },
  {
   "cell_type": "markdown",
   "id": "73c0167a",
   "metadata": {},
   "source": [
    "<br>"
   ]
  },
  {
   "cell_type": "markdown",
   "id": "8563bbab",
   "metadata": {},
   "source": [
    "## 정렬"
   ]
  },
  {
   "cell_type": "code",
   "execution_count": 40,
   "id": "d159f343",
   "metadata": {},
   "outputs": [
    {
     "data": {
      "text/plain": [
       "[5, 4, 3, 2, 1]"
      ]
     },
     "execution_count": 40,
     "metadata": {},
     "output_type": "execute_result"
    }
   ],
   "source": [
    "num = [1,2,3,4,5]\n",
    "\n",
    "result = sorted(num, reverse=True)  # 변한 값만 복사해서 출력, 할당이 필요\n",
    "result"
   ]
  },
  {
   "cell_type": "code",
   "execution_count": 41,
   "id": "c952e77e",
   "metadata": {},
   "outputs": [
    {
     "data": {
      "text/plain": [
       "[5, 4, 3, 2, 1]"
      ]
     },
     "execution_count": 41,
     "metadata": {},
     "output_type": "execute_result"
    }
   ],
   "source": [
    "num = [1,2,3,4,5]\n",
    "\n",
    "num.sort(reverse=True)  # 값을 할당하지 않아도 됨. 진짜로 값이 바뀜\n",
    "num"
   ]
  },
  {
   "cell_type": "markdown",
   "id": "68251598",
   "metadata": {},
   "source": []
  },
  {
   "cell_type": "code",
   "execution_count": 42,
   "id": "759e3f40",
   "metadata": {},
   "outputs": [
    {
     "data": {
      "text/plain": [
       "[5, 4, 3, 2, 1]"
      ]
     },
     "execution_count": 42,
     "metadata": {},
     "output_type": "execute_result"
    }
   ],
   "source": [
    "num"
   ]
  },
  {
   "cell_type": "code",
   "execution_count": 45,
   "id": "22e3f82c",
   "metadata": {},
   "outputs": [
    {
     "data": {
      "text/plain": [
       "[1, 2, 3, 4, 5]"
      ]
     },
     "execution_count": 45,
     "metadata": {},
     "output_type": "execute_result"
    }
   ],
   "source": [
    "# reverse와 reversed()의 차이\n",
    "\n",
    "num.reverse()\n",
    "reversed(num)\n",
    "num"
   ]
  },
  {
   "cell_type": "markdown",
   "id": "3f85ef91",
   "metadata": {},
   "source": [
    "<br>"
   ]
  },
  {
   "cell_type": "markdown",
   "id": "3363eb6e",
   "metadata": {},
   "source": [
    "<br>"
   ]
  },
  {
   "cell_type": "markdown",
   "id": "18b919e6",
   "metadata": {},
   "source": [
    "## 할당"
   ]
  },
  {
   "cell_type": "code",
   "execution_count": 2,
   "id": "4f3b837c",
   "metadata": {},
   "outputs": [
    {
     "data": {
      "text/plain": [
       "[1, 2, 3, 4]"
      ]
     },
     "execution_count": 2,
     "metadata": {},
     "output_type": "execute_result"
    }
   ],
   "source": [
    "a = list(range(1,5))\n",
    "a"
   ]
  },
  {
   "cell_type": "code",
   "execution_count": 3,
   "id": "b44076c5",
   "metadata": {},
   "outputs": [
    {
     "data": {
      "text/plain": [
       "([6, 2, 3, 4], [6, 2, 3, 4])"
      ]
     },
     "execution_count": 3,
     "metadata": {},
     "output_type": "execute_result"
    }
   ],
   "source": [
    "b = a # 메모리 주소를 참조하는 것\n",
    "b[0] = 6\n",
    "a,b # 둘 다 바뀜"
   ]
  },
  {
   "cell_type": "code",
   "execution_count": 4,
   "id": "40714cca",
   "metadata": {},
   "outputs": [
    {
     "data": {
      "text/plain": [
       "(2958774214912, 2958774214912)"
      ]
     },
     "execution_count": 4,
     "metadata": {},
     "output_type": "execute_result"
    }
   ],
   "source": [
    "id(a), id(b)   # id가 같음"
   ]
  },
  {
   "cell_type": "markdown",
   "id": "17e3ec33",
   "metadata": {},
   "source": [
    "### 얕은 복사"
   ]
  },
  {
   "cell_type": "code",
   "execution_count": 8,
   "id": "b490e9dd",
   "metadata": {},
   "outputs": [],
   "source": [
    "# shallow copy: 참조하지 않고 새로운 객체에 할당하는 방법. 얕은 복사\n",
    "\n",
    "a = [1,2,3,4]\n",
    "\n",
    "c = a.copy()\n",
    "d = list(a)\n",
    "e = a[:]"
   ]
  },
  {
   "cell_type": "code",
   "execution_count": 9,
   "id": "04377c7d",
   "metadata": {},
   "outputs": [
    {
     "data": {
      "text/plain": [
       "(2958774412352, 2958774452672, 2958774441920, 2958774411392)"
      ]
     },
     "execution_count": 9,
     "metadata": {},
     "output_type": "execute_result"
    }
   ],
   "source": [
    "id(a), id(c), id(d), id(e)   # id가 다름"
   ]
  },
  {
   "cell_type": "code",
   "execution_count": 11,
   "id": "c91e4e9d",
   "metadata": {
    "scrolled": true
   },
   "outputs": [
    {
     "name": "stdout",
     "output_type": "stream",
     "text": [
      "2958774447808 2958774447168\n"
     ]
    },
    {
     "data": {
      "text/plain": [
       "([1, 2, 3, 4, [9, 5, 5]], [1, 2, 3, 4, [9, 5, 5]])"
      ]
     },
     "execution_count": 11,
     "metadata": {},
     "output_type": "execute_result"
    }
   ],
   "source": [
    "# 얕은 복사 시에는 아래와 같은 경우가 생김 _ 리스트 안 요소가 가변객체일 시\n",
    "\n",
    "a = [1,2,3,4]\n",
    "a.append([5, 5, 5])\n",
    "\n",
    "f = a.copy()\n",
    "print(id(a), id(f))   # 주소는 다르게 받음\n",
    "\n",
    "f[-1][0] = 9\n",
    "a,f             # 내용물은 둘 다 같이 바뀌어 버림"
   ]
  },
  {
   "cell_type": "markdown",
   "id": "8f40cd1b",
   "metadata": {},
   "source": [
    "### 깊은 복사"
   ]
  },
  {
   "cell_type": "code",
   "execution_count": 12,
   "id": "e8ecdc4d",
   "metadata": {},
   "outputs": [
    {
     "data": {
      "text/plain": [
       "[1, 2, 3, 4, [9, 5, 5]]"
      ]
     },
     "execution_count": 12,
     "metadata": {},
     "output_type": "execute_result"
    }
   ],
   "source": [
    "# 깊은 복사 방법\n",
    "\n",
    "import copy\n",
    "g = copy.deepcopy(a)\n",
    "g"
   ]
  },
  {
   "cell_type": "code",
   "execution_count": 13,
   "id": "3ab34e3b",
   "metadata": {},
   "outputs": [
    {
     "data": {
      "text/plain": [
       "([1, 2, 3, 4, [9, 5, 5]], [1, 2, 3, 4, 10])"
      ]
     },
     "execution_count": 13,
     "metadata": {},
     "output_type": "execute_result"
    }
   ],
   "source": [
    "# 복사한 리스트의 내용을 변경해도 원본 리스트는 변경되지 않는다.\n",
    "\n",
    "g[-1] = 10\n",
    "a, g      # 둘 다 바뀌는 게 아니라 g만 바뀜"
   ]
  },
  {
   "cell_type": "markdown",
   "id": "d3676cf7",
   "metadata": {},
   "source": [
    "<br>"
   ]
  },
  {
   "cell_type": "markdown",
   "id": "0b9367f4",
   "metadata": {},
   "source": [
    "<br>"
   ]
  },
  {
   "cell_type": "markdown",
   "id": "a3748cc2",
   "metadata": {},
   "source": [
    "## 순회"
   ]
  },
  {
   "cell_type": "markdown",
   "id": "d7439e9f",
   "metadata": {},
   "source": [
    "### enumerate 활용"
   ]
  },
  {
   "cell_type": "code",
   "execution_count": 74,
   "id": "8be6b6d1",
   "metadata": {},
   "outputs": [
    {
     "name": "stdout",
     "output_type": "stream",
     "text": [
      "0 kate\n",
      "1 royce\n",
      "2 phill\n"
     ]
    }
   ],
   "source": [
    "# 리스트 + 인덱스 enumerate\n",
    "\n",
    "for idx, item in enumerate(name):\n",
    "    print(idx, item)"
   ]
  },
  {
   "cell_type": "markdown",
   "id": "a41f10d9",
   "metadata": {},
   "source": [
    "### zip 활용"
   ]
  },
  {
   "cell_type": "code",
   "execution_count": 15,
   "id": "dae6b2b2",
   "metadata": {},
   "outputs": [
    {
     "name": "stdout",
     "output_type": "stream",
     "text": [
      "('kate', 77)\n",
      "('royce', 44)\n",
      "('phill', 53)\n"
     ]
    }
   ],
   "source": [
    "name = ['kate','royce','phill']\n",
    "age = [77, 44, 53]\n",
    "\n",
    "\n",
    "# (name, age)\n",
    "\n",
    "for item1, item2 in zip(name,age):\n",
    "    print((item1, item2))"
   ]
  },
  {
   "cell_type": "code",
   "execution_count": 16,
   "id": "ba59b557",
   "metadata": {},
   "outputs": [
    {
     "name": "stdout",
     "output_type": "stream",
     "text": [
      "('kate', 77)\n",
      "('kate', 44)\n",
      "('kate', 53)\n",
      "('royce', 77)\n",
      "('royce', 44)\n",
      "('royce', 53)\n",
      "('phill', 77)\n",
      "('phill', 44)\n",
      "('phill', 53)\n"
     ]
    }
   ],
   "source": [
    "for item1 in name:\n",
    "    for item2 in age:\n",
    "        print((item1,item2))"
   ]
  },
  {
   "cell_type": "code",
   "execution_count": 17,
   "id": "770da6fd",
   "metadata": {},
   "outputs": [
    {
     "data": {
      "text/plain": [
       "[('kate', 77), ('royce', 44), ('phill', 53)]"
      ]
     },
     "execution_count": 17,
     "metadata": {},
     "output_type": "execute_result"
    }
   ],
   "source": [
    "list(zip(name,age))"
   ]
  },
  {
   "cell_type": "code",
   "execution_count": 18,
   "id": "fe3c39fd",
   "metadata": {},
   "outputs": [
    {
     "data": {
      "text/plain": [
       "[('kate', 77), ('royce', 44), ('phill', 53)]"
      ]
     },
     "execution_count": 18,
     "metadata": {},
     "output_type": "execute_result"
    }
   ],
   "source": [
    "[info for info in zip(name,age)]"
   ]
  },
  {
   "cell_type": "code",
   "execution_count": 19,
   "id": "9bad54af",
   "metadata": {
    "scrolled": true
   },
   "outputs": [
    {
     "data": {
      "text/plain": [
       "[('kate', 77), ('royce', 44), ('phill', 53)]"
      ]
     },
     "execution_count": 19,
     "metadata": {},
     "output_type": "execute_result"
    }
   ],
   "source": [
    "[(i,j) for i, j in zip(name,age)]"
   ]
  },
  {
   "cell_type": "markdown",
   "id": "400724d1",
   "metadata": {},
   "source": [
    "### zip과 for문 함께 사용하기 응용"
   ]
  },
  {
   "cell_type": "code",
   "execution_count": 20,
   "id": "c62c40ac",
   "metadata": {},
   "outputs": [
    {
     "name": "stdout",
     "output_type": "stream",
     "text": [
      "[('kate', 77), ('royce', 44), ('phill', 53)]\n"
     ]
    }
   ],
   "source": [
    "# name, age를 이용해서 새로운 리스트 생성, 형태는 (이름, 나이), for문 사용\n",
    "\n",
    "result = []\n",
    "\n",
    "for i,j in zip(name, age):\n",
    "    result.append((i,j))\n",
    "    \n",
    "print(result)"
   ]
  },
  {
   "cell_type": "markdown",
   "id": "68eabe43",
   "metadata": {},
   "source": [
    "<br>"
   ]
  },
  {
   "cell_type": "markdown",
   "id": "f5fecd20",
   "metadata": {},
   "source": [
    "<br>"
   ]
  },
  {
   "cell_type": "markdown",
   "id": "139e9d05",
   "metadata": {},
   "source": [
    "## list comprehension upgrade"
   ]
  },
  {
   "cell_type": "markdown",
   "id": "c1a52eef",
   "metadata": {},
   "source": [
    "<br>"
   ]
  },
  {
   "cell_type": "markdown",
   "id": "99587c4d",
   "metadata": {},
   "source": [
    "### Quiz 1\n",
    "- 아래 for문 처럼 출력되도록 list comprehension 만들기"
   ]
  },
  {
   "cell_type": "code",
   "execution_count": 21,
   "id": "104d65c4",
   "metadata": {},
   "outputs": [
    {
     "name": "stdout",
     "output_type": "stream",
     "text": [
      "kate 77\n",
      "kate 44\n",
      "kate 53\n",
      "royce 77\n",
      "royce 44\n",
      "royce 53\n",
      "phill 77\n",
      "phill 44\n",
      "phill 53\n"
     ]
    }
   ],
   "source": [
    "for i in name:\n",
    "    for j in age:\n",
    "        print(i,j)"
   ]
  },
  {
   "cell_type": "code",
   "execution_count": 22,
   "id": "819238ba",
   "metadata": {},
   "outputs": [
    {
     "data": {
      "text/plain": [
       "[('kate', 77),\n",
       " ('kate', 44),\n",
       " ('kate', 53),\n",
       " ('royce', 77),\n",
       " ('royce', 44),\n",
       " ('royce', 53),\n",
       " ('phill', 77),\n",
       " ('phill', 44),\n",
       " ('phill', 53)]"
      ]
     },
     "execution_count": 22,
     "metadata": {},
     "output_type": "execute_result"
    }
   ],
   "source": [
    "# 1번 문제 풀이\n",
    "[(i,j) for i in name for j in age]"
   ]
  },
  {
   "cell_type": "markdown",
   "id": "ff82bce9",
   "metadata": {},
   "source": [
    "<br>"
   ]
  },
  {
   "cell_type": "markdown",
   "id": "85fa6aca",
   "metadata": {},
   "source": [
    "<br>"
   ]
  },
  {
   "cell_type": "markdown",
   "id": "a929a76e",
   "metadata": {},
   "source": [
    "### Quiz 2\n",
    "- 아래 for문 처럼 출력되도록 list comprehension 만들기"
   ]
  },
  {
   "cell_type": "code",
   "execution_count": 31,
   "id": "d9eed897",
   "metadata": {},
   "outputs": [
    {
     "name": "stdout",
     "output_type": "stream",
     "text": [
      "[[('kate', 77), ('royce', 77), ('phill', 77)], [('kate', 44), ('royce', 44), ('phill', 44)], [('kate', 53), ('royce', 53), ('phill', 53)]]\n"
     ]
    }
   ],
   "source": [
    "result = []\n",
    "\n",
    "for j in age:\n",
    "    empty = []\n",
    "    for i in name:\n",
    "        empty.append((i,j))\n",
    "    result.append(empty)\n",
    "\n",
    "print(result)"
   ]
  },
  {
   "cell_type": "code",
   "execution_count": 24,
   "id": "a4bc14cd",
   "metadata": {},
   "outputs": [
    {
     "data": {
      "text/plain": [
       "[[('kate', 77), ('royce', 77), ('phill', 77)],\n",
       " [('kate', 44), ('royce', 44), ('phill', 44)],\n",
       " [('kate', 53), ('royce', 53), ('phill', 53)]]"
      ]
     },
     "execution_count": 24,
     "metadata": {},
     "output_type": "execute_result"
    }
   ],
   "source": [
    "# 2번 문제 풀이\n",
    "[\n",
    "    [(i,j) for i in name] for j in age\n",
    "]"
   ]
  },
  {
   "cell_type": "markdown",
   "id": "4de96696",
   "metadata": {},
   "source": [
    "<br>"
   ]
  },
  {
   "cell_type": "markdown",
   "id": "b19459ba",
   "metadata": {},
   "source": [
    "<br>"
   ]
  },
  {
   "cell_type": "markdown",
   "id": "20b1eb41",
   "metadata": {},
   "source": [
    "### Quiz 3\n",
    "- [(대문자, 첫글자대문자, 글자수), ...] 리스트 만들기"
   ]
  },
  {
   "cell_type": "code",
   "execution_count": 32,
   "id": "1a7781e9",
   "metadata": {},
   "outputs": [
    {
     "data": {
      "text/plain": [
       "[('DO', 'Do', 2),\n",
       " ('NOT', 'Not', 3),\n",
       " ('JUDGE', 'Judge', 5),\n",
       " ('A', 'A', 1),\n",
       " ('BOOK', 'Book', 4),\n",
       " ('BY', 'By', 2),\n",
       " ('ITS', 'Its', 3),\n",
       " ('COVER', 'Cover', 5)]"
      ]
     },
     "execution_count": 32,
     "metadata": {},
     "output_type": "execute_result"
    }
   ],
   "source": [
    "sentence = \"do not judge a book by its cover\"\n",
    "\n",
    "[(word.upper(), word.title(), len(word)) for word in sentence.split()]"
   ]
  },
  {
   "cell_type": "markdown",
   "id": "b0f3a0f0",
   "metadata": {},
   "source": [
    "<br>"
   ]
  },
  {
   "cell_type": "markdown",
   "id": "6f29dc3a",
   "metadata": {},
   "source": [
    "<br>"
   ]
  },
  {
   "cell_type": "markdown",
   "id": "01ff888b",
   "metadata": {},
   "source": [
    "### Quiz 4\n",
    "\n",
    "    1. 문장마다 스트링으로 변환해서 리스트로 반환   # ['문장1', '문장2']\n",
    "    2. 전체를 스트링으로 변환   # '문장1 문장2'\n",
    "    3. 전체 단어 리스트 가져오기   # [sunja, said, ...]"
   ]
  },
  {
   "cell_type": "code",
   "execution_count": 33,
   "id": "6f131508",
   "metadata": {},
   "outputs": [],
   "source": [
    "text = [\n",
    "    ['Sunja', 'said', 'goodnight', 'to', 'her', 'mother'],\n",
    "    ['Hansu', 'was', 'no', 'longer', 'in', 'Busan']\n",
    "]"
   ]
  },
  {
   "cell_type": "code",
   "execution_count": 34,
   "id": "ecb8be0c",
   "metadata": {},
   "outputs": [
    {
     "data": {
      "text/plain": [
       "['Sunja said goodnight to her mother', 'Hansu was no longer in Busan']"
      ]
     },
     "execution_count": 34,
     "metadata": {},
     "output_type": "execute_result"
    }
   ],
   "source": [
    "# 1번 문제 풀이\n",
    "\n",
    "[' '.join(words) for words in text]"
   ]
  },
  {
   "cell_type": "code",
   "execution_count": 35,
   "id": "54a5e6b1",
   "metadata": {},
   "outputs": [
    {
     "data": {
      "text/plain": [
       "'Sunja said goodnight to her mother Hansu was no longer in Busan'"
      ]
     },
     "execution_count": 35,
     "metadata": {},
     "output_type": "execute_result"
    }
   ],
   "source": [
    "# 2번 문제 풀이\n",
    "\n",
    "' '.join([' '.join(words) for words in text])"
   ]
  },
  {
   "cell_type": "code",
   "execution_count": 36,
   "id": "7923a417",
   "metadata": {},
   "outputs": [
    {
     "data": {
      "text/plain": [
       "['Sunja',\n",
       " 'said',\n",
       " 'goodnight',\n",
       " 'to',\n",
       " 'her',\n",
       " 'mother',\n",
       " 'Hansu',\n",
       " 'was',\n",
       " 'no',\n",
       " 'longer',\n",
       " 'in',\n",
       " 'Busan']"
      ]
     },
     "execution_count": 36,
     "metadata": {},
     "output_type": "execute_result"
    }
   ],
   "source": [
    "# 3번 문제 풀이\n",
    "\n",
    "[word for sent in text for word in sent]"
   ]
  },
  {
   "cell_type": "markdown",
   "id": "d614576e",
   "metadata": {},
   "source": [
    "<br>"
   ]
  },
  {
   "cell_type": "markdown",
   "id": "a6af28ed",
   "metadata": {},
   "source": [
    "<br>"
   ]
  },
  {
   "cell_type": "markdown",
   "id": "fa26ea99",
   "metadata": {},
   "source": [
    "## list comprehension 조건문"
   ]
  },
  {
   "cell_type": "markdown",
   "id": "a8014c5c",
   "metadata": {},
   "source": [
    "### if-else문 표현법\n",
    "- 앞쪽으로 if문을 끌고 오면 됨"
   ]
  },
  {
   "cell_type": "code",
   "execution_count": 105,
   "id": "0938d190",
   "metadata": {},
   "outputs": [
    {
     "data": {
      "text/plain": [
       "[0, 1, 2, 3, 4, 5, 6, 7, 8, 9]"
      ]
     },
     "execution_count": 105,
     "metadata": {},
     "output_type": "execute_result"
    }
   ],
   "source": [
    "# if 문 => else를 어떻게 표현할까?\n",
    "\n",
    "[i for i in range(10)]  # 짝수는 가져오고 홀수는 홀수='홀수' 되게 만드려면?"
   ]
  },
  {
   "cell_type": "code",
   "execution_count": 107,
   "id": "f7bf591d",
   "metadata": {},
   "outputs": [
    {
     "data": {
      "text/plain": [
       "[0, '홀수', 2, '홀수', 4, '홀수', 6, '홀수', 8, '홀수']"
      ]
     },
     "execution_count": 107,
     "metadata": {},
     "output_type": "execute_result"
    }
   ],
   "source": [
    "[i if i%2 == 0 else '홀수' for i in range(10)]   # 앞으로 if문을 끌고 오면 됨"
   ]
  }
 ],
 "metadata": {
  "kernelspec": {
   "display_name": "Python 3 (ipykernel)",
   "language": "python",
   "name": "python3"
  },
  "language_info": {
   "codemirror_mode": {
    "name": "ipython",
    "version": 3
   },
   "file_extension": ".py",
   "mimetype": "text/x-python",
   "name": "python",
   "nbconvert_exporter": "python",
   "pygments_lexer": "ipython3",
   "version": "3.9.7"
  }
 },
 "nbformat": 4,
 "nbformat_minor": 5
}
