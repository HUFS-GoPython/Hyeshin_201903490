{
 "cells": [
  {
   "cell_type": "markdown",
   "id": "c73f0664",
   "metadata": {},
   "source": [
    "<br>"
   ]
  },
  {
   "cell_type": "markdown",
   "id": "06988b98",
   "metadata": {},
   "source": [
    "## 객체와 클래스\n",
    "\n",
    "- object: 객체\n",
    "- 객체지향 프로그래밍\n",
    "- 속성과 행동을 가지는 개념(행동은 때에 따라 없어도 되는 항목), 실존하는 물체\n",
    "    - 예: 자동차, 강아지, 꽃, ..thing\n",
    "    - 속성: 브랜드, 색, 속도, 모델, ..  ==> 변수\n",
    "        - 이름, 종, 색, 무게, ..\n",
    "    - 행동: 가다, 서다, 회전, 주차\n",
    "        - 뛰다, 찾다, 차다, 핥다, ..\n",
    "<br><br>\n",
    "- 편의점 => \"고객이 편의점에서 과자를 찾다\"\n",
    "    => 고객 => 사람, 편의점, 과자 => 물건\n",
    "        - 이름, 브랜드, 가격\n",
    "        - 물건 사다, 돈 내다\n",
    "        - 재고, 수익\n",
    "        - 팔다, 수익 남기다, 물건 등록하다\n",
    "    => 상호작용으로 코드를 구성하는 것\n",
    " <br><br>\n",
    "- 내가 필요한 속성을 부여해야함"
   ]
  },
  {
   "cell_type": "markdown",
   "id": "c4a56e7f",
   "metadata": {},
   "source": [
    "<br>"
   ]
  },
  {
   "cell_type": "markdown",
   "id": "8186b40d",
   "metadata": {},
   "source": [
    "## 클래스 이름짓기\n",
    "- 첫글자 대문자\n",
    "- nice car => Nice_car (x) NiceCar (o) 카멜 표기법 해야함\n",
    "- 정의부와 선언부가 있음\n",
    "    - 정의부: 붕어빵 틀\n",
    "    - 선언부: 붕어빵"
   ]
  },
  {
   "cell_type": "code",
   "execution_count": 2,
   "id": "b2ab3bf9",
   "metadata": {},
   "outputs": [
    {
     "data": {
      "text/plain": [
       "<__main__.Car at 0x20c9b702850>"
      ]
     },
     "execution_count": 2,
     "metadata": {},
     "output_type": "execute_result"
    }
   ],
   "source": [
    "# 정의부\n",
    "# 클래스와 클래스 이름\n",
    "\n",
    "class Car:\n",
    "    pass\n",
    "\n",
    "\n",
    "# 선언부\n",
    "Car()\n",
    "\n",
    "# 인스턴스\n",
    "\n",
    "my_car = Car()\n",
    "my_car"
   ]
  },
  {
   "cell_type": "code",
   "execution_count": 3,
   "id": "a8c55325",
   "metadata": {},
   "outputs": [],
   "source": [
    "# 속성을 만들 수 있음\n",
    "\n",
    "my_car.name = 'bmw'\n",
    "my_car.color = 'white'"
   ]
  },
  {
   "cell_type": "markdown",
   "id": "65f9b4d0",
   "metadata": {},
   "source": [
    "<br>"
   ]
  },
  {
   "cell_type": "markdown",
   "id": "3cd8bb89",
   "metadata": {},
   "source": [
    "### upgrade 1 _ 클래스로 이름 만들기"
   ]
  },
  {
   "cell_type": "code",
   "execution_count": 4,
   "id": "4e9c68d7",
   "metadata": {},
   "outputs": [],
   "source": [
    "class Car:\n",
    "    name = 'bmw'"
   ]
  },
  {
   "cell_type": "code",
   "execution_count": 6,
   "id": "fc39623e",
   "metadata": {},
   "outputs": [
    {
     "data": {
      "text/plain": [
       "'bmw'"
      ]
     },
     "execution_count": 6,
     "metadata": {},
     "output_type": "execute_result"
    }
   ],
   "source": [
    "your_car = Car()\n",
    "your_car.name"
   ]
  },
  {
   "cell_type": "code",
   "execution_count": 8,
   "id": "d445d28e",
   "metadata": {},
   "outputs": [
    {
     "data": {
      "text/plain": [
       "'kia'"
      ]
     },
     "execution_count": 8,
     "metadata": {},
     "output_type": "execute_result"
    }
   ],
   "source": [
    "# 수정 가능\n",
    "your_car.name = 'kia'\n",
    "your_car.name"
   ]
  },
  {
   "cell_type": "markdown",
   "id": "231f5e35",
   "metadata": {},
   "source": [
    "<br>"
   ]
  },
  {
   "cell_type": "markdown",
   "id": "b6e27285",
   "metadata": {},
   "source": [
    "### upgrade 2 _ 커스터마이징 할 수 있게"
   ]
  },
  {
   "cell_type": "code",
   "execution_count": 10,
   "id": "6dda1e6e",
   "metadata": {},
   "outputs": [],
   "source": [
    "class Car:\n",
    "    def __init__(self, name):  # 속성 초기화 함수. 객체 만들 때 들어간 값으로 이름을 설정하고 싶을 때\n",
    "        self.name = name"
   ]
  },
  {
   "cell_type": "code",
   "execution_count": 12,
   "id": "fdad1f8d",
   "metadata": {
    "scrolled": true
   },
   "outputs": [
    {
     "ename": "TypeError",
     "evalue": "__init__() missing 1 required positional argument: 'name'",
     "output_type": "error",
     "traceback": [
      "\u001b[1;31m---------------------------------------------------------------------------\u001b[0m",
      "\u001b[1;31mTypeError\u001b[0m                                 Traceback (most recent call last)",
      "\u001b[1;32m~\\AppData\\Local\\Temp/ipykernel_14588/2899027660.py\u001b[0m in \u001b[0;36m<module>\u001b[1;34m\u001b[0m\n\u001b[1;32m----> 1\u001b[1;33m \u001b[0mher_car\u001b[0m \u001b[1;33m=\u001b[0m \u001b[0mCar\u001b[0m\u001b[1;33m(\u001b[0m\u001b[1;33m)\u001b[0m  \u001b[1;31m# 이름 안정하면 오류발생\u001b[0m\u001b[1;33m\u001b[0m\u001b[1;33m\u001b[0m\u001b[0m\n\u001b[0m",
      "\u001b[1;31mTypeError\u001b[0m: __init__() missing 1 required positional argument: 'name'"
     ]
    }
   ],
   "source": [
    "her_car = Car()  # 이름 안정하면 오류발생"
   ]
  },
  {
   "cell_type": "code",
   "execution_count": 13,
   "id": "d735f905",
   "metadata": {},
   "outputs": [],
   "source": [
    "her_car = Car(name='Hyundai')"
   ]
  },
  {
   "cell_type": "code",
   "execution_count": 14,
   "id": "21aae116",
   "metadata": {},
   "outputs": [
    {
     "data": {
      "text/plain": [
       "'Hyundai'"
      ]
     },
     "execution_count": 14,
     "metadata": {},
     "output_type": "execute_result"
    }
   ],
   "source": [
    "her_car.name"
   ]
  },
  {
   "cell_type": "markdown",
   "id": "8bf8865b",
   "metadata": {},
   "source": [
    "<br>"
   ]
  },
  {
   "cell_type": "markdown",
   "id": "8f7e962f",
   "metadata": {},
   "source": [
    "## 실습문제1"
   ]
  },
  {
   "cell_type": "code",
   "execution_count": 22,
   "id": "9c127cdb",
   "metadata": {},
   "outputs": [],
   "source": [
    "# 모델과 color 추가해서 보내기\n",
    "\n",
    "class Car:\n",
    "    def __init__(self, name, model, color):\n",
    "        self.name = name\n",
    "        self.color = color\n",
    "        \n",
    "my_car = Car(name = \"fancy car\", model = \"wow\", color = 'white')"
   ]
  },
  {
   "cell_type": "markdown",
   "id": "c92649c2",
   "metadata": {},
   "source": []
  },
  {
   "cell_type": "code",
   "execution_count": 23,
   "id": "e0ddae66",
   "metadata": {},
   "outputs": [],
   "source": [
    "# 이렇게 해도 순서대로 넣어 줌\n",
    "\n",
    "your_car = Car(\"fancy car\", \"wow\", 'white')"
   ]
  },
  {
   "cell_type": "code",
   "execution_count": 26,
   "id": "b792d2a8",
   "metadata": {},
   "outputs": [
    {
     "name": "stdout",
     "output_type": "stream",
     "text": [
      "차가 갑니다.\n"
     ]
    }
   ],
   "source": [
    "class Car:\n",
    "    def __init__(self, name, model, color):\n",
    "        self.name = name\n",
    "        self.color = color\n",
    "        \n",
    "    def drive(self):\n",
    "        print('차가 갑니다.')\n",
    "        \n",
    "    def stop(self):\n",
    "        print('차가 섭니다.')\n",
    "        \n",
    "car2 = Car('Kia', 'SM6', 'black')\n",
    "car2.drive()"
   ]
  },
  {
   "cell_type": "code",
   "execution_count": 2,
   "id": "7114622e",
   "metadata": {},
   "outputs": [
    {
     "name": "stdout",
     "output_type": "stream",
     "text": [
      "black\n",
      "white\n"
     ]
    }
   ],
   "source": [
    "# 수정 1 _ drive 시 브랜드 이름 들어가게\n",
    "# 수정 2 _ change color 호출 시 gray로 바뀌게\n",
    "# 수정 3 _ color를 받아서 그 color로 바꾸게 \n",
    "# 수정 4 _ color에 들어오면 그 값으로 설정, 아니면 'black'으로\n",
    "# 수정 5 _ model을 생성할 때 안넣어도 되게 생성하기\n",
    "\n",
    "class Car:\n",
    "    def __init__(self, name, model=None, color='black'):\n",
    "        self.name = name\n",
    "        self.color = color\n",
    "        \n",
    "    def drive(self):\n",
    "        print(f'{self.name} 차가 갑니다.')\n",
    "        \n",
    "    def stop(self):\n",
    "        print('차가 섭니다.')\n",
    "        \n",
    "    def change_color(self, color):\n",
    "        self.color = color\n",
    "        \n",
    "car2 = Car('Kia')\n",
    "print(car2.color)\n",
    "car2.change_color('white')\n",
    "print(car2.color)"
   ]
  },
  {
   "cell_type": "markdown",
   "id": "11efad18",
   "metadata": {},
   "source": [
    "<br>"
   ]
  },
  {
   "cell_type": "markdown",
   "id": "10cf03d1",
   "metadata": {},
   "source": [
    "<br>"
   ]
  },
  {
   "cell_type": "markdown",
   "id": "66b9d825",
   "metadata": {},
   "source": [
    "## 캡슐화, 정보 은닉\n",
    "- public => private\n",
    "- getter, setter"
   ]
  },
  {
   "cell_type": "code",
   "execution_count": 3,
   "id": "aaabf882",
   "metadata": {},
   "outputs": [
    {
     "data": {
      "text/plain": [
       "'red'"
      ]
     },
     "execution_count": 3,
     "metadata": {},
     "output_type": "execute_result"
    }
   ],
   "source": [
    "class Fruit:\n",
    "    color = 'red'\n",
    "    \n",
    "kiwi = Fruit()\n",
    "kiwi.color"
   ]
  },
  {
   "cell_type": "code",
   "execution_count": 4,
   "id": "ec9a0a1d",
   "metadata": {},
   "outputs": [],
   "source": [
    "Fruit.color = 'black'"
   ]
  },
  {
   "cell_type": "code",
   "execution_count": 5,
   "id": "e3511bda",
   "metadata": {},
   "outputs": [
    {
     "data": {
      "text/plain": [
       "'black'"
      ]
     },
     "execution_count": 5,
     "metadata": {},
     "output_type": "execute_result"
    }
   ],
   "source": [
    "# 갑자기 컬러가 블랙으로 확 바뀜!\n",
    "\n",
    "apple = Fruit()\n",
    "apple.color"
   ]
  },
  {
   "cell_type": "markdown",
   "id": "df29a279",
   "metadata": {},
   "source": [
    "<br>"
   ]
  },
  {
   "cell_type": "markdown",
   "id": "d15dbab2",
   "metadata": {},
   "source": [
    "### 감추기"
   ]
  },
  {
   "cell_type": "code",
   "execution_count": 9,
   "id": "f25c84a3",
   "metadata": {},
   "outputs": [
    {
     "data": {
      "text/plain": [
       "'name_1'"
      ]
     },
     "execution_count": 9,
     "metadata": {},
     "output_type": "execute_result"
    }
   ],
   "source": [
    "class Car:\n",
    "    def __init__(self, input_name):\n",
    "        self.hidden_name = input_name\n",
    "    \n",
    "    def get_name(self):\n",
    "        # 클래스 변수를 반환\n",
    "        return self.hidden_name\n",
    "    \n",
    "    def set_name(self, input_name):\n",
    "        self.name = input_name\n",
    "        \n",
    "    name = property(get_name, set_name)\n",
    "    \n",
    "d = Car('name_1')\n",
    "d.name"
   ]
  },
  {
   "cell_type": "markdown",
   "id": "50a4765d",
   "metadata": {},
   "source": [
    "<br>"
   ]
  },
  {
   "cell_type": "markdown",
   "id": "ec99c3a2",
   "metadata": {},
   "source": [
    "### decorator @ 활용으로 감추기"
   ]
  },
  {
   "cell_type": "code",
   "execution_count": 11,
   "id": "5eb35feb",
   "metadata": {},
   "outputs": [],
   "source": [
    "class Car:\n",
    "    def __init__(self, input_name):\n",
    "        self.hidden_name = input_name\n",
    "    \n",
    "    @property\n",
    "    def name(self):\n",
    "        # 클래스 변수를 반환\n",
    "        return self.hidden_name\n",
    "    \n",
    "    @name.setter\n",
    "    def name(self, input_name):\n",
    "        self.hidden_name = input_name"
   ]
  },
  {
   "cell_type": "code",
   "execution_count": 12,
   "id": "5ca7fc95",
   "metadata": {},
   "outputs": [
    {
     "data": {
      "text/plain": [
       "'name a'"
      ]
     },
     "execution_count": 12,
     "metadata": {},
     "output_type": "execute_result"
    }
   ],
   "source": [
    "e = Car('name a')\n",
    "e.name"
   ]
  },
  {
   "cell_type": "code",
   "execution_count": 13,
   "id": "4244beba",
   "metadata": {},
   "outputs": [
    {
     "data": {
      "text/plain": [
       "'name a'"
      ]
     },
     "execution_count": 13,
     "metadata": {},
     "output_type": "execute_result"
    }
   ],
   "source": [
    "e.hidden_name"
   ]
  },
  {
   "cell_type": "markdown",
   "id": "71edef25",
   "metadata": {},
   "source": [
    "<br>"
   ]
  },
  {
   "cell_type": "markdown",
   "id": "48771e3b",
   "metadata": {},
   "source": [
    "### 완전가리고 싶을 때"
   ]
  },
  {
   "cell_type": "code",
   "execution_count": 17,
   "id": "09068639",
   "metadata": {},
   "outputs": [],
   "source": [
    "class Car:\n",
    "    def __init__(self, input_name):\n",
    "        self.__name = input_name\n",
    "    \n",
    "    @property\n",
    "    def name(self):\n",
    "        # 클래스 변수를 반환\n",
    "        return self.__name\n",
    "    \n",
    "    @name.setter\n",
    "    def name(self, input_name):\n",
    "        self.__name = input_name"
   ]
  },
  {
   "cell_type": "code",
   "execution_count": 18,
   "id": "7ddbe8f1",
   "metadata": {},
   "outputs": [
    {
     "data": {
      "text/plain": [
       "'name a'"
      ]
     },
     "execution_count": 18,
     "metadata": {},
     "output_type": "execute_result"
    }
   ],
   "source": [
    "e = Car('name a')\n",
    "e.name"
   ]
  },
  {
   "cell_type": "markdown",
   "id": "98b0c973",
   "metadata": {},
   "source": [
    "<br>"
   ]
  },
  {
   "cell_type": "code",
   "execution_count": 23,
   "id": "a2640cbb",
   "metadata": {
    "scrolled": true
   },
   "outputs": [
    {
     "data": {
      "text/plain": [
       "10"
      ]
     },
     "execution_count": 23,
     "metadata": {},
     "output_type": "execute_result"
    }
   ],
   "source": [
    "class Circle:\n",
    "    def __init__(self, radius):\n",
    "        self.radius = radius\n",
    "        \n",
    "    @property\n",
    "    def parameter(self):\n",
    "        return self.radius * 2\n",
    "\n",
    "# property 알아서 실행\n",
    "\n",
    "ex = Circle(5)\n",
    "ex.parameter "
   ]
  },
  {
   "cell_type": "markdown",
   "id": "3c3cff2d",
   "metadata": {},
   "source": [
    "<br>"
   ]
  },
  {
   "cell_type": "markdown",
   "id": "9fdc2135",
   "metadata": {},
   "source": [
    "<br>"
   ]
  },
  {
   "cell_type": "markdown",
   "id": "89d4d2db",
   "metadata": {},
   "source": [
    "## get, set\n",
    "- getter: 클래스 내 객체 변수 반환\n",
    "- setter: ==변수 설정"
   ]
  },
  {
   "cell_type": "code",
   "execution_count": 6,
   "id": "a05b60f9",
   "metadata": {},
   "outputs": [
    {
     "data": {
      "text/plain": [
       "'name1'"
      ]
     },
     "execution_count": 6,
     "metadata": {},
     "output_type": "execute_result"
    }
   ],
   "source": [
    "class Car:\n",
    "    def __init__(self, input_name):\n",
    "        self.name = input_name\n",
    "    \n",
    "    def get_name(self):\n",
    "        # 클래스 변수를 반환\n",
    "        return self.name\n",
    "    \n",
    "    def set_name(self, input_name):\n",
    "        self.name = input_name\n",
    "        \n",
    "c = Car('name1')\n",
    "c.get_name()"
   ]
  },
  {
   "cell_type": "code",
   "execution_count": 7,
   "id": "ef7320b2",
   "metadata": {},
   "outputs": [
    {
     "data": {
      "text/plain": [
       "'name2'"
      ]
     },
     "execution_count": 7,
     "metadata": {},
     "output_type": "execute_result"
    }
   ],
   "source": [
    "c.set_name('name2')\n",
    "c.name"
   ]
  },
  {
   "cell_type": "code",
   "execution_count": 8,
   "id": "b801ba67",
   "metadata": {},
   "outputs": [
    {
     "data": {
      "text/plain": [
       "'name3'"
      ]
     },
     "execution_count": 8,
     "metadata": {},
     "output_type": "execute_result"
    }
   ],
   "source": [
    "c.name = 'name3'\n",
    "c.name"
   ]
  },
  {
   "cell_type": "markdown",
   "id": "44e92358",
   "metadata": {},
   "source": [
    "<br>"
   ]
  },
  {
   "cell_type": "markdown",
   "id": "51df5bf7",
   "metadata": {},
   "source": [
    "## 실습문제2\n",
    "- 클래스는 두 개 \n",
    "- 메모장, 메모 구현하기\n",
    "- 메모장\n",
    "    - 속성: 제목, 페이지번호, 메모\n",
    "    - 행동: 메모 추가하다, 메모 삭제하다. 페이지번호 확인하다\n",
    "- 메모\n",
    "    - 속성: 글귀\n",
    "    - 행동: 쓰다, 지우다\n",
    "- 행동\n",
    "    - 메모 쓴다\n",
    "    - 메모장에 추가한다\n",
    "    - 메모장 추가한만큼 페이지 번호 늘어난다\n",
    "    - 메모장 줄어든만큼 페이지 번호 줄어든다\n",
    "    - 메모장 > 제목만 은닉시킨다"
   ]
  },
  {
   "cell_type": "code",
   "execution_count": 26,
   "id": "5f9b3b4d",
   "metadata": {},
   "outputs": [
    {
     "data": {
      "text/plain": [
       "['우리 모두 스스로가 원하는 리더가 됩시다.',\n",
       " '모두가 함께 앞으로 나아가면 성공은 저절로 따라옵니다.',\n",
       " '혼자서는 작은 한 방울이지만 함께 모이면 바다를 이룹니다.']"
      ]
     },
     "execution_count": 26,
     "metadata": {},
     "output_type": "execute_result"
    }
   ],
   "source": [
    "class Notebook:\n",
    "    def __init__(self, title, page_num=None, memo=[]):\n",
    "        self.__title = title\n",
    "        self.page_num = None\n",
    "        self.memo = []\n",
    "        \n",
    "    @property\n",
    "    def title(self):\n",
    "        return self.__title\n",
    "    \n",
    "    @title.setter\n",
    "    def title(self, title):\n",
    "        self.__title = title\n",
    "        \n",
    "    def memo_append(self, memo_input):\n",
    "        self.memo.append(memo_input)\n",
    "        \n",
    "    def memo_remove(self,remove_number):\n",
    "        del self.memo[remove_number-1]\n",
    "        \n",
    "    def page_num_update(self):\n",
    "        \n",
    "        \n",
    "    \n",
    "class Note:\n",
    "    def __init__(self, data = None):\n",
    "        self.data = [] \n",
    "    \n",
    "    def write(self, line):\n",
    "        self.data.append(line)\n",
    "    \n",
    "    def remove(self, num):\n",
    "        del self.data[num-1]"
   ]
  },
  {
   "cell_type": "code",
   "execution_count": null,
   "id": "71201617",
   "metadata": {},
   "outputs": [],
   "source": [
    "# 사용\n",
    "line1 = '우리 모두 스스로가 원하는 리더가 됩시다.'\n",
    "line2 = '모두가 함께 앞으로 나아가면 성공은 저절로 따라옵니다.'\n",
    "line3 = '혼자서는 작은 한 방울이지만 함께 모이면 바다를 이룹니다.'\n",
    "\n",
    "# 메모 추가\n",
    "my_note = Note()\n",
    "my_note.write(line1)\n",
    "my_note.write(line2)\n",
    "my_note.write(line3)\n",
    "\n",
    "# 메모장에 추가\n",
    "my_book = Notebook()\n",
    "my_book.add_note(my_note)\n",
    "\n",
    "# 페이지 번호 확인\n",
    "my_book.check_page()\n",
    "\n",
    "# memo.__title"
   ]
  }
 ],
 "metadata": {
  "kernelspec": {
   "display_name": "Python 3 (ipykernel)",
   "language": "python",
   "name": "python3"
  },
  "language_info": {
   "codemirror_mode": {
    "name": "ipython",
    "version": 3
   },
   "file_extension": ".py",
   "mimetype": "text/x-python",
   "name": "python",
   "nbconvert_exporter": "python",
   "pygments_lexer": "ipython3",
   "version": "3.9.7"
  }
 },
 "nbformat": 4,
 "nbformat_minor": 5
}
