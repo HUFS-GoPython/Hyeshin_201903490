{
 "cells": [
  {
   "cell_type": "markdown",
   "id": "341a781a",
   "metadata": {},
   "source": [
    "# week_02"
   ]
  },
  {
   "cell_type": "markdown",
   "id": "d0438023",
   "metadata": {},
   "source": [
    "<br>"
   ]
  },
  {
   "cell_type": "markdown",
   "id": "08ccf693",
   "metadata": {},
   "source": [
    "## <b> Ch02. 데이터: 타입, 값, 변수, 이름 </b>\n",
    "\n",
    "### 타입\n",
    "- 문자열(string), 부동소수점/실수(float), 정수(int), 불리언(bool) 등"
   ]
  },
  {
   "cell_type": "markdown",
   "id": "56c1650c",
   "metadata": {},
   "source": [
    "### 할당\n",
    "- 여러 변수명에 동시에 할당 가능\n",
    "- 동시 할당 시 동일한 메모리 주소값을 가짐"
   ]
  },
  {
   "cell_type": "code",
   "execution_count": 1,
   "id": "9d33e58a",
   "metadata": {},
   "outputs": [
    {
     "name": "stdout",
     "output_type": "stream",
     "text": [
      "2 1786738534736\n",
      "2 1786738534736\n",
      "2 1786738534736\n"
     ]
    }
   ],
   "source": [
    "# 동시 할당 예시\n",
    "\n",
    "two = deux = dos = 2   # dos -> deux -> two 순으로 할당됨\n",
    "print(two, id(two))\n",
    "print(deux, id(deux))\n",
    "print(dos, id(dos))    # 메모리 주소값 모두 동일"
   ]
  },
  {
   "cell_type": "markdown",
   "id": "f0fec891",
   "metadata": {},
   "source": [
    "<br>"
   ]
  },
  {
   "cell_type": "markdown",
   "id": "a8b03e98",
   "metadata": {},
   "source": [
    "\n",
    "### 불변객체\n",
    "- 객체에 할당된 값 수정 불가\n",
    "- 새로운 값을 할당 받을 시 새로운 메모리 주소를 부여받음\n",
    "- 예시 : 정수(int)"
   ]
  },
  {
   "cell_type": "code",
   "execution_count": 3,
   "id": "d1a1d367",
   "metadata": {},
   "outputs": [
    {
     "name": "stdout",
     "output_type": "stream",
     "text": [
      "4 1786738534800\n",
      "2 1786738534736\n",
      "2 1786738534736\n"
     ]
    }
   ],
   "source": [
    "# 불변 객체 예시 \n",
    "\n",
    "two = 4                # 새로운 값(4) 할당 받음\n",
    "print(two, id(two))    # 새로운 메모리 주소 부여 받음\n",
    "print(deux, id(deux))  # int는 불변객체이므로 값 불변, deux는 여전히 2\n",
    "print(dos, id(dos))    # int는 불변객체이므로 값 불변, dos는 여전히 2"
   ]
  },
  {
   "cell_type": "markdown",
   "id": "62a995b0",
   "metadata": {},
   "source": [
    "<br>"
   ]
  },
  {
   "cell_type": "markdown",
   "id": "68e85680",
   "metadata": {},
   "source": [
    "### 가변객체\n",
    "- 객체에 할당된 값 수정 가능\n",
    "- 새로운 값 할당 받을 시에도 메모리 주소 변동 없음\n",
    "- 예시 : 리스트(list)"
   ]
  },
  {
   "cell_type": "code",
   "execution_count": 5,
   "id": "d346a097",
   "metadata": {},
   "outputs": [
    {
     "name": "stdout",
     "output_type": "stream",
     "text": [
      "[1, 2, 3] 1786853699840\n",
      "[1, 2, 3] 1786853699840\n",
      "\n",
      "[5, 2, 3] 1786853699840\n",
      "[5, 2, 3] 1786853699840\n"
     ]
    }
   ],
   "source": [
    "# 가변 객체 예시\n",
    "\n",
    "list1 = list2 = [1,2,3]   # 동일한 값 할당\n",
    "print(list1, id(list1))   # 메모리 주소 동일\n",
    "print(list2, id(list2))\n",
    "print()\n",
    "\n",
    "list2[0] = 5              # 새로운 값 할당\n",
    "print(list1, id(list1))   # 리스트 값이 변경됨\n",
    "print(list2, id(list2))   # 메모리 주소는 여전히 동일"
   ]
  },
  {
   "cell_type": "markdown",
   "id": "e5b15cd5",
   "metadata": {},
   "source": [
    "<br>"
   ]
  },
  {
   "cell_type": "markdown",
   "id": "e30df388",
   "metadata": {},
   "source": [
    "### 좋은 변수명\n",
    "- 간결하고 명확한 이름\n",
    "- 의미가 담겨야 함\n",
    "ex) The number of students => num_students로\n",
    "- 카멜 표기법 ex) numStudents ***java에서 많이 쓰는 방식\n"
   ]
  },
  {
   "cell_type": "markdown",
   "id": "d8618945",
   "metadata": {},
   "source": [
    "### 자료형 변환\n",
    "\n",
    "- <b>원하는 타입(변환할 값)</b>의 형식을 사용하여 변환 ex) <b>str(a)</b>\n",
    "- 주의할 점\n",
    "    1. float이 int로 바뀔 때는 소수점 뒤가 내림으로 생략된다.\n",
    "    2. float형을 int로 바꾸려 하면 에러가 발생한다"
   ]
  },
  {
   "cell_type": "code",
   "execution_count": 7,
   "id": "96f5a41a",
   "metadata": {},
   "outputs": [
    {
     "name": "stdout",
     "output_type": "stream",
     "text": [
      "<class 'int'>\n",
      "\n",
      "10 <class 'int'>\n",
      "10.0 <class 'int'>\n",
      "True <class 'int'>\n"
     ]
    }
   ],
   "source": [
    "# 자료형 변환 예시\n",
    "\n",
    "a = 10               # 현재 자료형은 정수\n",
    "print(type(a))\n",
    "print()\n",
    "\n",
    "print(str(a), type(a))   # 문자열 타입으로 변환\n",
    "print(float(a), type(a))  # 부동소수점 타입으로 변환\n",
    "print(bool(a), type(a))  # 불리언 타입으로 변환 ***0, None 등의 값은 False로 나옴\n"
   ]
  },
  {
   "cell_type": "code",
   "execution_count": 13,
   "id": "3be2caf1",
   "metadata": {},
   "outputs": [
    {
     "name": "stdout",
     "output_type": "stream",
     "text": [
      "30\n",
      "29\n"
     ]
    }
   ],
   "source": [
    "# 주의할 점 1번 예시\n",
    "\n",
    "x = 10.7 ; y = 19.8\n",
    "\n",
    "print(int(x+y))            \n",
    "print(int(x) + int(y))  # 각각의 값이 정수 타입으로 바뀌면서 소수점 뒤는 내림으로 생략됨, int(x+y)와 다른 결과값 나옴"
   ]
  },
  {
   "cell_type": "code",
   "execution_count": 15,
   "id": "37e1fea9",
   "metadata": {},
   "outputs": [
    {
     "name": "stdout",
     "output_type": "stream",
     "text": [
      "10.7\n"
     ]
    },
    {
     "ename": "ValueError",
     "evalue": "invalid literal for int() with base 10: '10.7'",
     "output_type": "error",
     "traceback": [
      "\u001b[1;31m---------------------------------------------------------------------------\u001b[0m",
      "\u001b[1;31mValueError\u001b[0m                                Traceback (most recent call last)",
      "\u001b[1;32m~\\AppData\\Local\\Temp/ipykernel_19212/3768207391.py\u001b[0m in \u001b[0;36m<module>\u001b[1;34m\u001b[0m\n\u001b[0;32m      4\u001b[0m \u001b[1;33m\u001b[0m\u001b[0m\n\u001b[0;32m      5\u001b[0m \u001b[0mprint\u001b[0m\u001b[1;33m(\u001b[0m\u001b[0mfloat\u001b[0m\u001b[1;33m(\u001b[0m\u001b[0mnum\u001b[0m\u001b[1;33m)\u001b[0m\u001b[1;33m)\u001b[0m\u001b[1;33m\u001b[0m\u001b[1;33m\u001b[0m\u001b[0m\n\u001b[1;32m----> 6\u001b[1;33m \u001b[0mprint\u001b[0m\u001b[1;33m(\u001b[0m\u001b[0mint\u001b[0m\u001b[1;33m(\u001b[0m\u001b[0mnum\u001b[0m\u001b[1;33m)\u001b[0m\u001b[1;33m)\u001b[0m   \u001b[1;31m# float으로 추정되는 문자열을 int로 바꾸려 했으므로 변환 시 에러 발생\u001b[0m\u001b[1;33m\u001b[0m\u001b[1;33m\u001b[0m\u001b[0m\n\u001b[0m",
      "\u001b[1;31mValueError\u001b[0m: invalid literal for int() with base 10: '10.7'"
     ]
    }
   ],
   "source": [
    "# 주의할 점 2번 예시\n",
    "\n",
    "num = '10.7'\n",
    "\n",
    "print(float(num))\n",
    "print(int(num))   # float으로 추정되는 문자열을 int로 바꾸려 했으므로 변환 시 에러 발생 "
   ]
  },
  {
   "cell_type": "markdown",
   "id": "6b490918",
   "metadata": {},
   "source": [
    "<br>"
   ]
  },
  {
   "cell_type": "markdown",
   "id": "2cd93843",
   "metadata": {},
   "source": [
    "### print() 활용"
   ]
  },
  {
   "cell_type": "code",
   "execution_count": 20,
   "id": "a12c752f",
   "metadata": {},
   "outputs": [
    {
     "name": "stdout",
     "output_type": "stream",
     "text": [
      "dog cat lion\n"
     ]
    }
   ],
   "source": [
    "# 공백 있게 출력\n",
    "\n",
    "dog = 'dog' ; cat = 'cat' ; lion = 'lion'\n",
    "print(dog, cat, lion)                      # ','을 활용하면 띄어쓰기 있게 출력됨"
   ]
  },
  {
   "cell_type": "code",
   "execution_count": 26,
   "id": "4540748a",
   "metadata": {},
   "outputs": [
    {
     "name": "stdout",
     "output_type": "stream",
     "text": [
      "dog/cat/lion\n",
      "\n",
      "The end\n"
     ]
    }
   ],
   "source": [
    "# sep 값과 end 값 설정하기\n",
    "\n",
    "print(dog, cat, lion, sep='/', end='\\n\\n') # 공백 대신에 '/'가 들어가고 문장이 끝나면 2줄이 띄어짐\n",
    "print('The end')"
   ]
  },
  {
   "cell_type": "code",
   "execution_count": 27,
   "id": "fadbd75e",
   "metadata": {},
   "outputs": [
    {
     "name": "stdout",
     "output_type": "stream",
     "text": [
      "My fav animal is dog.\n"
     ]
    }
   ],
   "source": [
    "# 문자열 포맷팅\n",
    "\n",
    "print(f'My fav animal is {dog}.')  # f'{}'형식을 사용하면 변수를 프린트하기 용이함"
   ]
  },
  {
   "cell_type": "markdown",
   "id": "09e2cdbc",
   "metadata": {},
   "source": [
    "<br>"
   ]
  },
  {
   "cell_type": "markdown",
   "id": "54fe5144",
   "metadata": {},
   "source": [
    "### input() \n",
    "- 콘솔에서 사용자가 입력하는 값을 받을 수 있는 함수\n",
    "- 입력 받는 값은 문자열로 인식 됨\n",
    "- 입력 받은 값은 변수에 할당하여 사용함\n",
    "- 숫자를 입력받고 싶은 경우 형 변환하여 사용함"
   ]
  },
  {
   "cell_type": "markdown",
   "id": "5287a592",
   "metadata": {},
   "source": [
    "<br>"
   ]
  },
  {
   "cell_type": "markdown",
   "id": "0e7e2d43",
   "metadata": {},
   "source": [
    "## <b>Quiz.1</b>\n",
    "- 섭씨를 입력 받아 화씨로 변환하기\n",
    "- 섭씨 * 1.8 + 32 = 화씨"
   ]
  },
  {
   "cell_type": "code",
   "execution_count": 29,
   "id": "33f57077",
   "metadata": {},
   "outputs": [
    {
     "name": "stdout",
     "output_type": "stream",
     "text": [
      "섭씨를 입력해주세요: 22\n",
      "화씨는 71.6도 입니다.\n"
     ]
    }
   ],
   "source": [
    "# Quiz.1 풀이\n",
    "\n",
    "celsius = float(input('섭씨를 입력해주세요: '))\n",
    "fahrenheit = celsius * 1.8 + 32\n",
    "print(f\"화씨는 {fahrenheit}도 입니다.\")"
   ]
  },
  {
   "cell_type": "markdown",
   "id": "b4829584",
   "metadata": {},
   "source": [
    "## <b>Quiz.2</b>\n",
    "- 택배 정보 입력 받고(이름, 주소, 무게), 총 합계 계산하기\n",
    "- 출력값:<br><br>\n",
    "    ==택배 정보== <br>\n",
    "    수취인 성명:<br>\n",
    "    수취인 주소: <br>\n",
    "    배송비: 3000원 <br>\n",
    "    물건 비용: 원 <br>\n",
    "    총 합계: 원 <br> <br>\n",
    "- 물건 비용 = 무게(g) * 5\n",
    "- 합계 = 배송비 + 물건 비용"
   ]
  },
  {
   "cell_type": "code",
   "execution_count": 31,
   "id": "c73fac6c",
   "metadata": {},
   "outputs": [
    {
     "name": "stdout",
     "output_type": "stream",
     "text": [
      "수취인 성명을 입력해주세요: 진혜신\n",
      "수취인의 주소를 입력해주세요: 동대문구\n",
      "물건의 무게(g단위)를 입력해주세요: 130\n",
      "\n",
      "==택배정보==\n",
      "수취인 성명: <진혜신>\n",
      "수취인 주소: <동대문구>\n",
      "배송비: 3000원\n",
      "물건 비용: <650.0>원\n",
      "총합계: <3650.0>원\n"
     ]
    }
   ],
   "source": [
    "# Quiz.2 풀이\n",
    "\n",
    "name = input('수취인 성명을 입력해주세요: ')\n",
    "address = input('수취인의 주소를 입력해주세요: ')\n",
    "weight = float(input('물건의 무게(g단위)를 입력해주세요: '))\n",
    "delivery_cost = 3000\n",
    "package_cost = weight * 5\n",
    "total_cost = delivery_cost + package_cost\n",
    "\n",
    "print()\n",
    "print(f\"==택배정보==\")\n",
    "print(f\"수취인 성명: <{name}>\")\n",
    "print(f\"수취인 주소: <{address}>\")\n",
    "print(f\"배송비: {delivery_cost}원\")\n",
    "print(f\"물건 비용: <{package_cost}>원\")\n",
    "print(f\"총합계: <{total_cost}>원\")"
   ]
  },
  {
   "cell_type": "markdown",
   "id": "ce0b4a0b",
   "metadata": {},
   "source": [
    "<br>"
   ]
  },
  {
   "cell_type": "markdown",
   "id": "a69e3e66",
   "metadata": {},
   "source": [
    "## <b>Ch03. 숫자</b>\n",
    "\n",
    "### Boolean\n",
    "- 1은 true, 0은 false \n",
    "- '', None, 0 등이 false임\n",
    "\n",
    "### Integer\n",
    "- 소수점이 없음\n",
    "- default는 양수, 음수는 앞에 '-'을 붙여서 표현함\n",
    "- 숫자 앞에는 0을 붙일 수 없음 ex) 05 ***다른 진수 표현시에는 예외적으로 0이 앞에 갈수도 있음\n",
    "- 중간에 공백이 많아도 무시 됨 ex) a = -9 + 8 &nbsp;&nbsp;&nbsp;&nbsp;&nbsp; -3\n",
    "- 숫자 사이에 ','을 쓰면 서로 분리된 것으로 인식함 ex) 10,000 => 10와 000으로 인식\n",
    "- 숫자 사이의 언더바는 무시 됨 ex) a = 10_000 ***a는 10000으로 출력됨"
   ]
  },
  {
   "cell_type": "markdown",
   "id": "a5752b99",
   "metadata": {},
   "source": [
    "### 연산 요소\n",
    "\n",
    "- 연산자(operator)\n",
    "- 피연산자(operand)\n",
    "- 수식(expression)"
   ]
  },
  {
   "cell_type": "code",
   "execution_count": 42,
   "id": "8279a3b2",
   "metadata": {},
   "outputs": [
    {
     "name": "stdout",
     "output_type": "stream",
     "text": [
      "15\n",
      "5\n",
      "2.0\n",
      "50\n",
      "\n",
      "8\n",
      "5\n",
      "1.6666666666666667\n",
      "5.0\n",
      "\n",
      "False\n",
      "False\n",
      "True\n",
      "True\n",
      "False\n",
      "True\n",
      "False\n",
      "True\n",
      "\n",
      "False\n",
      "True\n",
      "True\n",
      "True\n",
      "\n",
      "100000\n"
     ]
    }
   ],
   "source": [
    "# 할당 연산자 '='\n",
    "\n",
    "num1 = 10\n",
    "num2 = 5\n",
    "\n",
    "\n",
    "# 산술 연산자 '+,-,/,*'\n",
    "\n",
    "print(num1 + num2) #더하기\n",
    "print(num1 - num2) #빼기\n",
    "print(num1 / num2) #나누기\n",
    "print(num1 * num2) #곱하기\n",
    "print()\n",
    "\n",
    "\n",
    "# 복합대입 연산자 '+=, -=, /=, *='\n",
    "\n",
    "a = 5\n",
    "\n",
    "a += 3 ; print(a)     # a = a+3 이라는 뜻 \n",
    "                      # 1) a + 3 계산 (2) 임시변수 temp = a + 3 입력 (3) a = a + 3\n",
    "a -= 3 ; print(a)    \n",
    "\n",
    "a /= 3 ; print(a)\n",
    "\n",
    "a *= 3 ; print(a)\n",
    "\n",
    "print()\n",
    "\n",
    "\n",
    "# 비교 연산자 '<, <=, >, >=, ==, !=, is, is not'\n",
    "\n",
    "print(num1 < num2)   # 작다\n",
    "print(num1 <= num2)  # 같거나 작다\n",
    "print(num1 > num2)   # 크다\n",
    "print(num1 >= num2)  # 같거나 크다\n",
    "print(num1 == num2)  # 같다\n",
    "print(num1 != num2)  # 같지 않다\n",
    "print(num1 is num2)  # 값과 메모리 주소가 같다\n",
    "print(num1 is not num2)  #값과 메모리 주소가 다르다\n",
    "print()\n",
    "\n",
    "\n",
    "#논리 연산자 'and(&), or(|), not'\n",
    "\n",
    "print(10 < num2 < 20)            # 여러 조건식 비교할 때 논리 연산자 사용, 옆의 예시는 파이썬에서만 가능한 표현\n",
    "print(num1 == 10 and num2 == 5) # 둘 다 참일 때 참\n",
    "print(num1 > 10 or num2 < 10)   # 둘 중 하나가 참이면 참\n",
    "print(not num1 == 5)            # True면 False, False면 True 반환\n",
    "print()\n",
    "\n",
    "\n",
    "# 거듭제곱 '**'\n",
    "\n",
    "print(num1 ** num2) #거듭제곱"
   ]
  },
  {
   "cell_type": "markdown",
   "id": "7b756ee3",
   "metadata": {},
   "source": [
    "<br>"
   ]
  },
  {
   "cell_type": "markdown",
   "id": "09ad7a24",
   "metadata": {},
   "source": [
    "### 나누기 주의사항\n",
    "- division by zero ***0으로 나눌 수 없음, x/y => y!=0\n",
    "- 몫 출력은 x // y, 나머지 출력은 x % y\n",
    "- divmod(x,y) 하면 몫, 나머지 출력됨"
   ]
  },
  {
   "cell_type": "markdown",
   "id": "02280187",
   "metadata": {},
   "source": [
    "### 지수표현\n",
    "- e,E를 사용\n",
    "- e의 앞 부분은 float혹은 int, 뒷 부분은 int만 옴\n",
    "- e 뒷 부분이 양수면 0 앞으로 가고, 음수면 0 뒤로 감(소수점)"
   ]
  },
  {
   "cell_type": "code",
   "execution_count": 37,
   "id": "fc1bbb6f",
   "metadata": {},
   "outputs": [
    {
     "name": "stdout",
     "output_type": "stream",
     "text": [
      "1000000.0\n"
     ]
    }
   ],
   "source": [
    "print(1.0e6)  # 뒷 부분이 양수이므로 0 앞으로 감"
   ]
  },
  {
   "cell_type": "code",
   "execution_count": 39,
   "id": "13ce7a07",
   "metadata": {},
   "outputs": [
    {
     "name": "stdout",
     "output_type": "stream",
     "text": [
      "0.001\n"
     ]
    }
   ],
   "source": [
    "print(1.0e-3)  #뒷 부분이 음수이므로 0 뒤로 감"
   ]
  },
  {
   "cell_type": "markdown",
   "id": "f5bebcb1",
   "metadata": {},
   "source": [
    "<br>"
   ]
  },
  {
   "cell_type": "markdown",
   "id": "ff699869",
   "metadata": {},
   "source": [
    "## <b>Quiz.3</b>\n",
    "- 정수를 입력 받고 3의 배수 여부, 홀수 여부를 확인해보기"
   ]
  },
  {
   "cell_type": "code",
   "execution_count": 1,
   "id": "d15b4816",
   "metadata": {},
   "outputs": [
    {
     "name": "stdout",
     "output_type": "stream",
     "text": [
      "정수를 입력하세요: 10\n",
      "False\n",
      "True\n"
     ]
    }
   ],
   "source": [
    "# Quiz.3 풀이\n",
    "\n",
    "num = int(input('정수를 입력하세요: '))\n",
    "print(num % 3 == 0) #3의 배수 여부 확인\n",
    "print(num % 2 == 0) #홀수 여부 확인"
   ]
  },
  {
   "cell_type": "markdown",
   "id": "15e8fb8d",
   "metadata": {},
   "source": [
    "<br>"
   ]
  },
  {
   "cell_type": "markdown",
   "id": "2720cdc5",
   "metadata": {},
   "source": [
    "## <b> Ch04. 선택하기: if</b>\n",
    "### if문\n",
    "\n",
    "- 3개의 종류가 있음\n",
    "    - 조건 1개 if\n",
    "    - 조건 2개 if~else \n",
    "    - 조건 3개 if~elif~else"
   ]
  },
  {
   "cell_type": "code",
   "execution_count": 45,
   "id": "1363bbb8",
   "metadata": {},
   "outputs": [
    {
     "name": "stdout",
     "output_type": "stream",
     "text": [
      "조건 1개\n",
      "3 > 2 참일 시 실행, 조건 2개\n",
      "num == 10 참일 시 실행, 조건 3개\n"
     ]
    }
   ],
   "source": [
    "# 조건 1개\n",
    "\n",
    "if 2 > 1:\n",
    "    print('조건 1개')\n",
    " \n",
    " \n",
    "# 조건 2개\n",
    "\n",
    "if 3 > 2 :\n",
    "    print('3 > 2 참일 시 실행, 조건 2개')\n",
    "else :\n",
    "    print('3 > 2 거짓일 시 실행, 조건 2개')\n",
    "    \n",
    "    \n",
    "# 조건 3개\n",
    "\n",
    "num = 10\n",
    "if num > 10 :\n",
    "    print('num > 10 참일 시 실행, 조건 3개')\n",
    "elif num == 10 :\n",
    "    print('num == 10 참일 시 실행, 조건 3개')\n",
    "else :\n",
    "    print('num > 10과 num == 10 모두 거짓일 시 실행, 조건 3개')"
   ]
  },
  {
   "cell_type": "markdown",
   "id": "8fdc216a",
   "metadata": {},
   "source": [
    "<br>"
   ]
  },
  {
   "cell_type": "markdown",
   "id": "ee80c399",
   "metadata": {},
   "source": [
    "## <b>Quiz.4</b>\n",
    "\n",
    "- 학점 주기\n",
    "- 학점을 입력 받아서\n",
    "    - 90점 이상이면 A\n",
    "    - 80점 이상이면 B\n",
    "    - 70점 이상이면 C\n",
    "    - 그외 D"
   ]
  },
  {
   "cell_type": "code",
   "execution_count": 2,
   "id": "22dab29f",
   "metadata": {},
   "outputs": [
    {
     "name": "stdout",
     "output_type": "stream",
     "text": [
      "점수를 입력해주세요: 80\n",
      "학점은 B입니다.\n"
     ]
    }
   ],
   "source": [
    "# Quiz.4 풀이\n",
    "\n",
    "score = int(input('점수를 입력해주세요: '))\n",
    "result = None\n",
    "\n",
    "if score >= 90:\n",
    "    result = 'A'\n",
    "elif score >= 80:\n",
    "    result = 'B'\n",
    "elif score >= 70:\n",
    "    result = 'C'\n",
    "else :\n",
    "    result = 'D'\n",
    "\n",
    "print(f\"학점은 {result}입니다.\")"
   ]
  },
  {
   "cell_type": "markdown",
   "id": "41791f37",
   "metadata": {},
   "source": [
    "## <b>Quiz.5</b>\n",
    "- 아이디와 비번 입력 받아서 둘다 일치하면 로그인하기\n",
    "- 아이디, 비번 각자 정해놓기\n",
    "- 일치하지 않을 때에는 창의적으로 어떤 걸로 반환하기"
   ]
  },
  {
   "cell_type": "code",
   "execution_count": 3,
   "id": "e9e5a754",
   "metadata": {},
   "outputs": [
    {
     "name": "stdout",
     "output_type": "stream",
     "text": [
      "ID를 입력해주세요: hi\n",
      "PW를 입력해주세요: bye\n",
      "로그인에 성공하였습니다.\n"
     ]
    }
   ],
   "source": [
    "# Quiz.5 풀이\n",
    "\n",
    "fixed_id = 'hi'\n",
    "fixed_pw = 'bye'\n",
    "\n",
    "your_id = input('ID를 입력해주세요: ')\n",
    "your_pw = input('PW를 입력해주세요: ')\n",
    "\n",
    "if your_id == fixed_id:\n",
    "    if your_pw == fixed_pw:\n",
    "        print('로그인에 성공하였습니다.')\n",
    "    else:\n",
    "        print('비밀번호가 일치하지 않습니다.')\n",
    "else :\n",
    "    print('존재하지 않는 아이디입니다.')"
   ]
  },
  {
   "cell_type": "markdown",
   "id": "51f47bfc",
   "metadata": {},
   "source": [
    "## <br> Quiz.6 </br>\n",
    "- 결석 횟수를 받아서 점수가 80점 이상인데 결석이 2번 이상이면 F, 나머지는 점수대로"
   ]
  },
  {
   "cell_type": "code",
   "execution_count": 6,
   "id": "3583f4da",
   "metadata": {},
   "outputs": [
    {
     "name": "stdout",
     "output_type": "stream",
     "text": [
      "점수를 입력해주세요: 86\n",
      "결석한 횟수를 입력해주세요: 3\n",
      "학점은 F입니다.\n"
     ]
    }
   ],
   "source": [
    "# Quiz.6 풀이\n",
    "\n",
    "score = int(input('점수를 입력해주세요: '))\n",
    "absence = int(input('결석한 횟수를 입력해주세요: '))\n",
    "result = None\n",
    "\n",
    "if score >= 90:\n",
    "    result = 'A'\n",
    "elif score >= 80:\n",
    "    result = 'B'\n",
    "elif score >= 70:\n",
    "    result = 'C'\n",
    "else :\n",
    "    result = 'D'\n",
    "\n",
    "if score >= 80 and absence >= 2 :\n",
    "    result = 'F'\n",
    "    \n",
    "print(f\"학점은 {result}입니다.\")"
   ]
  }
 ],
 "metadata": {
  "kernelspec": {
   "display_name": "Python 3 (ipykernel)",
   "language": "python",
   "name": "python3"
  },
  "language_info": {
   "codemirror_mode": {
    "name": "ipython",
    "version": 3
   },
   "file_extension": ".py",
   "mimetype": "text/x-python",
   "name": "python",
   "nbconvert_exporter": "python",
   "pygments_lexer": "ipython3",
   "version": "3.9.7"
  }
 },
 "nbformat": 4,
 "nbformat_minor": 5
}
