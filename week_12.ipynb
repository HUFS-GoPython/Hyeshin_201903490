{
 "cells": [
  {
   "cell_type": "markdown",
   "id": "d815f06b",
   "metadata": {},
   "source": [
    "# week_12"
   ]
  },
  {
   "cell_type": "markdown",
   "id": "fd809162",
   "metadata": {},
   "source": [
    "<br>"
   ]
  },
  {
   "cell_type": "markdown",
   "id": "57762e18",
   "metadata": {},
   "source": [
    "## Store, Item, Customer \n",
    "\n",
    "- 서로 상속할만한 애들이 아니다.\n",
    "- Has-a 관계임"
   ]
  },
  {
   "cell_type": "code",
   "execution_count": null,
   "id": "9f1c7229",
   "metadata": {},
   "outputs": [],
   "source": [
    "class Person:\n",
    "    pass\n",
    "\n",
    "class Customer(Person): # 이건 is-a의 경우. \n",
    "    pass\n",
    "\n",
    "\n",
    "class Store:\n",
    "    def __init__(customer):\n",
    "        self.customer = customer # Customer타입, customer를 가지고 있음, has-a 임\n",
    "        self.item = item\n",
    "        self.item_list = self.item.name, self.item.price\n",
    "        \n",
    "class Product:\n",
    "    name = 'name'\n",
    "    cnt = 'cnt'\n",
    "    price = 'price'\n",
    "    "
   ]
  },
  {
   "cell_type": "markdown",
   "id": "9d07d088",
   "metadata": {},
   "source": [
    "<br>"
   ]
  },
  {
   "cell_type": "markdown",
   "id": "7225ad89",
   "metadata": {},
   "source": [
    "## 매직 메소드\n",
    "\n",
    "- special method\n",
    "- str, repr"
   ]
  },
  {
   "cell_type": "code",
   "execution_count": 8,
   "id": "cbb7ea2a",
   "metadata": {},
   "outputs": [
    {
     "data": {
      "text/plain": [
       "Customer(kim)"
      ]
     },
     "execution_count": 8,
     "metadata": {},
     "output_type": "execute_result"
    }
   ],
   "source": [
    "class Customer:\n",
    "    def __init__(self, name):\n",
    "        self.name = name\n",
    "        \n",
    "    def __str__(self): # 오버라이딩 \n",
    "        # print() 함수로 나온 출력값을 변경하는 것\n",
    "        return self.name\n",
    "    \n",
    "    def __repr__(self): #오버라이딩\n",
    "        # 설정 안하면 __str__과 동일함\n",
    "        # 인스턴스를 출력하는 방식임 ==> 사용자가 이해하는 객체의 모습을 표현함\n",
    "        return f'Customer({self.name})'\n",
    "    \n",
    "c = Customer('kim')\n",
    "c"
   ]
  },
  {
   "cell_type": "code",
   "execution_count": 9,
   "id": "eb6895c9",
   "metadata": {},
   "outputs": [
    {
     "data": {
      "text/plain": [
       "'Customer(kim)'"
      ]
     },
     "execution_count": 9,
     "metadata": {},
     "output_type": "execute_result"
    }
   ],
   "source": [
    "repr(c)"
   ]
  },
  {
   "cell_type": "code",
   "execution_count": 10,
   "id": "ad3b5e46",
   "metadata": {},
   "outputs": [
    {
     "data": {
      "text/plain": [
       "'kim'"
      ]
     },
     "execution_count": 10,
     "metadata": {},
     "output_type": "execute_result"
    }
   ],
   "source": [
    "str(c)"
   ]
  },
  {
   "cell_type": "markdown",
   "id": "a28a77b0",
   "metadata": {},
   "source": [
    "<br>"
   ]
  },
  {
   "cell_type": "markdown",
   "id": "43812e51",
   "metadata": {},
   "source": [
    "<br>"
   ]
  },
  {
   "cell_type": "markdown",
   "id": "f198b9a3",
   "metadata": {},
   "source": [
    "## NamedTuple, DataClass\n",
    "- 불변객체임\n",
    "- 좀 더 단순하게 만들 수 있는 라이브러리\n",
    "- 객체보다 효율적임(간단한 속성만 가진 클래스일 경우 활용)\n",
    "- 딕셔너리의 키처럼 사용 가능함"
   ]
  },
  {
   "cell_type": "code",
   "execution_count": 13,
   "id": "a1acaa0d",
   "metadata": {},
   "outputs": [
    {
     "data": {
      "text/plain": [
       "('lee', 44)"
      ]
     },
     "execution_count": 13,
     "metadata": {},
     "output_type": "execute_result"
    }
   ],
   "source": [
    "from collections import namedtuple\n",
    "\n",
    "Customer = namedtuple('Customer', 'name age') #이렇게 하면 객체 끝\n",
    "\n",
    "a = Customer('lee', 44)\n",
    "a.name, a.age"
   ]
  },
  {
   "cell_type": "code",
   "execution_count": 18,
   "id": "f33ad224",
   "metadata": {},
   "outputs": [
    {
     "data": {
      "text/plain": [
       "('hong', 88)"
      ]
     },
     "execution_count": 18,
     "metadata": {},
     "output_type": "execute_result"
    }
   ],
   "source": [
    "from dataclasses import dataclass  # 파이선 3.7이상에서만 가능\n",
    "\n",
    "@dataclass\n",
    "class Customer2:\n",
    "    name: str\n",
    "    age: int\n",
    "\n",
    "b = Customer2('hong', 88)\n",
    "b.name, b.age"
   ]
  },
  {
   "cell_type": "markdown",
   "id": "b1411c42",
   "metadata": {},
   "source": [
    "<br>"
   ]
  },
  {
   "cell_type": "markdown",
   "id": "6fc93859",
   "metadata": {},
   "source": [
    "## 함수2\n",
    "- asterisk, kargs\n",
    "- 일급객체\n",
    "- 내부함수, 클로저\n",
    "- 익명함수\n",
    "- 제너레이터\n",
    "- 재귀함수"
   ]
  },
  {
   "cell_type": "markdown",
   "id": "4e91a48b",
   "metadata": {},
   "source": [
    "### asterisk"
   ]
  },
  {
   "cell_type": "code",
   "execution_count": 19,
   "id": "6ae86b8e",
   "metadata": {},
   "outputs": [
    {
     "name": "stdout",
     "output_type": "stream",
     "text": [
      "(1, 2, 3, 4, 5, 6)\n"
     ]
    }
   ],
   "source": [
    "def print_arg(*args):  # 여러 개의 인자 받을 수 있음\n",
    "    print(args)\n",
    "    \n",
    "print_arg(1,2,3,4,5,6)"
   ]
  },
  {
   "cell_type": "code",
   "execution_count": 21,
   "id": "2e2b886f",
   "metadata": {},
   "outputs": [
    {
     "name": "stdout",
     "output_type": "stream",
     "text": [
      "1 2 3 4 5 6\n"
     ]
    }
   ],
   "source": [
    "def print_arg(*args):  # 여러 개의 인자 받을 수 있음\n",
    "    print(*args) # 여기에 *쓰면 unpackting 됨!!\n",
    "    \n",
    "print_arg(1,2,3,4,5,6)"
   ]
  },
  {
   "cell_type": "code",
   "execution_count": 22,
   "id": "a70f7d39",
   "metadata": {},
   "outputs": [
    {
     "name": "stdout",
     "output_type": "stream",
     "text": [
      "1 2\n",
      "hi optional\n"
     ]
    }
   ],
   "source": [
    "# 활용사례\n",
    "\n",
    "def print_more(num1, num2, *args):\n",
    "    print(num1, num2)\n",
    "    print(*args, 'optional')\n",
    "    \n",
    "print_more(1, 2, 'hi')"
   ]
  },
  {
   "cell_type": "code",
   "execution_count": 23,
   "id": "960858ca",
   "metadata": {},
   "outputs": [
    {
     "name": "stdout",
     "output_type": "stream",
     "text": [
      "0 1 2 3 4 5 6 7 8 9\n"
     ]
    }
   ],
   "source": [
    "empty = list(range(10))\n",
    "print(*empty)"
   ]
  },
  {
   "cell_type": "markdown",
   "id": "89473967",
   "metadata": {},
   "source": [
    "<br>"
   ]
  },
  {
   "cell_type": "markdown",
   "id": "245c1eb5",
   "metadata": {},
   "source": [
    "#### 행렬, 테이블 데이터"
   ]
  },
  {
   "cell_type": "code",
   "execution_count": 24,
   "id": "388a1bf2",
   "metadata": {},
   "outputs": [
    {
     "name": "stdout",
     "output_type": "stream",
     "text": [
      "(1, 3, 5)\n",
      "(2, 4, 6)\n"
     ]
    }
   ],
   "source": [
    "matrix = [\n",
    "    [1, 2],\n",
    "    [3, 4],\n",
    "    [5, 6] \n",
    "]\n",
    "\n",
    "# 1, 3, 5 / 2, 4, 6 열만 타고 싶다\n",
    "for item in zip(*matrix):\n",
    "    print(item)"
   ]
  },
  {
   "cell_type": "code",
   "execution_count": 25,
   "id": "f63fad9b",
   "metadata": {},
   "outputs": [
    {
     "name": "stdout",
     "output_type": "stream",
     "text": [
      "(1, 3, 5)\n",
      "(2, 4, 6)\n"
     ]
    }
   ],
   "source": [
    "for item in zip([1, 2], [3, 4], [5, 6]):\n",
    "    print(item)"
   ]
  },
  {
   "cell_type": "markdown",
   "id": "c84d09bd",
   "metadata": {},
   "source": [
    "<br>"
   ]
  },
  {
   "cell_type": "markdown",
   "id": "93baa10a",
   "metadata": {},
   "source": [
    "#### 키워드 전용 인수 선언"
   ]
  },
  {
   "cell_type": "code",
   "execution_count": 26,
   "id": "88328294",
   "metadata": {},
   "outputs": [
    {
     "name": "stdout",
     "output_type": "stream",
     "text": [
      "0\n",
      "1\n",
      "2\n",
      "3\n"
     ]
    }
   ],
   "source": [
    "def print_data(data, start, end):\n",
    "    for item in data[start:end]:\n",
    "        print(item)\n",
    "        \n",
    "print_data(empty, start=0, end=4)"
   ]
  },
  {
   "cell_type": "code",
   "execution_count": 28,
   "id": "464358d8",
   "metadata": {},
   "outputs": [
    {
     "ename": "TypeError",
     "evalue": "print_data() takes 1 positional argument but 3 were given",
     "output_type": "error",
     "traceback": [
      "\u001b[1;31m---------------------------------------------------------------------------\u001b[0m",
      "\u001b[1;31mTypeError\u001b[0m                                 Traceback (most recent call last)",
      "\u001b[1;32m~\\AppData\\Local\\Temp/ipykernel_8392/3319918872.py\u001b[0m in \u001b[0;36m<module>\u001b[1;34m\u001b[0m\n\u001b[0;32m      3\u001b[0m         \u001b[0mprint\u001b[0m\u001b[1;33m(\u001b[0m\u001b[0mitem\u001b[0m\u001b[1;33m)\u001b[0m\u001b[1;33m\u001b[0m\u001b[1;33m\u001b[0m\u001b[0m\n\u001b[0;32m      4\u001b[0m \u001b[1;33m\u001b[0m\u001b[0m\n\u001b[1;32m----> 5\u001b[1;33m \u001b[0mprint_data\u001b[0m\u001b[1;33m(\u001b[0m\u001b[0mempty\u001b[0m\u001b[1;33m,\u001b[0m \u001b[1;36m0\u001b[0m\u001b[1;33m,\u001b[0m \u001b[1;36m1\u001b[0m\u001b[1;33m)\u001b[0m\u001b[1;33m\u001b[0m\u001b[1;33m\u001b[0m\u001b[0m\n\u001b[0m",
      "\u001b[1;31mTypeError\u001b[0m: print_data() takes 1 positional argument but 3 were given"
     ]
    }
   ],
   "source": [
    "def print_data(data, *, start, end):\n",
    "    for item in data[start:end]:\n",
    "        print(item)\n",
    "        \n",
    "print_data(empty, 0, 1)"
   ]
  },
  {
   "cell_type": "code",
   "execution_count": 30,
   "id": "630ea20a",
   "metadata": {},
   "outputs": [
    {
     "name": "stdout",
     "output_type": "stream",
     "text": [
      "0\n",
      "1\n",
      "2\n",
      "3\n"
     ]
    }
   ],
   "source": [
    "def print_data(data, *, start, end):\n",
    "    for item in data[start:end]:\n",
    "        print(item)\n",
    "        \n",
    "print_data(empty, start=0, end=4)"
   ]
  },
  {
   "cell_type": "markdown",
   "id": "b357ff18",
   "metadata": {},
   "source": [
    "<br>"
   ]
  },
  {
   "cell_type": "markdown",
   "id": "c6bd9498",
   "metadata": {},
   "source": [
    "#### kargs: **"
   ]
  },
  {
   "cell_type": "code",
   "execution_count": 32,
   "id": "5c0cddb7",
   "metadata": {},
   "outputs": [
    {
     "name": "stdout",
     "output_type": "stream",
     "text": [
      "{'wine': 'crianza', 'drink': 'water'}\n"
     ]
    }
   ],
   "source": [
    "def print_kargs(**kargs): # 키: 값 ==> 딕셔너리로 반환\n",
    "    print(kargs)  # 얘는 unpacking은 안됨!!\n",
    "    \n",
    "print_kargs(wine= 'crianza', drink= 'water')"
   ]
  },
  {
   "cell_type": "code",
   "execution_count": 33,
   "id": "3a8958ec",
   "metadata": {},
   "outputs": [
    {
     "name": "stdout",
     "output_type": "stream",
     "text": [
      "{'wine': 'a', 'drink': 'water'}\n",
      "{'wine': 'b', 'drink': 'water'}\n",
      "{'wine': 'c', 'drink': 'water'}\n"
     ]
    }
   ],
   "source": [
    "for wine in ['a', 'b', 'c']:\n",
    "    print_kargs(wine=wine, drink='water')"
   ]
  },
  {
   "cell_type": "code",
   "execution_count": 34,
   "id": "c93be20b",
   "metadata": {},
   "outputs": [
    {
     "ename": "TypeError",
     "evalue": "print_all() got multiple values for argument 'num1'",
     "output_type": "error",
     "traceback": [
      "\u001b[1;31m---------------------------------------------------------------------------\u001b[0m",
      "\u001b[1;31mTypeError\u001b[0m                                 Traceback (most recent call last)",
      "\u001b[1;32m~\\AppData\\Local\\Temp/ipykernel_8392/4271123986.py\u001b[0m in \u001b[0;36m<module>\u001b[1;34m\u001b[0m\n\u001b[0;32m      4\u001b[0m     \u001b[0mprint\u001b[0m\u001b[1;33m(\u001b[0m\u001b[0mkargs\u001b[0m\u001b[1;33m)\u001b[0m\u001b[1;33m\u001b[0m\u001b[1;33m\u001b[0m\u001b[0m\n\u001b[0;32m      5\u001b[0m \u001b[1;33m\u001b[0m\u001b[0m\n\u001b[1;32m----> 6\u001b[1;33m \u001b[0mprint_all\u001b[0m\u001b[1;33m(\u001b[0m\u001b[1;36m1\u001b[0m\u001b[1;33m,\u001b[0m\u001b[1;36m2\u001b[0m\u001b[1;33m,\u001b[0m\u001b[1;36m3\u001b[0m\u001b[1;33m,\u001b[0m\u001b[1;36m4\u001b[0m\u001b[1;33m,\u001b[0m\u001b[1;36m5\u001b[0m\u001b[1;33m,\u001b[0m\u001b[1;36m6\u001b[0m\u001b[1;33m,\u001b[0m \u001b[0mnum1\u001b[0m\u001b[1;33m=\u001b[0m\u001b[1;36m4\u001b[0m\u001b[1;33m,\u001b[0m \u001b[0mnum2\u001b[0m\u001b[1;33m=\u001b[0m\u001b[1;36m4\u001b[0m\u001b[1;33m)\u001b[0m \u001b[1;31m# 이러면 오류\u001b[0m\u001b[1;33m\u001b[0m\u001b[1;33m\u001b[0m\u001b[0m\n\u001b[0m",
      "\u001b[1;31mTypeError\u001b[0m: print_all() got multiple values for argument 'num1'"
     ]
    }
   ],
   "source": [
    "def print_all(num1, num2, *args, **kargs):\n",
    "    print(num1, num2)\n",
    "    print(sum(args))\n",
    "    print(kargs)\n",
    "    \n",
    "print_all(1,2,3,4,5,6, num1=4, num2=4) # 이러면 오류"
   ]
  },
  {
   "cell_type": "code",
   "execution_count": 35,
   "id": "fc5c537c",
   "metadata": {},
   "outputs": [
    {
     "name": "stdout",
     "output_type": "stream",
     "text": [
      "1 2\n",
      "18\n",
      "{'num': 4}\n"
     ]
    }
   ],
   "source": [
    "def print_all(num1, num2, *args, **kargs):\n",
    "    print(num1, num2)\n",
    "    print(sum(args))\n",
    "    print(kargs)\n",
    "    \n",
    "print_all(1,2,3,4,5,6, num=4) "
   ]
  },
  {
   "cell_type": "markdown",
   "id": "2a9caefe",
   "metadata": {},
   "source": [
    "<br>"
   ]
  },
  {
   "cell_type": "markdown",
   "id": "465069c7",
   "metadata": {},
   "source": [
    "#### 딕셔너리 조인"
   ]
  },
  {
   "cell_type": "code",
   "execution_count": 38,
   "id": "92df59de",
   "metadata": {},
   "outputs": [],
   "source": [
    "a = {1:'a', 2:'b'}\n",
    "b = {2:'c', 3:'d'}\n",
    "c = {**a, **b}"
   ]
  }
 ],
 "metadata": {
  "kernelspec": {
   "display_name": "Python 3 (ipykernel)",
   "language": "python",
   "name": "python3"
  },
  "language_info": {
   "codemirror_mode": {
    "name": "ipython",
    "version": 3
   },
   "file_extension": ".py",
   "mimetype": "text/x-python",
   "name": "python",
   "nbconvert_exporter": "python",
   "pygments_lexer": "ipython3",
   "version": "3.9.7"
  }
 },
 "nbformat": 4,
 "nbformat_minor": 5
}
